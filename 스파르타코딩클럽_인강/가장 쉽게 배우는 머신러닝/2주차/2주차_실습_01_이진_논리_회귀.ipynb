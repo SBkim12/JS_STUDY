{
  "nbformat": 4,
  "nbformat_minor": 2,
  "metadata": {
    "colab": {
      "name": "2주차 실습 - 01. 이진 논리 회귀의 사본",
      "provenance": [],
      "collapsed_sections": [],
      "toc_visible": true
    },
    "kernelspec": {
      "name": "python3",
      "display_name": "Python 3"
    }
  },
  "cells": [
    {
      "cell_type": "markdown",
      "source": [
        "# 데이터셋 다운로드\r\n",
        "\r\n",
        "타이타닉 데이터셋: https://www.kaggle.com/heptapod/titanic"
      ],
      "metadata": {
        "id": "P25KQA-p43Ev"
      }
    },
    {
      "cell_type": "code",
      "execution_count": 9,
      "source": [
        "import os\r\n",
        "os.environ['KAGGLE_USERNAME'] = 'kairess' # username\r\n",
        "os.environ['KAGGLE_KEY'] = '7d0443b2dfffc57c94271fd797511896' # key"
      ],
      "outputs": [],
      "metadata": {
        "id": "wM_sZdYLyrPG"
      }
    },
    {
      "cell_type": "code",
      "execution_count": 10,
      "source": [
        "!kaggle datasets download -d heptapod/titanic"
      ],
      "outputs": [
        {
          "output_type": "stream",
          "name": "stdout",
          "text": [
            "Downloading titanic.zip to c:\\Users\\wleo5\\Desktop\\TIL\\스파르타코딩클럽_인강\\가장 쉽게 배우는 머신러닝\\2주차\n",
            "\n"
          ]
        },
        {
          "output_type": "stream",
          "name": "stderr",
          "text": [
            "\n",
            "  0%|          | 0.00/10.8k [00:00<?, ?B/s]\n",
            "100%|██████████| 10.8k/10.8k [00:00<00:00, 5.56MB/s]\n"
          ]
        }
      ],
      "metadata": {
        "id": "4Rgbaw5Uyu60",
        "colab": {
          "base_uri": "https://localhost:8080/"
        },
        "outputId": "24516131-e076-41ab-bb69-1f7d7c0cc786"
      }
    },
    {
      "cell_type": "code",
      "execution_count": 11,
      "source": [
        "!unzip titanic.zip"
      ],
      "outputs": [
        {
          "output_type": "stream",
          "name": "stdout",
          "text": [
            "Archive:  titanic.zip\n",
            "  inflating: train_and_test2.csv     \n"
          ]
        }
      ],
      "metadata": {
        "id": "hJ0BOlwJyyCp",
        "colab": {
          "base_uri": "https://localhost:8080/"
        },
        "outputId": "93ec9aa9-aa4c-4327-dd62-e1a8318d8971"
      }
    },
    {
      "cell_type": "code",
      "execution_count": 13,
      "source": [
        "from tensorflow.keras.models import Sequential\r\n",
        "from tensorflow.keras.layers import Dense\r\n",
        "from tensorflow.keras.optimizers import Adam, SGD\r\n",
        "import numpy as np\r\n",
        "import pandas as pd\r\n",
        "import matplotlib.pyplot as plt \r\n",
        "import seaborn as sns\r\n",
        "from sklearn.model_selection import train_test_split\r\n",
        "from sklearn.preprocessing import StandardScaler"
      ],
      "outputs": [],
      "metadata": {
        "id": "2ASLmR4Gy1EA"
      }
    },
    {
      "cell_type": "markdown",
      "source": [
        "# 데이터셋 로드"
      ],
      "metadata": {
        "id": "VmA5477o5FDq"
      }
    },
    {
      "cell_type": "code",
      "execution_count": 14,
      "source": [
        "df = pd.read_csv('train_and_test2.csv')\r\n",
        "\r\n",
        "df.head(5)"
      ],
      "outputs": [
        {
          "output_type": "execute_result",
          "data": {
            "text/plain": [
              "   Passengerid   Age     Fare  Sex  sibsp  zero  zero.1  zero.2  zero.3  \\\n",
              "0            1  22.0   7.2500    0      1     0       0       0       0   \n",
              "1            2  38.0  71.2833    1      1     0       0       0       0   \n",
              "2            3  26.0   7.9250    1      0     0       0       0       0   \n",
              "3            4  35.0  53.1000    1      1     0       0       0       0   \n",
              "4            5  35.0   8.0500    0      0     0       0       0       0   \n",
              "\n",
              "   zero.4  ...  zero.12  zero.13  zero.14  Pclass  zero.15  zero.16  Embarked  \\\n",
              "0       0  ...        0        0        0       3        0        0       2.0   \n",
              "1       0  ...        0        0        0       1        0        0       0.0   \n",
              "2       0  ...        0        0        0       3        0        0       2.0   \n",
              "3       0  ...        0        0        0       1        0        0       2.0   \n",
              "4       0  ...        0        0        0       3        0        0       2.0   \n",
              "\n",
              "   zero.17  zero.18  2urvived  \n",
              "0        0        0         0  \n",
              "1        0        0         1  \n",
              "2        0        0         1  \n",
              "3        0        0         1  \n",
              "4        0        0         0  \n",
              "\n",
              "[5 rows x 28 columns]"
            ],
            "text/html": [
              "<div>\n",
              "<style scoped>\n",
              "    .dataframe tbody tr th:only-of-type {\n",
              "        vertical-align: middle;\n",
              "    }\n",
              "\n",
              "    .dataframe tbody tr th {\n",
              "        vertical-align: top;\n",
              "    }\n",
              "\n",
              "    .dataframe thead th {\n",
              "        text-align: right;\n",
              "    }\n",
              "</style>\n",
              "<table border=\"1\" class=\"dataframe\">\n",
              "  <thead>\n",
              "    <tr style=\"text-align: right;\">\n",
              "      <th></th>\n",
              "      <th>Passengerid</th>\n",
              "      <th>Age</th>\n",
              "      <th>Fare</th>\n",
              "      <th>Sex</th>\n",
              "      <th>sibsp</th>\n",
              "      <th>zero</th>\n",
              "      <th>zero.1</th>\n",
              "      <th>zero.2</th>\n",
              "      <th>zero.3</th>\n",
              "      <th>zero.4</th>\n",
              "      <th>...</th>\n",
              "      <th>zero.12</th>\n",
              "      <th>zero.13</th>\n",
              "      <th>zero.14</th>\n",
              "      <th>Pclass</th>\n",
              "      <th>zero.15</th>\n",
              "      <th>zero.16</th>\n",
              "      <th>Embarked</th>\n",
              "      <th>zero.17</th>\n",
              "      <th>zero.18</th>\n",
              "      <th>2urvived</th>\n",
              "    </tr>\n",
              "  </thead>\n",
              "  <tbody>\n",
              "    <tr>\n",
              "      <th>0</th>\n",
              "      <td>1</td>\n",
              "      <td>22.0</td>\n",
              "      <td>7.2500</td>\n",
              "      <td>0</td>\n",
              "      <td>1</td>\n",
              "      <td>0</td>\n",
              "      <td>0</td>\n",
              "      <td>0</td>\n",
              "      <td>0</td>\n",
              "      <td>0</td>\n",
              "      <td>...</td>\n",
              "      <td>0</td>\n",
              "      <td>0</td>\n",
              "      <td>0</td>\n",
              "      <td>3</td>\n",
              "      <td>0</td>\n",
              "      <td>0</td>\n",
              "      <td>2.0</td>\n",
              "      <td>0</td>\n",
              "      <td>0</td>\n",
              "      <td>0</td>\n",
              "    </tr>\n",
              "    <tr>\n",
              "      <th>1</th>\n",
              "      <td>2</td>\n",
              "      <td>38.0</td>\n",
              "      <td>71.2833</td>\n",
              "      <td>1</td>\n",
              "      <td>1</td>\n",
              "      <td>0</td>\n",
              "      <td>0</td>\n",
              "      <td>0</td>\n",
              "      <td>0</td>\n",
              "      <td>0</td>\n",
              "      <td>...</td>\n",
              "      <td>0</td>\n",
              "      <td>0</td>\n",
              "      <td>0</td>\n",
              "      <td>1</td>\n",
              "      <td>0</td>\n",
              "      <td>0</td>\n",
              "      <td>0.0</td>\n",
              "      <td>0</td>\n",
              "      <td>0</td>\n",
              "      <td>1</td>\n",
              "    </tr>\n",
              "    <tr>\n",
              "      <th>2</th>\n",
              "      <td>3</td>\n",
              "      <td>26.0</td>\n",
              "      <td>7.9250</td>\n",
              "      <td>1</td>\n",
              "      <td>0</td>\n",
              "      <td>0</td>\n",
              "      <td>0</td>\n",
              "      <td>0</td>\n",
              "      <td>0</td>\n",
              "      <td>0</td>\n",
              "      <td>...</td>\n",
              "      <td>0</td>\n",
              "      <td>0</td>\n",
              "      <td>0</td>\n",
              "      <td>3</td>\n",
              "      <td>0</td>\n",
              "      <td>0</td>\n",
              "      <td>2.0</td>\n",
              "      <td>0</td>\n",
              "      <td>0</td>\n",
              "      <td>1</td>\n",
              "    </tr>\n",
              "    <tr>\n",
              "      <th>3</th>\n",
              "      <td>4</td>\n",
              "      <td>35.0</td>\n",
              "      <td>53.1000</td>\n",
              "      <td>1</td>\n",
              "      <td>1</td>\n",
              "      <td>0</td>\n",
              "      <td>0</td>\n",
              "      <td>0</td>\n",
              "      <td>0</td>\n",
              "      <td>0</td>\n",
              "      <td>...</td>\n",
              "      <td>0</td>\n",
              "      <td>0</td>\n",
              "      <td>0</td>\n",
              "      <td>1</td>\n",
              "      <td>0</td>\n",
              "      <td>0</td>\n",
              "      <td>2.0</td>\n",
              "      <td>0</td>\n",
              "      <td>0</td>\n",
              "      <td>1</td>\n",
              "    </tr>\n",
              "    <tr>\n",
              "      <th>4</th>\n",
              "      <td>5</td>\n",
              "      <td>35.0</td>\n",
              "      <td>8.0500</td>\n",
              "      <td>0</td>\n",
              "      <td>0</td>\n",
              "      <td>0</td>\n",
              "      <td>0</td>\n",
              "      <td>0</td>\n",
              "      <td>0</td>\n",
              "      <td>0</td>\n",
              "      <td>...</td>\n",
              "      <td>0</td>\n",
              "      <td>0</td>\n",
              "      <td>0</td>\n",
              "      <td>3</td>\n",
              "      <td>0</td>\n",
              "      <td>0</td>\n",
              "      <td>2.0</td>\n",
              "      <td>0</td>\n",
              "      <td>0</td>\n",
              "      <td>0</td>\n",
              "    </tr>\n",
              "  </tbody>\n",
              "</table>\n",
              "<p>5 rows × 28 columns</p>\n",
              "</div>"
            ]
          },
          "metadata": {},
          "execution_count": 14
        }
      ],
      "metadata": {
        "id": "_QeMWOyz4oZh",
        "colab": {
          "base_uri": "https://localhost:8080/",
          "height": 222
        },
        "outputId": "21f9bdc1-1c7b-4460-cdae-59b7660f053e"
      }
    },
    {
      "cell_type": "markdown",
      "source": [
        "# 사용하는 칼럼만 추출"
      ],
      "metadata": {
        "id": "9L88vfF15HJG"
      }
    },
    {
      "cell_type": "code",
      "execution_count": 15,
      "source": [
        "df = pd.read_csv('train_and_test2.csv', usecols=[\r\n",
        "  'Age', # 나이\r\n",
        "  'Fare', # 승차 요금\r\n",
        "  'Sex', # 성별\r\n",
        "  'sibsp', # 타이타닉에 탑승한 형제자매, 배우자의 수\r\n",
        "  'Parch', # 타이타니게 탑승한 부모, 자식의 수\r\n",
        "  'Pclass', # 티켓 등급 (1, 2, 3등석)\r\n",
        "  'Embarked', # 탑승국\r\n",
        "  '2urvived' # 생존 여부 (0: 사망, 1: 생존)\r\n",
        "])\r\n",
        "\r\n",
        "df.head(5)"
      ],
      "outputs": [
        {
          "output_type": "execute_result",
          "data": {
            "text/plain": [
              "    Age     Fare  Sex  sibsp  Parch  Pclass  Embarked  2urvived\n",
              "0  22.0   7.2500    0      1      0       3       2.0         0\n",
              "1  38.0  71.2833    1      1      0       1       0.0         1\n",
              "2  26.0   7.9250    1      0      0       3       2.0         1\n",
              "3  35.0  53.1000    1      1      0       1       2.0         1\n",
              "4  35.0   8.0500    0      0      0       3       2.0         0"
            ],
            "text/html": [
              "<div>\n",
              "<style scoped>\n",
              "    .dataframe tbody tr th:only-of-type {\n",
              "        vertical-align: middle;\n",
              "    }\n",
              "\n",
              "    .dataframe tbody tr th {\n",
              "        vertical-align: top;\n",
              "    }\n",
              "\n",
              "    .dataframe thead th {\n",
              "        text-align: right;\n",
              "    }\n",
              "</style>\n",
              "<table border=\"1\" class=\"dataframe\">\n",
              "  <thead>\n",
              "    <tr style=\"text-align: right;\">\n",
              "      <th></th>\n",
              "      <th>Age</th>\n",
              "      <th>Fare</th>\n",
              "      <th>Sex</th>\n",
              "      <th>sibsp</th>\n",
              "      <th>Parch</th>\n",
              "      <th>Pclass</th>\n",
              "      <th>Embarked</th>\n",
              "      <th>2urvived</th>\n",
              "    </tr>\n",
              "  </thead>\n",
              "  <tbody>\n",
              "    <tr>\n",
              "      <th>0</th>\n",
              "      <td>22.0</td>\n",
              "      <td>7.2500</td>\n",
              "      <td>0</td>\n",
              "      <td>1</td>\n",
              "      <td>0</td>\n",
              "      <td>3</td>\n",
              "      <td>2.0</td>\n",
              "      <td>0</td>\n",
              "    </tr>\n",
              "    <tr>\n",
              "      <th>1</th>\n",
              "      <td>38.0</td>\n",
              "      <td>71.2833</td>\n",
              "      <td>1</td>\n",
              "      <td>1</td>\n",
              "      <td>0</td>\n",
              "      <td>1</td>\n",
              "      <td>0.0</td>\n",
              "      <td>1</td>\n",
              "    </tr>\n",
              "    <tr>\n",
              "      <th>2</th>\n",
              "      <td>26.0</td>\n",
              "      <td>7.9250</td>\n",
              "      <td>1</td>\n",
              "      <td>0</td>\n",
              "      <td>0</td>\n",
              "      <td>3</td>\n",
              "      <td>2.0</td>\n",
              "      <td>1</td>\n",
              "    </tr>\n",
              "    <tr>\n",
              "      <th>3</th>\n",
              "      <td>35.0</td>\n",
              "      <td>53.1000</td>\n",
              "      <td>1</td>\n",
              "      <td>1</td>\n",
              "      <td>0</td>\n",
              "      <td>1</td>\n",
              "      <td>2.0</td>\n",
              "      <td>1</td>\n",
              "    </tr>\n",
              "    <tr>\n",
              "      <th>4</th>\n",
              "      <td>35.0</td>\n",
              "      <td>8.0500</td>\n",
              "      <td>0</td>\n",
              "      <td>0</td>\n",
              "      <td>0</td>\n",
              "      <td>3</td>\n",
              "      <td>2.0</td>\n",
              "      <td>0</td>\n",
              "    </tr>\n",
              "  </tbody>\n",
              "</table>\n",
              "</div>"
            ]
          },
          "metadata": {},
          "execution_count": 15
        }
      ],
      "metadata": {
        "id": "zLbHlK1oy3t-",
        "colab": {
          "base_uri": "https://localhost:8080/",
          "height": 202
        },
        "outputId": "a2cfc8e8-dd10-439a-ebac-7bd65abc44fa"
      }
    },
    {
      "cell_type": "markdown",
      "source": [
        "# 간단하게 데이터셋 미리보기\n",
        "\n",
        "성별에 따른 생존자 수"
      ],
      "metadata": {
        "id": "Z0apZfFLIqGg"
      }
    },
    {
      "cell_type": "code",
      "execution_count": 16,
      "source": [
        "sns.countplot(x='Sex', hue='2urvived', data=df)"
      ],
      "outputs": [
        {
          "output_type": "execute_result",
          "data": {
            "text/plain": [
              "<AxesSubplot:xlabel='Sex', ylabel='count'>"
            ]
          },
          "metadata": {},
          "execution_count": 16
        },
        {
          "output_type": "display_data",
          "data": {
            "text/plain": [
              "<Figure size 432x288 with 1 Axes>"
            ],
            "image/png": "[encoded data removed]"
          },
          "metadata": {
            "needs_background": "light"
          }
        }
      ],
      "metadata": {
        "id": "qhzg_8_5IsLC",
        "colab": {
          "base_uri": "https://localhost:8080/",
          "height": 297
        },
        "outputId": "5dbf838d-dd58-4a7e-ecde-e893b4ec7600"
      }
    },
    {
      "cell_type": "markdown",
      "source": [
        "# 생존여부 클래스의 개수 확인"
      ],
      "metadata": {
        "id": "tgMzlMeW5Luq"
      }
    },
    {
      "cell_type": "code",
      "execution_count": 17,
      "source": [
        "sns.countplot(x=df['2urvived'])"
      ],
      "outputs": [
        {
          "output_type": "execute_result",
          "data": {
            "text/plain": [
              "<AxesSubplot:xlabel='2urvived', ylabel='count'>"
            ]
          },
          "metadata": {},
          "execution_count": 17
        },
        {
          "output_type": "display_data",
          "data": {
            "text/plain": [
              "<Figure size 432x288 with 1 Axes>"
            ],
            "image/png": "[encoded data removed]"
          },
          "metadata": {
            "needs_background": "light"
          }
        }
      ],
      "metadata": {
        "colab": {
          "base_uri": "https://localhost:8080/",
          "height": 298
        },
        "id": "fAeYupYay9yd",
        "outputId": "0bb8300b-1847-4fc1-955c-1a60fa480fcf"
      }
    },
    {
      "cell_type": "markdown",
      "source": [
        "# 전처리 (Preprocessing)\n",
        "\n",
        "## 비어있는 행 확인\n",
        "\n",
        "1. 비어있는 값(null 또는 na)이 있는지 확인하고,\n",
        "2. 비어있는 값을 포함한 행을 제거한다"
      ],
      "metadata": {
        "id": "tGrwmr3y5TEs"
      }
    },
    {
      "cell_type": "code",
      "execution_count": 18,
      "source": [
        "print(df.isnull().sum())"
      ],
      "outputs": [
        {
          "output_type": "stream",
          "name": "stdout",
          "text": [
            "Age         0\n",
            "Fare        0\n",
            "Sex         0\n",
            "sibsp       0\n",
            "Parch       0\n",
            "Pclass      0\n",
            "Embarked    2\n",
            "2urvived    0\n",
            "dtype: int64\n"
          ]
        }
      ],
      "metadata": {
        "colab": {
          "base_uri": "https://localhost:8080/"
        },
        "id": "IeBCNa8g4yS5",
        "outputId": "94fc6df7-e76e-4c98-b78c-34baa3024c11"
      }
    },
    {
      "cell_type": "code",
      "execution_count": 19,
      "source": [
        "print(len(df))\r\n",
        "\r\n",
        "# null값 이 있는 승객 정보 삭제\r\n",
        "df = df.dropna()\r\n",
        "\r\n",
        "print(len(df))"
      ],
      "outputs": [
        {
          "output_type": "stream",
          "name": "stdout",
          "text": [
            "1309\n",
            "1307\n"
          ]
        }
      ],
      "metadata": {
        "colab": {
          "base_uri": "https://localhost:8080/"
        },
        "id": "77JPnZbM5fov",
        "outputId": "e20eef51-c575-46a1-fa3a-002459b36867"
      }
    },
    {
      "cell_type": "markdown",
      "source": [
        "## X, y 데이터 분할"
      ],
      "metadata": {
        "id": "HrAgK4qZ5mHP"
      }
    },
    {
      "cell_type": "code",
      "execution_count": 20,
      "source": [
        "x_data = df.drop(columns=['2urvived'], axis=1)\r\n",
        "x_data = x_data.astype(np.float32)\r\n",
        "\r\n",
        "x_data.head(5)"
      ],
      "outputs": [
        {
          "output_type": "execute_result",
          "data": {
            "text/plain": [
              "    Age       Fare  Sex  sibsp  Parch  Pclass  Embarked\n",
              "0  22.0   7.250000  0.0    1.0    0.0     3.0       2.0\n",
              "1  38.0  71.283302  1.0    1.0    0.0     1.0       0.0\n",
              "2  26.0   7.925000  1.0    0.0    0.0     3.0       2.0\n",
              "3  35.0  53.099998  1.0    1.0    0.0     1.0       2.0\n",
              "4  35.0   8.050000  0.0    0.0    0.0     3.0       2.0"
            ],
            "text/html": [
              "<div>\n",
              "<style scoped>\n",
              "    .dataframe tbody tr th:only-of-type {\n",
              "        vertical-align: middle;\n",
              "    }\n",
              "\n",
              "    .dataframe tbody tr th {\n",
              "        vertical-align: top;\n",
              "    }\n",
              "\n",
              "    .dataframe thead th {\n",
              "        text-align: right;\n",
              "    }\n",
              "</style>\n",
              "<table border=\"1\" class=\"dataframe\">\n",
              "  <thead>\n",
              "    <tr style=\"text-align: right;\">\n",
              "      <th></th>\n",
              "      <th>Age</th>\n",
              "      <th>Fare</th>\n",
              "      <th>Sex</th>\n",
              "      <th>sibsp</th>\n",
              "      <th>Parch</th>\n",
              "      <th>Pclass</th>\n",
              "      <th>Embarked</th>\n",
              "    </tr>\n",
              "  </thead>\n",
              "  <tbody>\n",
              "    <tr>\n",
              "      <th>0</th>\n",
              "      <td>22.0</td>\n",
              "      <td>7.250000</td>\n",
              "      <td>0.0</td>\n",
              "      <td>1.0</td>\n",
              "      <td>0.0</td>\n",
              "      <td>3.0</td>\n",
              "      <td>2.0</td>\n",
              "    </tr>\n",
              "    <tr>\n",
              "      <th>1</th>\n",
              "      <td>38.0</td>\n",
              "      <td>71.283302</td>\n",
              "      <td>1.0</td>\n",
              "      <td>1.0</td>\n",
              "      <td>0.0</td>\n",
              "      <td>1.0</td>\n",
              "      <td>0.0</td>\n",
              "    </tr>\n",
              "    <tr>\n",
              "      <th>2</th>\n",
              "      <td>26.0</td>\n",
              "      <td>7.925000</td>\n",
              "      <td>1.0</td>\n",
              "      <td>0.0</td>\n",
              "      <td>0.0</td>\n",
              "      <td>3.0</td>\n",
              "      <td>2.0</td>\n",
              "    </tr>\n",
              "    <tr>\n",
              "      <th>3</th>\n",
              "      <td>35.0</td>\n",
              "      <td>53.099998</td>\n",
              "      <td>1.0</td>\n",
              "      <td>1.0</td>\n",
              "      <td>0.0</td>\n",
              "      <td>1.0</td>\n",
              "      <td>2.0</td>\n",
              "    </tr>\n",
              "    <tr>\n",
              "      <th>4</th>\n",
              "      <td>35.0</td>\n",
              "      <td>8.050000</td>\n",
              "      <td>0.0</td>\n",
              "      <td>0.0</td>\n",
              "      <td>0.0</td>\n",
              "      <td>3.0</td>\n",
              "      <td>2.0</td>\n",
              "    </tr>\n",
              "  </tbody>\n",
              "</table>\n",
              "</div>"
            ]
          },
          "metadata": {},
          "execution_count": 20
        }
      ],
      "metadata": {
        "colab": {
          "base_uri": "https://localhost:8080/",
          "height": 202
        },
        "id": "8DHqVmqN0jLS",
        "outputId": "c7de5bec-3227-47de-853a-b1d70801456c"
      }
    },
    {
      "cell_type": "code",
      "execution_count": 21,
      "source": [
        "y_data = df[['2urvived']]\r\n",
        "y_data = y_data.astype(np.float32)\r\n",
        "\r\n",
        "y_data.head(5)"
      ],
      "outputs": [
        {
          "output_type": "execute_result",
          "data": {
            "text/plain": [
              "   2urvived\n",
              "0       0.0\n",
              "1       1.0\n",
              "2       1.0\n",
              "3       1.0\n",
              "4       0.0"
            ],
            "text/html": [
              "<div>\n",
              "<style scoped>\n",
              "    .dataframe tbody tr th:only-of-type {\n",
              "        vertical-align: middle;\n",
              "    }\n",
              "\n",
              "    .dataframe tbody tr th {\n",
              "        vertical-align: top;\n",
              "    }\n",
              "\n",
              "    .dataframe thead th {\n",
              "        text-align: right;\n",
              "    }\n",
              "</style>\n",
              "<table border=\"1\" class=\"dataframe\">\n",
              "  <thead>\n",
              "    <tr style=\"text-align: right;\">\n",
              "      <th></th>\n",
              "      <th>2urvived</th>\n",
              "    </tr>\n",
              "  </thead>\n",
              "  <tbody>\n",
              "    <tr>\n",
              "      <th>0</th>\n",
              "      <td>0.0</td>\n",
              "    </tr>\n",
              "    <tr>\n",
              "      <th>1</th>\n",
              "      <td>1.0</td>\n",
              "    </tr>\n",
              "    <tr>\n",
              "      <th>2</th>\n",
              "      <td>1.0</td>\n",
              "    </tr>\n",
              "    <tr>\n",
              "      <th>3</th>\n",
              "      <td>1.0</td>\n",
              "    </tr>\n",
              "    <tr>\n",
              "      <th>4</th>\n",
              "      <td>0.0</td>\n",
              "    </tr>\n",
              "  </tbody>\n",
              "</table>\n",
              "</div>"
            ]
          },
          "metadata": {},
          "execution_count": 21
        }
      ],
      "metadata": {
        "colab": {
          "base_uri": "https://localhost:8080/",
          "height": 202
        },
        "id": "FY6Wpaug0sz5",
        "outputId": "761103c5-452e-4848-8407-f6b78848d910"
      }
    },
    {
      "cell_type": "markdown",
      "source": [
        "## 표준화 (Standardization)\n",
        "\n",
        "https://scikit-learn.org/stable/modules/generated/sklearn.preprocessing.StandardScaler.html\n",
        "\n",
        "z = (x - u) / s\n",
        "\n",
        "z = (x - 평균) / 표준편차"
      ],
      "metadata": {
        "id": "GGG7GirU5qsy"
      }
    },
    {
      "cell_type": "code",
      "execution_count": 22,
      "source": [
        "scaler = StandardScaler()\r\n",
        "x_data_scaled = scaler.fit_transform(x_data)\r\n",
        "\r\n",
        "print(x_data.values[0])\r\n",
        "print(x_data_scaled[0])"
      ],
      "outputs": [
        {
          "output_type": "stream",
          "name": "stdout",
          "text": [
            "[22.    7.25  0.    1.    0.    3.    2.  ]\n",
            "[-0.58026063 -0.5018386  -0.74189967  0.48027173 -0.44540733  0.8404475\n",
            "  0.6229398 ]\n"
          ]
        }
      ],
      "metadata": {
        "colab": {
          "base_uri": "https://localhost:8080/"
        },
        "id": "C3DX5btu0xI6",
        "outputId": "9e0e0924-3483-45d0-ebcf-e14297f14def"
      }
    },
    {
      "cell_type": "markdown",
      "source": [
        "# 학습/검증 데이터 분할"
      ],
      "metadata": {
        "id": "HlPAz6Jf6KgB"
      }
    },
    {
      "cell_type": "code",
      "execution_count": 23,
      "source": [
        "x_train, x_val, y_train, y_val = train_test_split(x_data, y_data, test_size=0.2, random_state=2021)\r\n",
        "\r\n",
        "# 80% 학습 모델\r\n",
        "# 20% 검증 모델\r\n",
        "print(x_train.shape, x_val.shape)\r\n",
        "print(y_train.shape, y_val.shape)"
      ],
      "outputs": [
        {
          "output_type": "stream",
          "name": "stdout",
          "text": [
            "(1045, 7) (262, 7)\n",
            "(1045, 1) (262, 1)\n"
          ]
        }
      ],
      "metadata": {
        "colab": {
          "base_uri": "https://localhost:8080/"
        },
        "id": "ehiJ3J1m00A9",
        "outputId": "b2635131-583c-40f4-84a3-07eb998194bd"
      }
    },
    {
      "cell_type": "markdown",
      "source": [
        "# 모델 학습"
      ],
      "metadata": {
        "id": "JeDeJOCu6MLy"
      }
    },
    {
      "cell_type": "code",
      "execution_count": 24,
      "source": [
        "model = Sequential([\r\n",
        "  Dense(1, activation='sigmoid')\r\n",
        "])\r\n",
        "\r\n",
        "model.compile(loss='binary_crossentropy', optimizer=Adam(lr=0.01), metrics=['acc'])\r\n",
        "# metrics=['acc'] 퍼센트율(정확도)로 바꿔서 보여줌\r\n",
        "\r\n",
        "model.fit(\r\n",
        "    x_train,\r\n",
        "    y_train,\r\n",
        "    validation_data=(x_val, y_val), # 검증 데이터를 넣어주면 한 epoch이 끝날때마다 자동으로 검증\r\n",
        "    epochs=20 # epochs 복수형으로 쓰기!\r\n",
        ")"
      ],
      "outputs": [
        {
          "output_type": "stream",
          "name": "stderr",
          "text": [
            "C:\\Users\\wleo5\\AppData\\Local\\Programs\\Python\\Python37\\lib\\site-packages\\tensorflow\\python\\keras\\optimizer_v2\\optimizer_v2.py:375: UserWarning: The `lr` argument is deprecated, use `learning_rate` instead.\n",
            "  \"The `lr` argument is deprecated, use `learning_rate` instead.\")\n"
          ]
        },
        {
          "output_type": "stream",
          "name": "stdout",
          "text": [
            "Epoch 1/20\n",
            "33/33 [==============================] - 1s 16ms/step - loss: 9.5045 - acc: 0.2976 - val_loss: 6.2235 - val_acc: 0.3206\n",
            "Epoch 2/20\n",
            "33/33 [==============================] - 0s 3ms/step - loss: 4.1486 - acc: 0.3722 - val_loss: 2.3068 - val_acc: 0.5458\n",
            "Epoch 3/20\n",
            "33/33 [==============================] - 0s 3ms/step - loss: 1.2599 - acc: 0.6019 - val_loss: 0.5827 - val_acc: 0.7405\n",
            "Epoch 4/20\n",
            "33/33 [==============================] - 0s 3ms/step - loss: 0.6708 - acc: 0.7196 - val_loss: 0.5317 - val_acc: 0.7443\n",
            "Epoch 5/20\n",
            "33/33 [==============================] - 0s 4ms/step - loss: 0.5934 - acc: 0.7263 - val_loss: 0.4865 - val_acc: 0.7634\n",
            "Epoch 6/20\n",
            "33/33 [==============================] - 0s 3ms/step - loss: 0.5443 - acc: 0.7349 - val_loss: 0.4681 - val_acc: 0.7748\n",
            "Epoch 7/20\n",
            "33/33 [==============================] - 0s 3ms/step - loss: 0.5129 - acc: 0.7493 - val_loss: 0.4569 - val_acc: 0.7786\n",
            "Epoch 8/20\n",
            "33/33 [==============================] - 0s 3ms/step - loss: 0.5102 - acc: 0.7483 - val_loss: 0.5174 - val_acc: 0.7824\n",
            "Epoch 9/20\n",
            "33/33 [==============================] - 0s 3ms/step - loss: 0.5351 - acc: 0.7349 - val_loss: 0.4716 - val_acc: 0.7863\n",
            "Epoch 10/20\n",
            "33/33 [==============================] - 0s 4ms/step - loss: 0.4945 - acc: 0.7569 - val_loss: 0.4446 - val_acc: 0.7748\n",
            "Epoch 11/20\n",
            "33/33 [==============================] - 0s 3ms/step - loss: 0.4969 - acc: 0.7627 - val_loss: 0.4540 - val_acc: 0.7901\n",
            "Epoch 12/20\n",
            "33/33 [==============================] - 0s 3ms/step - loss: 0.4864 - acc: 0.7675 - val_loss: 0.4678 - val_acc: 0.7824\n",
            "Epoch 13/20\n",
            "33/33 [==============================] - 0s 3ms/step - loss: 0.4894 - acc: 0.7675 - val_loss: 0.4449 - val_acc: 0.7863\n",
            "Epoch 14/20\n",
            "33/33 [==============================] - 0s 3ms/step - loss: 0.4903 - acc: 0.7684 - val_loss: 0.4531 - val_acc: 0.7863\n",
            "Epoch 15/20\n",
            "33/33 [==============================] - 0s 3ms/step - loss: 0.4950 - acc: 0.7761 - val_loss: 0.4374 - val_acc: 0.7977\n",
            "Epoch 16/20\n",
            "33/33 [==============================] - 0s 4ms/step - loss: 0.4881 - acc: 0.7560 - val_loss: 0.4364 - val_acc: 0.7863\n",
            "Epoch 17/20\n",
            "33/33 [==============================] - 0s 4ms/step - loss: 0.5068 - acc: 0.7656 - val_loss: 0.5031 - val_acc: 0.7710\n",
            "Epoch 18/20\n",
            "33/33 [==============================] - 0s 4ms/step - loss: 0.4892 - acc: 0.7694 - val_loss: 0.4419 - val_acc: 0.7748\n",
            "Epoch 19/20\n",
            "33/33 [==============================] - 0s 4ms/step - loss: 0.4883 - acc: 0.7770 - val_loss: 0.4307 - val_acc: 0.7863\n",
            "Epoch 20/20\n",
            "33/33 [==============================] - 0s 3ms/step - loss: 0.4885 - acc: 0.7789 - val_loss: 0.4763 - val_acc: 0.7786\n"
          ]
        },
        {
          "output_type": "execute_result",
          "data": {
            "text/plain": [
              "<tensorflow.python.keras.callbacks.History at 0x2014d8c9a08>"
            ]
          },
          "metadata": {},
          "execution_count": 24
        }
      ],
      "metadata": {
        "colab": {
          "base_uri": "https://localhost:8080/"
        },
        "id": "DdFgm6wP01vi",
        "outputId": "f10a1417-bf40-4e53-e535-d85b9679c1e0"
      }
    },
    {
      "cell_type": "code",
      "execution_count": null,
      "source": [],
      "outputs": [],
      "metadata": {
        "id": "grSTcGkU5-XT"
      }
    }
  ]
}