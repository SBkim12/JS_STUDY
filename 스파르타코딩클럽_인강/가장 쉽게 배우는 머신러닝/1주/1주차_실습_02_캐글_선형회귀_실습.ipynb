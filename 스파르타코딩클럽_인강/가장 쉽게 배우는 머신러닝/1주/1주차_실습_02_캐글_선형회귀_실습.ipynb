{
  "cells": [
    {
      "cell_type": "markdown",
      "metadata": {
        "id": "fJgk2C1x9D2a"
      },
      "source": [
        "# Kaggle 캐글\n",
        "\n",
        "https://kaggle.com\n",
        "\n",
        "캐글은 머신러닝 엔지니어가 레벨업 할 수 있는 던전이자, 사냥터입니다. 수많은 공개된 데이터셋과 각 데이터셋 별로 사람들이 분석한 결과들을 모아놓은 플랫폼이죠.\n",
        "\n",
        "기업 및 단체에서 Prize를 걸고 데이터와 해결 과제를 등록하면, 데이터 사이언티스트들이 이를 해결하기 위해 모델을 개발하고 경쟁하기도 하는 플랫폼입니다."
      ]
    },
    {
      "cell_type": "markdown",
      "metadata": {
        "id": "ORmI7HI59t1q"
      },
      "source": [
        "## Colab에서 Kaggle 데이터셋 다운로드 방법\n",
        "\n",
        "1. [Kaggle](https://www.kaggle.com) 회원가입\n",
        "2. Account(계정) 페이지 진입 (https://www.kaggle.com/[사옹자이름]/account)\n",
        "3. API - Create New API Token 클릭하고 kaggle.json 다운로드\n",
        "4. 브라우저에서 json 파일을 열어 username 및 key 복사\n",
        "5. 아래 코드에 자신의 username 및 key를 붙여넣어 환경변수 설정 실행"
      ]
    },
    {
      "cell_type": "code",
      "execution_count": 8,
      "metadata": {
        "id": "dR2b4ocY-Kul"
      },
      "outputs": [],
      "source": [
        "import os\r\n",
        "os.environ['KAGGLE_USERNAME'] = 'sbkim12' # username\r\n",
        "os.environ['KAGGLE_KEY'] = '' # key"
      ]
    },
    {
      "cell_type": "markdown",
      "metadata": {
        "id": "JKquhsXV_X72"
      },
      "source": [
        "## 광고 데이터셋 다운로드\n",
        "\n",
        "1. Kaggle에서 원하는 데이터셋을 검색 (예: https://www.kaggle.com/ashydv/advertising-dataset)\n",
        "2. [Copy API command] 버튼 클릭 (New Notebook 옆에 ... 버튼 클릭)\n",
        "3. 코드 셀에 붙여넣고 실행! (맨 앞에 \"!\" 꼭 붙이는거 잊지 마세요!)\n",
        "\n"
      ]
    },
    {
      "cell_type": "code",
      "execution_count": 9,
      "metadata": {
        "colab": {
          "base_uri": "https://localhost:8080/"
        },
        "id": "5pr_OtdH4XHS",
        "outputId": "c5a68c44-4f70-4ee7-9482-ca3af7d31dfa"
      },
      "outputs": [
        {
          "name": "stderr",
          "output_type": "stream",
          "text": [
            "'kaggle'��(��) ���� �Ǵ� �ܺ� ����, ������ �� �ִ� ���α׷�, �Ǵ�\n",
            "��ġ ������ �ƴմϴ�.\n"
          ]
        }
      ],
      "source": [
        "!kaggle datasets download -d ashydv/advertising-dataset"
      ]
    },
    {
      "cell_type": "markdown",
      "metadata": {
        "id": "LRZT7pTeAwun"
      },
      "source": [
        "데이터셋 압축 해제"
      ]
    },
    {
      "cell_type": "code",
      "execution_count": 3,
      "metadata": {
        "colab": {
          "base_uri": "https://localhost:8080/"
        },
        "id": "NrPmd4LwAf7B",
        "outputId": "8e98e125-d16d-404c-fa92-0138d321ef38"
      },
      "outputs": [
        {
          "name": "stderr",
          "output_type": "stream",
          "text": [
            "unzip:  cannot find either /content/advertising-dataset.zip or /content/advertising-dataset.zip.zip.\n"
          ]
        }
      ],
      "source": [
        "!unzip /content/advertising-dataset.zip"
      ]
    },
    {
      "cell_type": "markdown",
      "metadata": {
        "id": "NOfVzLpuN69u"
      },
      "source": [
        "##  광고 데이터 예측 (Single-variable linear regression)\n",
        "\n",
        "TV 광고 금액으로 Sales 예측하기"
      ]
    },
    {
      "cell_type": "code",
      "execution_count": 10,
      "metadata": {
        "id": "ksVdzcqqN0wX"
      },
      "outputs": [
        {
          "name": "stderr",
          "output_type": "stream",
          "text": [
            "Matplotlib is building the font cache; this may take a moment.\n"
          ]
        }
      ],
      "source": [
        "from tensorflow.keras.models import Sequential\n",
        "from tensorflow.keras.layers import Dense\n",
        "from tensorflow.keras.optimizers import Adam, SGD\n",
        "import numpy as np\n",
        "import pandas as pd\n",
        "import matplotlib.pyplot as plt \n",
        "import seaborn as sns\n",
        "from sklearn.model_selection import train_test_split"
      ]
    },
    {
      "cell_type": "markdown",
      "metadata": {
        "id": "Up2hzeoQYP4p"
      },
      "source": [
        "### 데이터셋 로드"
      ]
    },
    {
      "cell_type": "code",
      "execution_count": 12,
      "metadata": {
        "colab": {
          "base_uri": "https://localhost:8080/",
          "height": 204
        },
        "id": "cEpSXjHLOMSl",
        "outputId": "229e45ab-fca3-4e9e-9ca2-3a16cade6f79"
      },
      "outputs": [
        {
          "data": {
            "text/html": [
              "<div>\n",
              "<style scoped>\n",
              "    .dataframe tbody tr th:only-of-type {\n",
              "        vertical-align: middle;\n",
              "    }\n",
              "\n",
              "    .dataframe tbody tr th {\n",
              "        vertical-align: top;\n",
              "    }\n",
              "\n",
              "    .dataframe thead th {\n",
              "        text-align: right;\n",
              "    }\n",
              "</style>\n",
              "<table border=\"1\" class=\"dataframe\">\n",
              "  <thead>\n",
              "    <tr style=\"text-align: right;\">\n",
              "      <th></th>\n",
              "      <th>TV</th>\n",
              "      <th>Radio</th>\n",
              "      <th>Newspaper</th>\n",
              "      <th>Sales</th>\n",
              "    </tr>\n",
              "  </thead>\n",
              "  <tbody>\n",
              "    <tr>\n",
              "      <th>0</th>\n",
              "      <td>230.1</td>\n",
              "      <td>37.8</td>\n",
              "      <td>69.2</td>\n",
              "      <td>22.1</td>\n",
              "    </tr>\n",
              "    <tr>\n",
              "      <th>1</th>\n",
              "      <td>44.5</td>\n",
              "      <td>39.3</td>\n",
              "      <td>45.1</td>\n",
              "      <td>10.4</td>\n",
              "    </tr>\n",
              "    <tr>\n",
              "      <th>2</th>\n",
              "      <td>17.2</td>\n",
              "      <td>45.9</td>\n",
              "      <td>69.3</td>\n",
              "      <td>12.0</td>\n",
              "    </tr>\n",
              "    <tr>\n",
              "      <th>3</th>\n",
              "      <td>151.5</td>\n",
              "      <td>41.3</td>\n",
              "      <td>58.5</td>\n",
              "      <td>16.5</td>\n",
              "    </tr>\n",
              "    <tr>\n",
              "      <th>4</th>\n",
              "      <td>180.8</td>\n",
              "      <td>10.8</td>\n",
              "      <td>58.4</td>\n",
              "      <td>17.9</td>\n",
              "    </tr>\n",
              "  </tbody>\n",
              "</table>\n",
              "</div>"
            ],
            "text/plain": [
              "      TV  Radio  Newspaper  Sales\n",
              "0  230.1   37.8       69.2   22.1\n",
              "1   44.5   39.3       45.1   10.4\n",
              "2   17.2   45.9       69.3   12.0\n",
              "3  151.5   41.3       58.5   16.5\n",
              "4  180.8   10.8       58.4   17.9"
            ]
          },
          "execution_count": 12,
          "metadata": {},
          "output_type": "execute_result"
        }
      ],
      "source": [
        "df = pd.read_csv('data/advertising.csv')\r\n",
        "df.head(5)"
      ]
    },
    {
      "cell_type": "markdown",
      "metadata": {
        "id": "pYgVoNAhYSTz"
      },
      "source": [
        "### 데이터셋 크기 살펴보기"
      ]
    },
    {
      "cell_type": "code",
      "execution_count": 13,
      "metadata": {
        "colab": {
          "base_uri": "https://localhost:8080/"
        },
        "id": "TSBBZ9lRLJLa",
        "outputId": "85bc7bf9-c882-459d-eeb5-74956b6837d2"
      },
      "outputs": [
        {
          "name": "stdout",
          "output_type": "stream",
          "text": [
            "(200, 4)\n"
          ]
        }
      ],
      "source": [
        "print(df.shape)"
      ]
    },
    {
      "cell_type": "markdown",
      "metadata": {
        "id": "HRHjsh0xYUjg"
      },
      "source": [
        "### 데이터셋 살짝 살펴보기"
      ]
    },
    {
      "cell_type": "code",
      "execution_count": 14,
      "metadata": {
        "colab": {
          "base_uri": "https://localhost:8080/",
          "height": 320
        },
        "id": "spTnCen_WKdY",
        "outputId": "dc4d39ee-4bc9-4a75-99ed-62a243a391dc"
      },
      "outputs": [
        {
          "data": {
            "text/plain": [
              "<seaborn.axisgrid.PairGrid at 0x23c37f14608>"
            ]
          },
          "execution_count": 14,
          "metadata": {},
          "output_type": "execute_result"
        },
        {
          "data": {
            "image/png": "[encoded data removed]",
            "text/plain": [
              "<Figure size 864x288 with 3 Axes>"
            ]
          },
          "metadata": {
            "needs_background": "light"
          },
          "output_type": "display_data"
        }
      ],
      "source": [
        "sns.pairplot(df, x_vars=['TV', 'Newspaper', 'Radio'], y_vars=['Sales'], height=4)"
      ]
    },
    {
      "cell_type": "markdown",
      "metadata": {
        "id": "jmvXlwj1aED2"
      },
      "source": [
        "### 데이터셋 가공"
      ]
    },
    {
      "cell_type": "code",
      "execution_count": 15,
      "metadata": {
        "colab": {
          "base_uri": "https://localhost:8080/"
        },
        "id": "d8k2hvaeaSFz",
        "outputId": "5a01d65b-0728-4cad-8517-3199f4de2231"
      },
      "outputs": [
        {
          "name": "stdout",
          "output_type": "stream",
          "text": [
            "(200, 1)\n",
            "(200,)\n"
          ]
        }
      ],
      "source": [
        "x_data = np.array(df[['TV']], dtype=np.float32)\n",
        "y_data = np.array(df['Sales'], dtype=np.float32)\n",
        "\n",
        "print(x_data.shape)\n",
        "print(y_data.shape)"
      ]
    },
    {
      "cell_type": "markdown",
      "metadata": {},
      "source": [
        "reshape(-1,1)\r\n",
        "-1 => 이 자리의 수는 신경 쓰지 않음\r\n",
        "1 => 이 자리의 수는 1로 함 "
      ]
    },
    {
      "cell_type": "code",
      "execution_count": 17,
      "metadata": {
        "colab": {
          "base_uri": "https://localhost:8080/"
        },
        "id": "ddaacFAiaHHD",
        "outputId": "6e6e20b7-4d16-4bd7-bb15-0097b859425d"
      },
      "outputs": [
        {
          "name": "stdout",
          "output_type": "stream",
          "text": [
            "(200, 1)\n",
            "(200, 1)\n"
          ]
        }
      ],
      "source": [
        "x_data = x_data.reshape((-1, 1))\r\n",
        "y_data = y_data.reshape((-1, 1))\r\n",
        "\r\n",
        "print(x_data.shape)\r\n",
        "print(y_data.shape)"
      ]
    },
    {
      "cell_type": "markdown",
      "metadata": {
        "id": "ghw_Bg0pYZEz"
      },
      "source": [
        "### 데이터셋 분할\n",
        "\n",
        "학습 데이터 80%\n",
        "검증 데이터 20%\n",
        "\n",
        "참고) 강의에서는 편의를 위해 테스트 데이터를 나누지 않았습니다. 실무에서는 꼭 학습/검증/테시트 데이터를 나누는 것 잊지마세요!"
      ]
    },
    {
      "cell_type": "code",
      "execution_count": 20,
      "metadata": {
        "colab": {
          "base_uri": "https://localhost:8080/"
        },
        "id": "TwfkqScaW48i",
        "outputId": "3d749224-820a-490a-de91-f15b8ba3c1bc"
      },
      "outputs": [
        {
          "name": "stdout",
          "output_type": "stream",
          "text": [
            "(160, 1) (40, 1)\n",
            "(160, 1) (40, 1)\n"
          ]
        }
      ],
      "source": [
        "x_train, x_val, y_train, y_val = train_test_split(x_data, y_data, test_size=0.2, random_state=2021)\n",
        "\n",
        "print(x_train.shape, x_val.shape)\n",
        "print(y_train.shape, y_val.shape)"
      ]
    },
    {
      "cell_type": "markdown",
      "metadata": {
        "id": "t3EsOEewbKEr"
      },
      "source": [
        "### 학습"
      ]
    },
    {
      "cell_type": "code",
      "execution_count": 21,
      "metadata": {
        "colab": {
          "base_uri": "https://localhost:8080/"
        },
        "id": "e3pCXpbJYJ_I",
        "outputId": "ad0f0bb2-5c23-43af-c859-fa92b5917974"
      },
      "outputs": [
        {
          "name": "stderr",
          "output_type": "stream",
          "text": [
            "C:\\Users\\wleo5\\AppData\\Local\\Programs\\Python\\Python37\\lib\\site-packages\\tensorflow\\python\\keras\\optimizer_v2\\optimizer_v2.py:375: UserWarning: The `lr` argument is deprecated, use `learning_rate` instead.\n",
            "  \"The `lr` argument is deprecated, use `learning_rate` instead.\")\n"
          ]
        },
        {
          "name": "stdout",
          "output_type": "stream",
          "text": [
            "Epoch 1/100\n",
            "5/5 [==============================] - 3s 183ms/step - loss: 81.7166 - val_loss: 67.5083\n",
            "Epoch 2/100\n",
            "5/5 [==============================] - 0s 27ms/step - loss: 48.4099 - val_loss: 43.5394\n",
            "Epoch 3/100\n",
            "5/5 [==============================] - 0s 15ms/step - loss: 32.2741 - val_loss: 34.0678\n",
            "Epoch 4/100\n",
            "5/5 [==============================] - 0s 19ms/step - loss: 26.4407 - val_loss: 35.3962\n",
            "Epoch 5/100\n",
            "5/5 [==============================] - 0s 16ms/step - loss: 21.9201 - val_loss: 24.8560\n",
            "Epoch 6/100\n",
            "5/5 [==============================] - 0s 13ms/step - loss: 18.5855 - val_loss: 22.4999\n",
            "Epoch 7/100\n",
            "5/5 [==============================] - 0s 19ms/step - loss: 14.4844 - val_loss: 16.8724\n",
            "Epoch 8/100\n",
            "5/5 [==============================] - 0s 21ms/step - loss: 14.2527 - val_loss: 16.2809\n",
            "Epoch 9/100\n",
            "5/5 [==============================] - 0s 16ms/step - loss: 13.3150 - val_loss: 15.1129\n",
            "Epoch 10/100\n",
            "5/5 [==============================] - 0s 14ms/step - loss: 12.5799 - val_loss: 14.4112\n",
            "Epoch 11/100\n",
            "5/5 [==============================] - 0s 16ms/step - loss: 12.2055 - val_loss: 15.0113\n",
            "Epoch 12/100\n",
            "5/5 [==============================] - 0s 19ms/step - loss: 11.6813 - val_loss: 13.1691\n",
            "Epoch 13/100\n",
            "5/5 [==============================] - 0s 17ms/step - loss: 11.0406 - val_loss: 13.5087\n",
            "Epoch 14/100\n",
            "5/5 [==============================] - 0s 17ms/step - loss: 11.2008 - val_loss: 12.0837\n",
            "Epoch 15/100\n",
            "5/5 [==============================] - 0s 18ms/step - loss: 10.2527 - val_loss: 11.6280\n",
            "Epoch 16/100\n",
            "5/5 [==============================] - 0s 18ms/step - loss: 9.6959 - val_loss: 11.0743\n",
            "Epoch 17/100\n",
            "5/5 [==============================] - 0s 15ms/step - loss: 9.5158 - val_loss: 10.8012\n",
            "Epoch 18/100\n",
            "5/5 [==============================] - 0s 16ms/step - loss: 9.0746 - val_loss: 10.5612\n",
            "Epoch 19/100\n",
            "5/5 [==============================] - 0s 18ms/step - loss: 9.2644 - val_loss: 10.5275\n",
            "Epoch 20/100\n",
            "5/5 [==============================] - 0s 17ms/step - loss: 9.2586 - val_loss: 14.0971\n",
            "Epoch 21/100\n",
            "5/5 [==============================] - 0s 14ms/step - loss: 9.6189 - val_loss: 9.0505\n",
            "Epoch 22/100\n",
            "5/5 [==============================] - 0s 16ms/step - loss: 8.1806 - val_loss: 8.7472\n",
            "Epoch 23/100\n",
            "5/5 [==============================] - 0s 14ms/step - loss: 8.1201 - val_loss: 8.8491\n",
            "Epoch 24/100\n",
            "5/5 [==============================] - 0s 15ms/step - loss: 7.3691 - val_loss: 8.1508\n",
            "Epoch 25/100\n",
            "5/5 [==============================] - 0s 15ms/step - loss: 7.1538 - val_loss: 7.9011\n",
            "Epoch 26/100\n",
            "5/5 [==============================] - 0s 17ms/step - loss: 7.3536 - val_loss: 7.6794\n",
            "Epoch 27/100\n",
            "5/5 [==============================] - 0s 18ms/step - loss: 7.0491 - val_loss: 10.2740\n",
            "Epoch 28/100\n",
            "5/5 [==============================] - 0s 17ms/step - loss: 9.1378 - val_loss: 7.8883\n",
            "Epoch 29/100\n",
            "5/5 [==============================] - 0s 20ms/step - loss: 8.2400 - val_loss: 9.4487\n",
            "Epoch 30/100\n",
            "5/5 [==============================] - 0s 18ms/step - loss: 7.8626 - val_loss: 7.5247\n",
            "Epoch 31/100\n",
            "5/5 [==============================] - 0s 15ms/step - loss: 6.5534 - val_loss: 7.3982\n",
            "Epoch 32/100\n",
            "5/5 [==============================] - 0s 17ms/step - loss: 6.6393 - val_loss: 8.3402\n",
            "Epoch 33/100\n",
            "5/5 [==============================] - 0s 17ms/step - loss: 8.1185 - val_loss: 10.3895\n",
            "Epoch 34/100\n",
            "5/5 [==============================] - 0s 17ms/step - loss: 9.1603 - val_loss: 7.9470\n",
            "Epoch 35/100\n",
            "5/5 [==============================] - 0s 18ms/step - loss: 7.9620 - val_loss: 7.8289\n",
            "Epoch 36/100\n",
            "5/5 [==============================] - 0s 20ms/step - loss: 7.5291 - val_loss: 6.2527\n",
            "Epoch 37/100\n",
            "5/5 [==============================] - 0s 20ms/step - loss: 7.6763 - val_loss: 17.2708\n",
            "Epoch 38/100\n",
            "5/5 [==============================] - 0s 15ms/step - loss: 11.1184 - val_loss: 6.1065\n",
            "Epoch 39/100\n",
            "5/5 [==============================] - 0s 17ms/step - loss: 6.5443 - val_loss: 7.8630\n",
            "Epoch 40/100\n",
            "5/5 [==============================] - 0s 19ms/step - loss: 6.4206 - val_loss: 6.0268\n",
            "Epoch 41/100\n",
            "5/5 [==============================] - 0s 18ms/step - loss: 6.1053 - val_loss: 6.3598\n",
            "Epoch 42/100\n",
            "5/5 [==============================] - 0s 19ms/step - loss: 5.5622 - val_loss: 6.2672\n",
            "Epoch 43/100\n",
            "5/5 [==============================] - 0s 18ms/step - loss: 5.8037 - val_loss: 6.5813\n",
            "Epoch 44/100\n",
            "5/5 [==============================] - 0s 16ms/step - loss: 6.1491 - val_loss: 7.6060\n",
            "Epoch 45/100\n",
            "5/5 [==============================] - 0s 22ms/step - loss: 7.1179 - val_loss: 8.2902\n",
            "Epoch 46/100\n",
            "5/5 [==============================] - 0s 22ms/step - loss: 7.7209 - val_loss: 7.9475\n",
            "Epoch 47/100\n",
            "5/5 [==============================] - 0s 20ms/step - loss: 5.8283 - val_loss: 5.7192\n",
            "Epoch 48/100\n",
            "5/5 [==============================] - 0s 17ms/step - loss: 6.3552 - val_loss: 7.3688\n",
            "Epoch 49/100\n",
            "5/5 [==============================] - 0s 14ms/step - loss: 7.0123 - val_loss: 9.7021\n",
            "Epoch 50/100\n",
            "5/5 [==============================] - 0s 16ms/step - loss: 7.8174 - val_loss: 8.1276\n",
            "Epoch 51/100\n",
            "5/5 [==============================] - 0s 21ms/step - loss: 8.1491 - val_loss: 5.6607\n",
            "Epoch 52/100\n",
            "5/5 [==============================] - 0s 17ms/step - loss: 6.3627 - val_loss: 8.2255\n",
            "Epoch 53/100\n",
            "5/5 [==============================] - 0s 18ms/step - loss: 6.3204 - val_loss: 5.6611\n",
            "Epoch 54/100\n",
            "5/5 [==============================] - 0s 18ms/step - loss: 6.5071 - val_loss: 6.8445\n",
            "Epoch 55/100\n",
            "5/5 [==============================] - 0s 16ms/step - loss: 5.2151 - val_loss: 9.1763\n",
            "Epoch 56/100\n",
            "5/5 [==============================] - 0s 15ms/step - loss: 6.6482 - val_loss: 5.7100\n",
            "Epoch 57/100\n",
            "5/5 [==============================] - 0s 15ms/step - loss: 5.3755 - val_loss: 5.6119\n",
            "Epoch 58/100\n",
            "5/5 [==============================] - 0s 15ms/step - loss: 6.2965 - val_loss: 5.7947\n",
            "Epoch 59/100\n",
            "5/5 [==============================] - 0s 13ms/step - loss: 6.1966 - val_loss: 5.5929\n",
            "Epoch 60/100\n",
            "5/5 [==============================] - 0s 15ms/step - loss: 6.0980 - val_loss: 6.7182\n",
            "Epoch 61/100\n",
            "5/5 [==============================] - 0s 16ms/step - loss: 6.1529 - val_loss: 7.5398\n",
            "Epoch 62/100\n",
            "5/5 [==============================] - 0s 18ms/step - loss: 6.7409 - val_loss: 6.9579\n",
            "Epoch 63/100\n",
            "5/5 [==============================] - 0s 16ms/step - loss: 6.3505 - val_loss: 8.3909\n",
            "Epoch 64/100\n",
            "5/5 [==============================] - 0s 16ms/step - loss: 6.8357 - val_loss: 5.8833\n",
            "Epoch 65/100\n",
            "5/5 [==============================] - 0s 17ms/step - loss: 6.2585 - val_loss: 6.3963\n",
            "Epoch 66/100\n",
            "5/5 [==============================] - 0s 16ms/step - loss: 5.6127 - val_loss: 5.7405\n",
            "Epoch 67/100\n",
            "5/5 [==============================] - 0s 17ms/step - loss: 5.9250 - val_loss: 10.3129\n",
            "Epoch 68/100\n",
            "5/5 [==============================] - 0s 16ms/step - loss: 7.4379 - val_loss: 5.9325\n",
            "Epoch 69/100\n",
            "5/5 [==============================] - 0s 15ms/step - loss: 6.1628 - val_loss: 5.5464\n",
            "Epoch 70/100\n",
            "5/5 [==============================] - 0s 16ms/step - loss: 5.9456 - val_loss: 5.6132\n",
            "Epoch 71/100\n",
            "5/5 [==============================] - 0s 14ms/step - loss: 5.6067 - val_loss: 6.6709\n",
            "Epoch 72/100\n",
            "5/5 [==============================] - 0s 16ms/step - loss: 5.8520 - val_loss: 5.6291\n",
            "Epoch 73/100\n",
            "5/5 [==============================] - 0s 20ms/step - loss: 5.3653 - val_loss: 5.8981\n",
            "Epoch 74/100\n",
            "5/5 [==============================] - 0s 15ms/step - loss: 6.0464 - val_loss: 5.5399\n",
            "Epoch 75/100\n",
            "5/5 [==============================] - 0s 15ms/step - loss: 6.0077 - val_loss: 5.5444\n",
            "Epoch 76/100\n",
            "5/5 [==============================] - 0s 15ms/step - loss: 5.6556 - val_loss: 5.5476\n",
            "Epoch 77/100\n",
            "5/5 [==============================] - 0s 16ms/step - loss: 7.3778 - val_loss: 5.5566\n",
            "Epoch 78/100\n",
            "5/5 [==============================] - 0s 16ms/step - loss: 8.5904 - val_loss: 14.2649\n",
            "Epoch 79/100\n",
            "5/5 [==============================] - 0s 14ms/step - loss: 9.2342 - val_loss: 8.7916\n",
            "Epoch 80/100\n",
            "5/5 [==============================] - 0s 15ms/step - loss: 7.8704 - val_loss: 6.9512\n",
            "Epoch 81/100\n",
            "5/5 [==============================] - 0s 17ms/step - loss: 8.4864 - val_loss: 5.5335\n",
            "Epoch 82/100\n",
            "5/5 [==============================] - 0s 16ms/step - loss: 6.2564 - val_loss: 6.0797\n",
            "Epoch 83/100\n",
            "5/5 [==============================] - 0s 14ms/step - loss: 5.8389 - val_loss: 6.9853\n",
            "Epoch 84/100\n",
            "5/5 [==============================] - 0s 14ms/step - loss: 8.5022 - val_loss: 8.2299\n",
            "Epoch 85/100\n",
            "5/5 [==============================] - 0s 15ms/step - loss: 9.5140 - val_loss: 5.5949\n",
            "Epoch 86/100\n",
            "5/5 [==============================] - 0s 16ms/step - loss: 8.7563 - val_loss: 11.9691\n",
            "Epoch 87/100\n",
            "5/5 [==============================] - 0s 16ms/step - loss: 8.9147 - val_loss: 7.9396\n",
            "Epoch 88/100\n",
            "5/5 [==============================] - 0s 12ms/step - loss: 6.9418 - val_loss: 6.3958\n",
            "Epoch 89/100\n",
            "5/5 [==============================] - 0s 10ms/step - loss: 8.1828 - val_loss: 6.2542\n",
            "Epoch 90/100\n",
            "5/5 [==============================] - 0s 13ms/step - loss: 9.8107 - val_loss: 6.9063\n",
            "Epoch 91/100\n",
            "5/5 [==============================] - 0s 17ms/step - loss: 11.1162 - val_loss: 20.7598\n",
            "Epoch 92/100\n",
            "5/5 [==============================] - 0s 15ms/step - loss: 10.9764 - val_loss: 11.0007\n",
            "Epoch 93/100\n",
            "5/5 [==============================] - 0s 19ms/step - loss: 10.0352 - val_loss: 6.6355\n",
            "Epoch 94/100\n",
            "5/5 [==============================] - 0s 14ms/step - loss: 9.4127 - val_loss: 6.7344\n",
            "Epoch 95/100\n",
            "5/5 [==============================] - 0s 15ms/step - loss: 6.9801 - val_loss: 5.9309\n",
            "Epoch 96/100\n",
            "5/5 [==============================] - 0s 14ms/step - loss: 6.1551 - val_loss: 8.0325\n",
            "Epoch 97/100\n",
            "5/5 [==============================] - 0s 16ms/step - loss: 7.1417 - val_loss: 5.8250\n",
            "Epoch 98/100\n",
            "5/5 [==============================] - 0s 20ms/step - loss: 5.6959 - val_loss: 7.8203\n",
            "Epoch 99/100\n",
            "5/5 [==============================] - 0s 21ms/step - loss: 6.9739 - val_loss: 8.5832\n",
            "Epoch 100/100\n",
            "5/5 [==============================] - 0s 16ms/step - loss: 6.9861 - val_loss: 6.3236\n"
          ]
        },
        {
          "data": {
            "text/plain": [
              "<tensorflow.python.keras.callbacks.History at 0x23c39b56448>"
            ]
          },
          "execution_count": 21,
          "metadata": {},
          "output_type": "execute_result"
        }
      ],
      "source": [
        "model = Sequential([\n",
        "  Dense(1)\n",
        "])\n",
        "\n",
        "model.compile(loss='mean_squared_error', optimizer=Adam(lr=0.1))\n",
        "\n",
        "model.fit(\n",
        "    x_train,\n",
        "    y_train,\n",
        "    validation_data=(x_val, y_val), # 검증 데이터를 넣어주면 한 epoch이 끝날때마다 자동으로 검증\n",
        "    epochs=100 # epochs 복수형으로 쓰기!\n",
        ")"
      ]
    },
    {
      "cell_type": "markdown",
      "metadata": {
        "id": "cl7D4qePcLz6"
      },
      "source": [
        "### 검증 데이터로 예측하기"
      ]
    },
    {
      "cell_type": "code",
      "execution_count": 23,
      "metadata": {
        "colab": {
          "base_uri": "https://localhost:8080/",
          "height": 265
        },
        "id": "DSDFaX_ZcKDQ",
        "outputId": "63e3f8bc-5494-4501-d8ca-13b4c943b0d7"
      },
      "outputs": [
        {
          "data": {
            "image/png": "[encoded data removed]",
            "text/plain": [
              "<Figure size 432x288 with 1 Axes>"
            ]
          },
          "metadata": {
            "needs_background": "light"
          },
          "output_type": "display_data"
        }
      ],
      "source": [
        "y_pred = model.predict(x_val)\r\n",
        "\r\n",
        "plt.scatter(x_val, y_val, color='y')\r\n",
        "plt.scatter(x_val, y_pred, color='r')\r\n",
        "plt.show()"
      ]
    },
    {
      "cell_type": "markdown",
      "metadata": {
        "id": "X5mgiMiCyVPI"
      },
      "source": [
        "## 광고 데이터 예측하기 (Multi-variable linear regression)\n",
        "\n",
        "TV, Newspaper, Radio 광고 금액으로 Sales 예측하기"
      ]
    },
    {
      "cell_type": "code",
      "execution_count": 24,
      "metadata": {
        "colab": {
          "base_uri": "https://localhost:8080/"
        },
        "id": "-QHEaAyIZTHn",
        "outputId": "74f63780-c4db-4337-d9e6-f20fd492ec11"
      },
      "outputs": [
        {
          "name": "stdout",
          "output_type": "stream",
          "text": [
            "(200, 3)\n",
            "(200, 1)\n",
            "(160, 3) (40, 3)\n",
            "(160, 1) (40, 1)\n",
            "Epoch 1/100\n"
          ]
        },
        {
          "name": "stderr",
          "output_type": "stream",
          "text": [
            "C:\\Users\\wleo5\\AppData\\Local\\Programs\\Python\\Python37\\lib\\site-packages\\tensorflow\\python\\keras\\optimizer_v2\\optimizer_v2.py:375: UserWarning: The `lr` argument is deprecated, use `learning_rate` instead.\n",
            "  \"The `lr` argument is deprecated, use `learning_rate` instead.\")\n"
          ]
        },
        {
          "name": "stdout",
          "output_type": "stream",
          "text": [
            "5/5 [==============================] - 1s 99ms/step - loss: 26206.5039 - val_loss: 9789.1426\n",
            "Epoch 2/100\n",
            "5/5 [==============================] - 0s 17ms/step - loss: 3802.6438 - val_loss: 630.8777\n",
            "Epoch 3/100\n",
            "5/5 [==============================] - 0s 15ms/step - loss: 1232.1863 - val_loss: 2654.9441\n",
            "Epoch 4/100\n",
            "5/5 [==============================] - 0s 18ms/step - loss: 3288.8074 - val_loss: 3190.0247\n",
            "Epoch 5/100\n",
            "5/5 [==============================] - 0s 18ms/step - loss: 2409.4370 - val_loss: 1057.6525\n",
            "Epoch 6/100\n",
            "5/5 [==============================] - 0s 18ms/step - loss: 613.3969 - val_loss: 286.4267\n",
            "Epoch 7/100\n",
            "5/5 [==============================] - 0s 19ms/step - loss: 424.8746 - val_loss: 691.2184\n",
            "Epoch 8/100\n",
            "5/5 [==============================] - 0s 20ms/step - loss: 650.2293 - val_loss: 528.3234\n",
            "Epoch 9/100\n",
            "5/5 [==============================] - 0s 17ms/step - loss: 339.0389 - val_loss: 155.0958\n",
            "Epoch 10/100\n",
            "5/5 [==============================] - 0s 20ms/step - loss: 123.8180 - val_loss: 142.8524\n",
            "Epoch 11/100\n",
            "5/5 [==============================] - 0s 19ms/step - loss: 167.4121 - val_loss: 169.2684\n",
            "Epoch 12/100\n",
            "5/5 [==============================] - 0s 19ms/step - loss: 130.6918 - val_loss: 84.6023\n",
            "Epoch 13/100\n",
            "5/5 [==============================] - 0s 22ms/step - loss: 70.2395 - val_loss: 59.8748\n",
            "Epoch 14/100\n",
            "5/5 [==============================] - 0s 17ms/step - loss: 65.7669 - val_loss: 62.6126\n",
            "Epoch 15/100\n",
            "5/5 [==============================] - 0s 18ms/step - loss: 56.2461 - val_loss: 42.7076\n",
            "Epoch 16/100\n",
            "5/5 [==============================] - 0s 20ms/step - loss: 40.4281 - val_loss: 37.0560\n",
            "Epoch 17/100\n",
            "5/5 [==============================] - 0s 17ms/step - loss: 34.1420 - val_loss: 34.4158\n",
            "Epoch 18/100\n",
            "5/5 [==============================] - 0s 15ms/step - loss: 28.8626 - val_loss: 25.7698\n",
            "Epoch 19/100\n",
            "5/5 [==============================] - 0s 14ms/step - loss: 21.9846 - val_loss: 21.4668\n",
            "Epoch 20/100\n",
            "5/5 [==============================] - 0s 16ms/step - loss: 19.1597 - val_loss: 18.7211\n",
            "Epoch 21/100\n",
            "5/5 [==============================] - 0s 15ms/step - loss: 15.9723 - val_loss: 15.9998\n",
            "Epoch 22/100\n",
            "5/5 [==============================] - 0s 16ms/step - loss: 12.9857 - val_loss: 14.4617\n",
            "Epoch 23/100\n",
            "5/5 [==============================] - 0s 16ms/step - loss: 11.2110 - val_loss: 12.6717\n",
            "Epoch 24/100\n",
            "5/5 [==============================] - 0s 18ms/step - loss: 9.6506 - val_loss: 11.1294\n",
            "Epoch 25/100\n",
            "5/5 [==============================] - 0s 18ms/step - loss: 8.2861 - val_loss: 10.1155\n",
            "Epoch 26/100\n",
            "5/5 [==============================] - 0s 20ms/step - loss: 7.3631 - val_loss: 9.3885\n",
            "Epoch 27/100\n",
            "5/5 [==============================] - 0s 19ms/step - loss: 6.5406 - val_loss: 8.7656\n",
            "Epoch 28/100\n",
            "5/5 [==============================] - 0s 19ms/step - loss: 5.9872 - val_loss: 8.2189\n",
            "Epoch 29/100\n",
            "5/5 [==============================] - 0s 19ms/step - loss: 5.5379 - val_loss: 7.8528\n",
            "Epoch 30/100\n",
            "5/5 [==============================] - 0s 17ms/step - loss: 5.2033 - val_loss: 7.5980\n",
            "Epoch 31/100\n",
            "5/5 [==============================] - 0s 17ms/step - loss: 4.9569 - val_loss: 7.3725\n",
            "Epoch 32/100\n",
            "5/5 [==============================] - 0s 14ms/step - loss: 4.7623 - val_loss: 7.2170\n",
            "Epoch 33/100\n",
            "5/5 [==============================] - 0s 16ms/step - loss: 4.6218 - val_loss: 7.0803\n",
            "Epoch 34/100\n",
            "5/5 [==============================] - 0s 14ms/step - loss: 4.5240 - val_loss: 6.9544\n",
            "Epoch 35/100\n",
            "5/5 [==============================] - 0s 13ms/step - loss: 4.4922 - val_loss: 6.8752\n",
            "Epoch 36/100\n",
            "5/5 [==============================] - 0s 13ms/step - loss: 4.3878 - val_loss: 6.8393\n",
            "Epoch 37/100\n",
            "5/5 [==============================] - 0s 16ms/step - loss: 4.3536 - val_loss: 6.8136\n",
            "Epoch 38/100\n",
            "5/5 [==============================] - 0s 13ms/step - loss: 4.3359 - val_loss: 6.7318\n",
            "Epoch 39/100\n",
            "5/5 [==============================] - 0s 17ms/step - loss: 4.3467 - val_loss: 6.6909\n",
            "Epoch 40/100\n",
            "5/5 [==============================] - 0s 18ms/step - loss: 4.3157 - val_loss: 6.6743\n",
            "Epoch 41/100\n",
            "5/5 [==============================] - 0s 19ms/step - loss: 4.2565 - val_loss: 6.6529\n",
            "Epoch 42/100\n",
            "5/5 [==============================] - 0s 15ms/step - loss: 4.2419 - val_loss: 6.6195\n",
            "Epoch 43/100\n",
            "5/5 [==============================] - 0s 15ms/step - loss: 4.2416 - val_loss: 6.5892\n",
            "Epoch 44/100\n",
            "5/5 [==============================] - 0s 14ms/step - loss: 4.2317 - val_loss: 6.5815\n",
            "Epoch 45/100\n",
            "5/5 [==============================] - 0s 17ms/step - loss: 4.3019 - val_loss: 6.6053\n",
            "Epoch 46/100\n",
            "5/5 [==============================] - 0s 20ms/step - loss: 4.2447 - val_loss: 6.5490\n",
            "Epoch 47/100\n",
            "5/5 [==============================] - 0s 17ms/step - loss: 4.2445 - val_loss: 6.5132\n",
            "Epoch 48/100\n",
            "5/5 [==============================] - 0s 18ms/step - loss: 4.2420 - val_loss: 6.5829\n",
            "Epoch 49/100\n",
            "5/5 [==============================] - 0s 14ms/step - loss: 4.2220 - val_loss: 6.4993\n",
            "Epoch 50/100\n",
            "5/5 [==============================] - 0s 12ms/step - loss: 4.1876 - val_loss: 6.4766\n",
            "Epoch 51/100\n",
            "5/5 [==============================] - 0s 16ms/step - loss: 4.1736 - val_loss: 6.4451\n",
            "Epoch 52/100\n",
            "5/5 [==============================] - 0s 14ms/step - loss: 4.1364 - val_loss: 6.4828\n",
            "Epoch 53/100\n",
            "5/5 [==============================] - 0s 15ms/step - loss: 4.1457 - val_loss: 6.4318\n",
            "Epoch 54/100\n",
            "5/5 [==============================] - 0s 15ms/step - loss: 4.1219 - val_loss: 6.4108\n",
            "Epoch 55/100\n",
            "5/5 [==============================] - 0s 19ms/step - loss: 4.1314 - val_loss: 6.3974\n",
            "Epoch 56/100\n",
            "5/5 [==============================] - 0s 16ms/step - loss: 4.1446 - val_loss: 6.4242\n",
            "Epoch 57/100\n",
            "5/5 [==============================] - 0s 15ms/step - loss: 4.1079 - val_loss: 6.3757\n",
            "Epoch 58/100\n",
            "5/5 [==============================] - 0s 15ms/step - loss: 4.1338 - val_loss: 6.3579\n",
            "Epoch 59/100\n",
            "5/5 [==============================] - 0s 13ms/step - loss: 4.1395 - val_loss: 6.3580\n",
            "Epoch 60/100\n",
            "5/5 [==============================] - 0s 13ms/step - loss: 4.0732 - val_loss: 6.3028\n",
            "Epoch 61/100\n",
            "5/5 [==============================] - 0s 14ms/step - loss: 4.0910 - val_loss: 6.2879\n",
            "Epoch 62/100\n",
            "5/5 [==============================] - 0s 17ms/step - loss: 4.0622 - val_loss: 6.2785\n",
            "Epoch 63/100\n",
            "5/5 [==============================] - 0s 18ms/step - loss: 4.0416 - val_loss: 6.3556\n",
            "Epoch 64/100\n",
            "5/5 [==============================] - 0s 14ms/step - loss: 4.0516 - val_loss: 6.2485\n",
            "Epoch 65/100\n",
            "5/5 [==============================] - 0s 14ms/step - loss: 4.0068 - val_loss: 6.2299\n",
            "Epoch 66/100\n",
            "5/5 [==============================] - 0s 15ms/step - loss: 4.0210 - val_loss: 6.2166\n",
            "Epoch 67/100\n",
            "5/5 [==============================] - 0s 15ms/step - loss: 3.9957 - val_loss: 6.1998\n",
            "Epoch 68/100\n",
            "5/5 [==============================] - 0s 13ms/step - loss: 3.9854 - val_loss: 6.1803\n",
            "Epoch 69/100\n",
            "5/5 [==============================] - 0s 15ms/step - loss: 4.0117 - val_loss: 6.2195\n",
            "Epoch 70/100\n",
            "5/5 [==============================] - 0s 15ms/step - loss: 3.9613 - val_loss: 6.1499\n",
            "Epoch 71/100\n",
            "5/5 [==============================] - 0s 16ms/step - loss: 3.9537 - val_loss: 6.1327\n",
            "Epoch 72/100\n",
            "5/5 [==============================] - 0s 18ms/step - loss: 3.9804 - val_loss: 6.1526\n",
            "Epoch 73/100\n",
            "5/5 [==============================] - 0s 15ms/step - loss: 3.9609 - val_loss: 6.0975\n",
            "Epoch 74/100\n",
            "5/5 [==============================] - 0s 17ms/step - loss: 3.9148 - val_loss: 6.0881\n",
            "Epoch 75/100\n",
            "5/5 [==============================] - 0s 18ms/step - loss: 3.9037 - val_loss: 6.0705\n",
            "Epoch 76/100\n",
            "5/5 [==============================] - 0s 20ms/step - loss: 3.8899 - val_loss: 6.0489\n",
            "Epoch 77/100\n",
            "5/5 [==============================] - 0s 16ms/step - loss: 3.8902 - val_loss: 6.0431\n",
            "Epoch 78/100\n",
            "5/5 [==============================] - 0s 17ms/step - loss: 3.8782 - val_loss: 6.0096\n",
            "Epoch 79/100\n",
            "5/5 [==============================] - 0s 17ms/step - loss: 3.8599 - val_loss: 6.0121\n",
            "Epoch 80/100\n",
            "5/5 [==============================] - 0s 17ms/step - loss: 3.8366 - val_loss: 6.0079\n",
            "Epoch 81/100\n",
            "5/5 [==============================] - 0s 15ms/step - loss: 3.9224 - val_loss: 6.0034\n",
            "Epoch 82/100\n",
            "5/5 [==============================] - 0s 16ms/step - loss: 3.8665 - val_loss: 5.9706\n",
            "Epoch 83/100\n",
            "5/5 [==============================] - 0s 14ms/step - loss: 3.8327 - val_loss: 5.9405\n",
            "Epoch 84/100\n",
            "5/5 [==============================] - 0s 13ms/step - loss: 3.8748 - val_loss: 5.9820\n",
            "Epoch 85/100\n",
            "5/5 [==============================] - 0s 17ms/step - loss: 3.7704 - val_loss: 5.9075\n",
            "Epoch 86/100\n",
            "5/5 [==============================] - 0s 13ms/step - loss: 3.8263 - val_loss: 5.9032\n",
            "Epoch 87/100\n",
            "5/5 [==============================] - 0s 19ms/step - loss: 3.7769 - val_loss: 5.8992\n",
            "Epoch 88/100\n",
            "5/5 [==============================] - 0s 16ms/step - loss: 3.7691 - val_loss: 5.8742\n",
            "Epoch 89/100\n",
            "5/5 [==============================] - 0s 16ms/step - loss: 3.7811 - val_loss: 5.8227\n",
            "Epoch 90/100\n",
            "5/5 [==============================] - 0s 17ms/step - loss: 3.7481 - val_loss: 5.8335\n",
            "Epoch 91/100\n",
            "5/5 [==============================] - 0s 17ms/step - loss: 3.7981 - val_loss: 5.8318\n",
            "Epoch 92/100\n",
            "5/5 [==============================] - 0s 17ms/step - loss: 3.7595 - val_loss: 5.8153\n",
            "Epoch 93/100\n",
            "5/5 [==============================] - 0s 17ms/step - loss: 3.7270 - val_loss: 5.7959\n",
            "Epoch 94/100\n",
            "5/5 [==============================] - 0s 20ms/step - loss: 3.7274 - val_loss: 5.7686\n",
            "Epoch 95/100\n",
            "5/5 [==============================] - 0s 17ms/step - loss: 3.6928 - val_loss: 5.7613\n",
            "Epoch 96/100\n",
            "5/5 [==============================] - 0s 17ms/step - loss: 3.7159 - val_loss: 5.7292\n",
            "Epoch 97/100\n",
            "5/5 [==============================] - 0s 17ms/step - loss: 3.8141 - val_loss: 5.7452\n",
            "Epoch 98/100\n",
            "5/5 [==============================] - 0s 19ms/step - loss: 3.6232 - val_loss: 5.7453\n",
            "Epoch 99/100\n",
            "5/5 [==============================] - 0s 18ms/step - loss: 3.7329 - val_loss: 5.7772\n",
            "Epoch 100/100\n",
            "5/5 [==============================] - 0s 17ms/step - loss: 3.6746 - val_loss: 5.6796\n"
          ]
        },
        {
          "data": {
            "text/plain": [
              "<tensorflow.python.keras.callbacks.History at 0x23c393f8f08>"
            ]
          },
          "execution_count": 24,
          "metadata": {},
          "output_type": "execute_result"
        }
      ],
      "source": [
        "from tensorflow.keras.models import Sequential\r\n",
        "from tensorflow.keras.layers import Dense\r\n",
        "from tensorflow.keras.optimizers import Adam, SGD\r\n",
        "import numpy as np\r\n",
        "import pandas as pd\r\n",
        "import matplotlib.pyplot as plt \r\n",
        "import seaborn as sns\r\n",
        "from sklearn.model_selection import train_test_split\r\n",
        "\r\n",
        "df = pd.read_csv('data/advertising.csv')\r\n",
        "\r\n",
        "x_data = np.array(df[['TV', 'Newspaper', 'Radio']], dtype=np.float32)\r\n",
        "y_data = np.array(df['Sales'], dtype=np.float32)\r\n",
        "\r\n",
        "x_data = x_data.reshape((-1, 3))\r\n",
        "y_data = y_data.reshape((-1, 1))\r\n",
        "\r\n",
        "print(x_data.shape)\r\n",
        "print(y_data.shape)\r\n",
        "\r\n",
        "x_train, x_val, y_train, y_val = train_test_split(x_data, y_data, test_size=0.2, random_state=2021)\r\n",
        "\r\n",
        "print(x_train.shape, x_val.shape)\r\n",
        "print(y_train.shape, y_val.shape)\r\n",
        "\r\n",
        "model = Sequential([\r\n",
        "  Dense(1)\r\n",
        "])\r\n",
        "\r\n",
        "model.compile(loss='mean_squared_error', optimizer=Adam(lr=0.1))\r\n",
        "\r\n",
        "model.fit(\r\n",
        "    x_train,\r\n",
        "    y_train,\r\n",
        "    validation_data=(x_val, y_val), # 검증 데이터를 넣어주면 한 epoch이 끝날때마다 자동으로 검증\r\n",
        "    epochs=100 # epochs 복수형으로 쓰기!\r\n",
        ")"
      ]
    },
    {
      "cell_type": "code",
      "execution_count": 25,
      "metadata": {
        "colab": {
          "base_uri": "https://localhost:8080/"
        },
        "id": "-v5iXZoUe0AO",
        "outputId": "f585d719-24e6-479b-d136-b500472a1f7a"
      },
      "outputs": [
        {
          "name": "stdout",
          "output_type": "stream",
          "text": [
            "(40, 1)\n"
          ]
        }
      ],
      "source": [
        "y_pred = model.predict(x_val)\n",
        "\n",
        "print(y_pred.shape)"
      ]
    },
    {
      "cell_type": "markdown",
      "metadata": {
        "id": "m1lZi6pshMEj"
      },
      "source": [
        "## TV 데이터 예측 그래프"
      ]
    },
    {
      "cell_type": "code",
      "execution_count": 26,
      "metadata": {
        "colab": {
          "base_uri": "https://localhost:8080/",
          "height": 265
        },
        "id": "kHC3fszphZLT",
        "outputId": "f8f4b81c-1376-4b05-858b-31fe5712130f"
      },
      "outputs": [
        {
          "data": {
            "image/png": "[encoded data removed]",
            "text/plain": [
              "<Figure size 432x288 with 1 Axes>"
            ]
          },
          "metadata": {
            "needs_background": "light"
          },
          "output_type": "display_data"
        }
      ],
      "source": [
        "plt.scatter(x_val[:, 0], y_val)\n",
        "plt.scatter(x_val[:, 0], y_pred, color='r')\n",
        "plt.show()"
      ]
    },
    {
      "cell_type": "markdown",
      "metadata": {
        "id": "cZfBsfSbhPN4"
      },
      "source": [
        "## Newspaper 데이터 예측 그래프"
      ]
    },
    {
      "cell_type": "code",
      "execution_count": 27,
      "metadata": {
        "colab": {
          "base_uri": "https://localhost:8080/",
          "height": 265
        },
        "id": "TPsCzdPshBVU",
        "outputId": "d1f05e0a-63c7-4fe1-b2c6-204b4ac30e40"
      },
      "outputs": [
        {
          "data": {
            "image/png": "[encoded data removed]",
            "text/plain": [
              "<Figure size 432x288 with 1 Axes>"
            ]
          },
          "metadata": {
            "needs_background": "light"
          },
          "output_type": "display_data"
        }
      ],
      "source": [
        "plt.scatter(x_val[:, 1], y_val)\n",
        "plt.scatter(x_val[:, 1], y_pred, color='r')\n",
        "plt.show()"
      ]
    },
    {
      "cell_type": "markdown",
      "metadata": {
        "id": "vjR5zH3gme5P"
      },
      "source": [
        "### Radio 데이터 예측 그래프"
      ]
    },
    {
      "cell_type": "code",
      "execution_count": 28,
      "metadata": {
        "colab": {
          "base_uri": "https://localhost:8080/",
          "height": 265
        },
        "id": "yxcB-JEmhIcO",
        "outputId": "64de4170-fb69-4aca-a0b9-242a02262f7d"
      },
      "outputs": [
        {
          "data": {
            "image/png": "[encoded data removed]",
            "text/plain": [
              "<Figure size 432x288 with 1 Axes>"
            ]
          },
          "metadata": {
            "needs_background": "light"
          },
          "output_type": "display_data"
        }
      ],
      "source": [
        "plt.scatter(x_val[:, 2], y_val)\n",
        "plt.scatter(x_val[:, 2], y_pred, color='r')\n",
        "plt.show()"
      ]
    },
    {
      "cell_type": "code",
      "execution_count": null,
      "metadata": {
        "id": "g3hH1c-kmhSz"
      },
      "outputs": [],
      "source": []
    }
  ],
  "metadata": {
    "colab": {
      "collapsed_sections": [],
      "name": "1주차 실습 - 02. 캐글 선형회귀 실습",
      "provenance": [],
      "toc_visible": true
    },
    "interpreter": {
      "hash": "72913017d239961d9f24bcfdfe576c7fb971563c607a44246d1c46fab9664827"
    },
    "kernelspec": {
      "display_name": "Python 3.7.7 64-bit",
      "name": "python3"
    },
    "language_info": {
      "codemirror_mode": {
        "name": "ipython",
        "version": 3
      },
      "file_extension": ".py",
      "mimetype": "text/x-python",
      "name": "python",
      "nbconvert_exporter": "python",
      "pygments_lexer": "ipython3",
      "version": "3.7.7"
    }
  },
  "nbformat": 4,
  "nbformat_minor": 0
}