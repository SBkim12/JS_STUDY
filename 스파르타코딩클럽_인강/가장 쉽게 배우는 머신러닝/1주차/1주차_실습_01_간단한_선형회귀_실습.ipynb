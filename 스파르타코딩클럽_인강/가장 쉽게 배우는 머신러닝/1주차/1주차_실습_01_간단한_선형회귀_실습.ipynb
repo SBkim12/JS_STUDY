{
  "cells": [
    {
      "cell_type": "markdown",
      "metadata": {
        "id": "X97SlAsRBrOe"
      },
      "source": [
        "# 초간단 Linear Regression 실습 (TensorFlow)\n",
        "\n",
        "TensorFlow 공식 가이드 문서: https://www.tensorflow.org/guide\n",
        "\n",
        "Keras 공식 가이드 문서: https://www.tensorflow.org/guide/keras/sequential_model\n",
        "\n",
        "현재 TensorFlow 는 아래 방식으로 구현하는 것을 권장하고 있지 않습니다. 강의에서는 선형 회귀의 이해를 돕기위해 아래의 코드를 사용했지만 TensorFlow에서는 keras 사용하도록 권장하고 있고 우리 강의에서도 **최신 트렌드에 맞게 keras를 사용**할 예정입니다!"
      ]
    },
    {
      "cell_type": "code",
      "execution_count": 3,
      "metadata": {
        "id": "FABQeusq6k05"
      },
      "outputs": [],
      "source": [
        "import tensorflow as tf\n",
        "\n",
        "tf.compat.v1.disable_eager_execution()\n",
        "\n",
        "x_data = [[1, 1], [2, 2], [3, 3]]\n",
        "y_data = [[10], [20], [30]]\n",
        "\n",
        "X = tf.compat.v1.placeholder(tf.float32, shape=[None, 2])\n",
        "Y = tf.compat.v1.placeholder(tf.float32, shape=[None, 1])\n",
        "\n",
        "W = tf.Variable(tf.random.normal(shape=(2, 1)), name='W')\n",
        "b = tf.Variable(tf.random.normal(shape=(1,)), name='b')"
      ]
    },
    {
      "cell_type": "code",
      "execution_count": 4,
      "metadata": {
        "id": "6CjakDv2CB4D"
      },
      "outputs": [],
      "source": [
        "hypothesis = tf.matmul(X, W) + b\n",
        "cost = tf.reduce_mean(tf.square(hypothesis - Y))\n",
        "optimizer = tf.compat.v1.train.GradientDescentOptimizer(learning_rate=0.01).minimize(cost)"
      ]
    },
    {
      "cell_type": "code",
      "execution_count": 5,
      "metadata": {
        "colab": {
          "base_uri": "https://localhost:8080/"
        },
        "id": "blnlq78UFEiW",
        "outputId": "f4260c61-d819-4ea0-8ad7-cf4e6ea39701"
      },
      "outputs": [
        {
          "name": "stdout",
          "output_type": "stream",
          "text": [
            "Step:  0\t loss: 576.46\t\n",
            "Step:  1\t loss: 365.42\t\n",
            "Step:  2\t loss: 231.71\t\n",
            "Step:  3\t loss: 147.01\t\n",
            "Step:  4\t loss: 93.34\t\n",
            "Step:  5\t loss: 59.34\t\n",
            "Step:  6\t loss: 37.80\t\n",
            "Step:  7\t loss: 24.15\t\n",
            "Step:  8\t loss: 15.51\t\n",
            "Step:  9\t loss: 10.03\t\n",
            "Step: 10\t loss: 6.55\t\n",
            "Step: 11\t loss: 4.35\t\n",
            "Step: 12\t loss: 2.96\t\n",
            "Step: 13\t loss: 2.07\t\n",
            "Step: 14\t loss: 1.51\t\n",
            "Step: 15\t loss: 1.15\t\n",
            "Step: 16\t loss: 0.93\t\n",
            "Step: 17\t loss: 0.78\t\n",
            "Step: 18\t loss: 0.69\t\n",
            "Step: 19\t loss: 0.63\t\n",
            "Step: 20\t loss: 0.59\t\n",
            "Step: 21\t loss: 0.56\t\n",
            "Step: 22\t loss: 0.55\t\n",
            "Step: 23\t loss: 0.54\t\n",
            "Step: 24\t loss: 0.53\t\n",
            "Step: 25\t loss: 0.52\t\n",
            "Step: 26\t loss: 0.52\t\n",
            "Step: 27\t loss: 0.51\t\n",
            "Step: 28\t loss: 0.51\t\n",
            "Step: 29\t loss: 0.50\t\n",
            "Step: 30\t loss: 0.50\t\n",
            "Step: 31\t loss: 0.50\t\n",
            "Step: 32\t loss: 0.50\t\n",
            "Step: 33\t loss: 0.49\t\n",
            "Step: 34\t loss: 0.49\t\n",
            "Step: 35\t loss: 0.49\t\n",
            "Step: 36\t loss: 0.49\t\n",
            "Step: 37\t loss: 0.48\t\n",
            "Step: 38\t loss: 0.48\t\n",
            "Step: 39\t loss: 0.48\t\n",
            "Step: 40\t loss: 0.48\t\n",
            "Step: 41\t loss: 0.47\t\n",
            "Step: 42\t loss: 0.47\t\n",
            "Step: 43\t loss: 0.47\t\n",
            "Step: 44\t loss: 0.47\t\n",
            "Step: 45\t loss: 0.46\t\n",
            "Step: 46\t loss: 0.46\t\n",
            "Step: 47\t loss: 0.46\t\n",
            "Step: 48\t loss: 0.46\t\n",
            "Step: 49\t loss: 0.45\t\n",
            "[[38.687866]]\n"
          ]
        }
      ],
      "source": [
        "with tf.compat.v1.Session() as sess:\n",
        "  sess.run(tf.compat.v1.global_variables_initializer())\n",
        "\n",
        "  for step in range(50):\n",
        "    c, W_, b_, _ = sess.run([cost, W, b, optimizer], feed_dict={X: x_data, Y: y_data})\n",
        "    print('Step: %2d\\t loss: %.2f\\t' % (step, c))\n",
        "\n",
        "  print(sess.run(hypothesis, feed_dict={X: [[4, 4]]}))"
      ]
    },
    {
      "cell_type": "markdown",
      "metadata": {
        "id": "knqMJmBJI-zd"
      },
      "source": [
        "# 초초초간단 Linear Regression 실습 (Keras)"
      ]
    },
    {
      "cell_type": "code",
      "execution_count": 7,
      "metadata": {
        "colab": {
          "base_uri": "https://localhost:8080/"
        },
        "id": "dvD_mxONFiCy",
        "outputId": "105e458a-24dd-4a0a-961c-3db69762b32c"
      },
      "outputs": [
        {
          "name": "stdout",
          "output_type": "stream",
          "text": [
            "Train on 3 samples\n",
            "Epoch 1/100\n",
            "3/3 [==============================] - 0s 36ms/sample - loss: 475.8758\n",
            "Epoch 2/100\n",
            "3/3 [==============================] - 0s 1ms/sample - loss: 7.5536\n",
            "Epoch 3/100\n",
            "3/3 [==============================] - 0s 997us/sample - loss: 1.8706\n",
            "Epoch 4/100\n",
            "3/3 [==============================] - 0s 2ms/sample - loss: 1.7182\n",
            "Epoch 5/100\n",
            "3/3 [==============================] - 0s 996us/sample - loss: 1.6358\n",
            "Epoch 6/100\n",
            "3/3 [==============================] - 0s 1ms/sample - loss: 1.5581\n",
            "Epoch 7/100\n",
            "3/3 [==============================] - 0s 2ms/sample - loss: 1.4841\n",
            "Epoch 8/100\n",
            "3/3 [==============================] - 0s 998us/sample - loss: 1.4136\n",
            "Epoch 9/100\n",
            "3/3 [==============================] - 0s 1ms/sample - loss: 1.3464\n",
            "Epoch 10/100\n",
            "3/3 [==============================] - 0s 3ms/sample - loss: 1.2825\n",
            "Epoch 11/100\n",
            "3/3 [==============================] - 0s 2ms/sample - loss: 1.2215\n",
            "Epoch 12/100\n",
            "3/3 [==============================] - 0s 3ms/sample - loss: 1.1635\n",
            "Epoch 13/100\n",
            "3/3 [==============================] - 0s 996us/sample - loss: 1.1083\n",
            "Epoch 14/100\n",
            "3/3 [==============================] - 0s 996us/sample - loss: 1.0556\n",
            "Epoch 15/100\n",
            "3/3 [==============================] - 0s 997us/sample - loss: 1.0055\n",
            "Epoch 16/100\n",
            "3/3 [==============================] - 0s 1ms/sample - loss: 0.9577\n",
            "Epoch 17/100\n",
            "3/3 [==============================] - 0s 2ms/sample - loss: 0.9122\n",
            "Epoch 18/100\n",
            "3/3 [==============================] - 0s 2ms/sample - loss: 0.8689\n",
            "Epoch 19/100\n",
            "3/3 [==============================] - 0s 2ms/sample - loss: 0.8276\n",
            "Epoch 20/100\n",
            "3/3 [==============================] - 0s 1ms/sample - loss: 0.7883\n",
            "Epoch 21/100\n",
            "3/3 [==============================] - 0s 663us/sample - loss: 0.7509\n",
            "Epoch 22/100\n",
            "3/3 [==============================] - 0s 2ms/sample - loss: 0.7152\n",
            "Epoch 23/100\n",
            "3/3 [==============================] - 0s 997us/sample - loss: 0.6812\n",
            "Epoch 24/100\n",
            "3/3 [==============================] - 0s 997us/sample - loss: 0.6489\n",
            "Epoch 25/100\n",
            "3/3 [==============================] - 0s 997us/sample - loss: 0.6180\n",
            "Epoch 26/100\n",
            "3/3 [==============================] - 0s 994us/sample - loss: 0.5887\n",
            "Epoch 27/100\n",
            "3/3 [==============================] - 0s 1ms/sample - loss: 0.5607\n",
            "Epoch 28/100\n",
            "3/3 [==============================] - 0s 997us/sample - loss: 0.5341\n",
            "Epoch 29/100\n",
            "3/3 [==============================] - 0s 1ms/sample - loss: 0.5087\n",
            "Epoch 30/100\n",
            "3/3 [==============================] - 0s 998us/sample - loss: 0.4845\n",
            "Epoch 31/100\n",
            "3/3 [==============================] - 0s 1ms/sample - loss: 0.4615\n",
            "Epoch 32/100\n",
            "3/3 [==============================] - 0s 665us/sample - loss: 0.4396\n",
            "Epoch 33/100\n",
            "3/3 [==============================] - 0s 1ms/sample - loss: 0.4187\n",
            "Epoch 34/100\n",
            "3/3 [==============================] - 0s 664us/sample - loss: 0.3988\n",
            "Epoch 35/100\n",
            "3/3 [==============================] - 0s 2ms/sample - loss: 0.3799\n",
            "Epoch 36/100\n",
            "3/3 [==============================] - 0s 997us/sample - loss: 0.3618\n",
            "Epoch 37/100\n",
            "3/3 [==============================] - 0s 997us/sample - loss: 0.3447\n",
            "Epoch 38/100\n",
            "3/3 [==============================] - 0s 2ms/sample - loss: 0.3283\n",
            "Epoch 39/100\n",
            "3/3 [==============================] - 0s 997us/sample - loss: 0.3127\n",
            "Epoch 40/100\n",
            "3/3 [==============================] - 0s 665us/sample - loss: 0.2978\n",
            "Epoch 41/100\n",
            "3/3 [==============================] - 0s 994us/sample - loss: 0.2837\n",
            "Epoch 42/100\n",
            "3/3 [==============================] - 0s 1ms/sample - loss: 0.2702\n",
            "Epoch 43/100\n",
            "3/3 [==============================] - 0s 1ms/sample - loss: 0.2574\n",
            "Epoch 44/100\n",
            "3/3 [==============================] - 0s 997us/sample - loss: 0.2452\n",
            "Epoch 45/100\n",
            "3/3 [==============================] - 0s 3ms/sample - loss: 0.2335\n",
            "Epoch 46/100\n",
            "3/3 [==============================] - 0s 665us/sample - loss: 0.2224\n",
            "Epoch 47/100\n",
            "3/3 [==============================] - 0s 666us/sample - loss: 0.2119\n",
            "Epoch 48/100\n",
            "3/3 [==============================] - 0s 2ms/sample - loss: 0.2018\n",
            "Epoch 49/100\n",
            "3/3 [==============================] - 0s 665us/sample - loss: 0.1922\n",
            "Epoch 50/100\n",
            "3/3 [==============================] - 0s 1ms/sample - loss: 0.1831\n",
            "Epoch 51/100\n",
            "3/3 [==============================] - 0s 2ms/sample - loss: 0.1744\n",
            "Epoch 52/100\n",
            "3/3 [==============================] - 0s 665us/sample - loss: 0.1661\n",
            "Epoch 53/100\n",
            "3/3 [==============================] - 0s 997us/sample - loss: 0.1582\n",
            "Epoch 54/100\n",
            "3/3 [==============================] - 0s 998us/sample - loss: 0.1507\n",
            "Epoch 55/100\n",
            "3/3 [==============================] - 0s 2ms/sample - loss: 0.1435\n",
            "Epoch 56/100\n",
            "3/3 [==============================] - 0s 665us/sample - loss: 0.1367\n",
            "Epoch 57/100\n",
            "3/3 [==============================] - 0s 3ms/sample - loss: 0.1302\n",
            "Epoch 58/100\n",
            "3/3 [==============================] - 0s 998us/sample - loss: 0.1240\n",
            "Epoch 59/100\n",
            "3/3 [==============================] - 0s 998us/sample - loss: 0.1181\n",
            "Epoch 60/100\n",
            "3/3 [==============================] - 0s 4ms/sample - loss: 0.1125\n",
            "Epoch 61/100\n",
            "3/3 [==============================] - 0s 2ms/sample - loss: 0.1072\n",
            "Epoch 62/100\n",
            "3/3 [==============================] - 0s 2ms/sample - loss: 0.1021\n",
            "Epoch 63/100\n",
            "3/3 [==============================] - 0s 998us/sample - loss: 0.0972\n",
            "Epoch 64/100\n",
            "3/3 [==============================] - 0s 1ms/sample - loss: 0.0926\n",
            "Epoch 65/100\n",
            "3/3 [==============================] - 0s 997us/sample - loss: 0.0882\n",
            "Epoch 66/100\n",
            "3/3 [==============================] - 0s 2ms/sample - loss: 0.0840\n",
            "Epoch 67/100\n",
            "3/3 [==============================] - 0s 2ms/sample - loss: 0.0800\n",
            "Epoch 68/100\n",
            "3/3 [==============================] - 0s 4ms/sample - loss: 0.0762\n",
            "Epoch 69/100\n",
            "3/3 [==============================] - 0s 4ms/sample - loss: 0.0726\n",
            "Epoch 70/100\n",
            "3/3 [==============================] - 0s 997us/sample - loss: 0.0692\n",
            "Epoch 71/100\n",
            "3/3 [==============================] - 0s 665us/sample - loss: 0.0659\n",
            "Epoch 72/100\n",
            "3/3 [==============================] - 0s 2ms/sample - loss: 0.0628\n",
            "Epoch 73/100\n",
            "3/3 [==============================] - 0s 669us/sample - loss: 0.0598\n",
            "Epoch 74/100\n",
            "3/3 [==============================] - 0s 4ms/sample - loss: 0.0569\n",
            "Epoch 75/100\n",
            "3/3 [==============================] - 0s 3ms/sample - loss: 0.0542\n",
            "Epoch 76/100\n",
            "3/3 [==============================] - 0s 1ms/sample - loss: 0.0517\n",
            "Epoch 77/100\n",
            "3/3 [==============================] - 0s 664us/sample - loss: 0.0492\n",
            "Epoch 78/100\n",
            "3/3 [==============================] - 0s 3ms/sample - loss: 0.0469\n",
            "Epoch 79/100\n",
            "3/3 [==============================] - 0s 1ms/sample - loss: 0.0446\n",
            "Epoch 80/100\n",
            "3/3 [==============================] - 0s 4ms/sample - loss: 0.0425\n",
            "Epoch 81/100\n",
            "3/3 [==============================] - 0s 3ms/sample - loss: 0.0405\n",
            "Epoch 82/100\n",
            "3/3 [==============================] - 0s 1ms/sample - loss: 0.0386\n",
            "Epoch 83/100\n",
            "3/3 [==============================] - 0s 997us/sample - loss: 0.0367\n",
            "Epoch 84/100\n",
            "3/3 [==============================] - 0s 2ms/sample - loss: 0.0350\n",
            "Epoch 85/100\n",
            "3/3 [==============================] - 0s 1ms/sample - loss: 0.0333\n",
            "Epoch 86/100\n",
            "3/3 [==============================] - 0s 998us/sample - loss: 0.0318\n",
            "Epoch 87/100\n",
            "3/3 [==============================] - 0s 1ms/sample - loss: 0.0302\n",
            "Epoch 88/100\n",
            "3/3 [==============================] - 0s 993us/sample - loss: 0.0288\n",
            "Epoch 89/100\n",
            "3/3 [==============================] - 0s 997us/sample - loss: 0.0274\n",
            "Epoch 90/100\n",
            "3/3 [==============================] - 0s 999us/sample - loss: 0.0261\n",
            "Epoch 91/100\n",
            "3/3 [==============================] - 0s 2ms/sample - loss: 0.0249\n",
            "Epoch 92/100\n",
            "3/3 [==============================] - 0s 1ms/sample - loss: 0.0237\n",
            "Epoch 93/100\n",
            "3/3 [==============================] - 0s 4ms/sample - loss: 0.0226\n",
            "Epoch 94/100\n",
            "3/3 [==============================] - 0s 3ms/sample - loss: 0.0215\n",
            "Epoch 95/100\n",
            "3/3 [==============================] - 0s 2ms/sample - loss: 0.0205\n",
            "Epoch 96/100\n",
            "3/3 [==============================] - 0s 3ms/sample - loss: 0.0195\n",
            "Epoch 97/100\n",
            "3/3 [==============================] - 0s 993us/sample - loss: 0.0186\n",
            "Epoch 98/100\n",
            "3/3 [==============================] - 0s 2ms/sample - loss: 0.0177\n",
            "Epoch 99/100\n",
            "3/3 [==============================] - 0s 1ms/sample - loss: 0.0169\n",
            "Epoch 100/100\n",
            "3/3 [==============================] - 0s 997us/sample - loss: 0.0161\n"
          ]
        },
        {
          "data": {
            "text/plain": [
              "<tensorflow.python.keras.callbacks.History at 0x2052e2a6388>"
            ]
          },
          "execution_count": 7,
          "metadata": {},
          "output_type": "execute_result"
        }
      ],
      "source": [
        "import numpy as np\r\n",
        "from tensorflow.keras.models import Sequential\r\n",
        "from tensorflow.keras.layers import Dense\r\n",
        "from tensorflow.keras.optimizers import Adam, SGD\r\n",
        "\r\n",
        "x_data = np.array([[1], [2], [3]])\r\n",
        "y_data = np.array([[10], [20], [30]])\r\n",
        "\r\n",
        "model = Sequential([\r\n",
        "  Dense(1)\r\n",
        "])\r\n",
        "\r\n",
        "model.compile(loss='mean_squared_error', optimizer=SGD(lr=0.1))\r\n",
        "\r\n",
        "model.fit(x_data, y_data, epochs=100) # epochs(반복 학습 횟수) 복수형으로 쓰기!"
      ]
    },
    {
      "cell_type": "markdown",
      "metadata": {
        "id": "tfdDs3RITmpd"
      },
      "source": [
        "## 테스트 데이터 예측하기"
      ]
    },
    {
      "cell_type": "code",
      "execution_count": 9,
      "metadata": {
        "colab": {
          "base_uri": "https://localhost:8080/"
        },
        "id": "Ci3Hu3-eJse-",
        "outputId": "e2619f1a-dfef-4338-fbac-db4c8cf1b712"
      },
      "outputs": [
        {
          "name": "stdout",
          "output_type": "stream",
          "text": [
            "[[49.60825]]\n"
          ]
        }
      ],
      "source": [
        "y_pred = model.predict([[5]])\n",
        "\n",
        "print(y_pred)"
      ]
    },
    {
      "cell_type": "code",
      "execution_count": null,
      "metadata": {
        "id": "g3hH1c-kmhSz"
      },
      "outputs": [],
      "source": []
    }
  ],
  "metadata": {
    "colab": {
      "collapsed_sections": [],
      "name": "1주차 실습 - 01. 간단한 선형회귀 실습",
      "provenance": []
    },
    "interpreter": {
      "hash": "72913017d239961d9f24bcfdfe576c7fb971563c607a44246d1c46fab9664827"
    },
    "kernelspec": {
      "display_name": "Python 3.7.7 64-bit",
      "name": "python3"
    },
    "language_info": {
      "name": "python",
      "version": ""
    }
  },
  "nbformat": 4,
  "nbformat_minor": 0
}