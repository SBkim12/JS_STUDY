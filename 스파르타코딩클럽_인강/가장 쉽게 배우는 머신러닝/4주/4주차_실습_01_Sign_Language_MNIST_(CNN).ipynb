{
  "nbformat": 4,
  "nbformat_minor": 0,
  "metadata": {
    "colab": {
      "name": "4주차 실습 - 01. Sign Language MNIST (CNN)",
      "provenance": [],
      "collapsed_sections": [],
      "toc_visible": true
    },
    "kernelspec": {
      "name": "python3",
      "display_name": "Python 3.9.6 64-bit"
    },
    "accelerator": "GPU",
    "language_info": {
      "name": "python",
      "version": "3.9.6"
    },
    "interpreter": {
      "hash": "2647ea34e536f865ab67ff9ddee7fd78773d956cec0cab53c79b32cd10da5d83"
    }
  },
  "cells": [
    {
      "cell_type": "markdown",
      "metadata": {
        "id": "cHlwAFsG37ON"
      },
      "source": [
        "# 딥러닝에서 실행 속도를 더 빠르게 하는 방법\n",
        "\n",
        "지금까지는 CPU를 사용했는데 GPU를 사용하면 딥러닝의 연산속도를 대폭 향상시킬 수 있습니다!\n",
        "\n",
        "[런타임] - [런타임 유형 변경] - 하드웨어 가속기 GPU 선택 저장"
      ]
    },
    {
      "cell_type": "markdown",
      "metadata": {
        "id": "I_strLH75R_x"
      },
      "source": [
        "# 데이터셋 다운로드\n",
        "\n",
        "영어 알파벳 수화 데이터셋\n",
        "\n",
        "https://www.kaggle.com/datamunge/sign-language-mnist"
      ]
    },
    {
      "cell_type": "code",
      "metadata": {
        "id": "bJKeLdEjvGwH"
      },
      "source": [
        "import os\n",
        "os.environ['KAGGLE_USERNAME'] = '' # \n",
        "os.environ['KAGGLE_KEY'] = '' # key"
      ],
      "execution_count": 2,
      "outputs": []
    },
    {
      "cell_type": "code",
      "metadata": {
        "colab": {
          "base_uri": "https://localhost:8080/"
        },
        "id": "TzuxJtyRwqa5",
        "outputId": "df6d01f2-2ff1-46ee-8459-e535f8f9281e"
      },
      "source": [
        "!kaggle datasets downlod  -d datamunge/sign-language-mnist"
      ],
      "execution_count": 10,
      "outputs": [
        {
          "output_type": "stream",
          "name": "stdout",
          "text": [
            "Downloading sign-language-mnist.zip to c:\\Users\\User\\Desktop\\TIL\\스파르타코딩클럽_인강\\가장 쉽게 배우는 머신러닝\\4주차\n",
            "\n",
            "\n",
            "  0%|          | 0.00/62.6M [00:00<?, ?B/s]\n",
            "  3%|▎         | 2.00M/62.6M [00:00<00:05, 11.7MB/s]\n",
            "  6%|▋         | 4.00M/62.6M [00:00<00:05, 11.7MB/s]\n",
            " 10%|▉         | 6.00M/62.6M [00:00<00:05, 10.2MB/s]\n",
            " 11%|█         | 7.00M/62.6M [00:00<00:06, 9.57MB/s]\n",
            " 14%|█▍        | 9.00M/62.6M [00:01<00:08, 6.29MB/s]\n",
            " 16%|█▌        | 10.0M/62.6M [00:01<00:08, 6.78MB/s]\n",
            " 18%|█▊        | 11.0M/62.6M [00:01<00:07, 6.89MB/s]\n",
            " 21%|██        | 13.0M/62.6M [00:01<00:06, 8.24MB/s]\n",
            " 24%|██▍       | 15.0M/62.6M [00:01<00:05, 9.22MB/s]\n",
            " 27%|██▋       | 17.0M/62.6M [00:02<00:04, 9.92MB/s]\n",
            " 30%|███       | 19.0M/62.6M [00:02<00:04, 10.4MB/s]\n",
            " 34%|███▎      | 21.0M/62.6M [00:02<00:04, 10.8MB/s]\n",
            " 37%|███▋      | 23.0M/62.6M [00:02<00:04, 10.3MB/s]\n",
            " 40%|███▉      | 25.0M/62.6M [00:02<00:03, 10.7MB/s]\n",
            " 43%|████▎     | 27.0M/62.6M [00:02<00:03, 10.9MB/s]\n",
            " 46%|████▋     | 29.0M/62.6M [00:03<00:03, 11.1MB/s]\n",
            " 50%|████▉     | 31.0M/62.6M [00:03<00:02, 11.3MB/s]\n",
            " 53%|█████▎    | 33.0M/62.6M [00:03<00:02, 11.4MB/s]\n",
            " 56%|█████▌    | 35.0M/62.6M [00:03<00:02, 11.5MB/s]\n",
            " 59%|█████▉    | 37.0M/62.6M [00:03<00:02, 11.5MB/s]\n",
            " 62%|██████▏   | 39.0M/62.6M [00:04<00:02, 11.6MB/s]\n",
            " 66%|██████▌   | 41.0M/62.6M [00:04<00:01, 11.3MB/s]\n",
            " 69%|██████▊   | 43.0M/62.6M [00:04<00:02, 9.57MB/s]\n",
            " 72%|███████▏  | 45.0M/62.6M [00:04<00:01, 10.0MB/s]\n",
            " 75%|███████▌  | 47.0M/62.6M [00:04<00:01, 10.4MB/s]\n",
            " 78%|███████▊  | 49.0M/62.6M [00:05<00:01, 10.6MB/s]\n",
            " 81%|████████▏ | 51.0M/62.6M [00:05<00:01, 10.9MB/s]\n",
            " 85%|████████▍ | 53.0M/62.6M [00:05<00:00, 11.1MB/s]\n",
            " 88%|████████▊ | 55.0M/62.6M [00:05<00:00, 11.2MB/s]\n",
            " 91%|█████████ | 57.0M/62.6M [00:05<00:00, 11.3MB/s]\n",
            " 94%|█████████▍| 59.0M/62.6M [00:06<00:00, 11.4MB/s]\n",
            " 97%|█████████▋| 61.0M/62.6M [00:06<00:00, 11.5MB/s]\n",
            "100%|██████████| 62.6M/62.6M [00:06<00:00, 11.5MB/s]\n",
            "100%|██████████| 62.6M/62.6M [00:06<00:00, 10.4MB/s]\n"
          ]
        }
      ]
    },
    {
      "cell_type": "code",
      "metadata": {
        "colab": {
          "base_uri": "https://localhost:8080/"
        },
        "id": "zkvISHBAwtTU",
        "outputId": "48ce7b04-e06a-49d4-e481-1c7255e6716e"
      },
      "source": [
        "!unzip sign-language-mnist.zip"
      ],
      "execution_count": 11,
      "outputs": [
        {
          "output_type": "stream",
          "name": "stdout",
          "text": [
            "Archive:  sign-language-mnist.zip\n",
            "  inflating: amer_sign2.png          \n",
            "  inflating: amer_sign3.png          \n",
            "  inflating: american_sign_language.PNG  \n",
            "  inflating: sign_mnist_test.csv     \n",
            "  inflating: sign_mnist_test/sign_mnist_test.csv  \n",
            "  inflating: sign_mnist_train.csv    \n",
            "  inflating: sign_mnist_train/sign_mnist_train.csv  \n"
          ]
        }
      ]
    },
    {
      "cell_type": "markdown",
      "metadata": {
        "id": "B9G2lY7z5UZ9"
      },
      "source": [
        "# 패키지 로드"
      ]
    },
    {
      "cell_type": "code",
      "metadata": {
        "id": "j-tKAJLYwZ77"
      },
      "source": [
        "from tensorflow.keras.models import Model\n",
        "from tensorflow.keras.layers import Input, Dense, Conv2D, MaxPooling2D, Flatten, Dropout\n",
        "from tensorflow.keras.optimizers import Adam, SGD\n",
        "from tensorflow.keras.preprocessing.image import ImageDataGenerator\n",
        "import numpy as np\n",
        "import pandas as pd\n",
        "import matplotlib.pyplot as plt\n",
        "import seaborn as sns\n",
        "from sklearn.model_selection import train_test_split\n",
        "from sklearn.preprocessing import StandardScaler\n",
        "from sklearn.preprocessing import OneHotEncoder"
      ],
      "execution_count": 13,
      "outputs": []
    },
    {
      "cell_type": "markdown",
      "metadata": {
        "id": "knVE3qsZ5Vu1"
      },
      "source": [
        "# 데이터셋 로드"
      ]
    },
    {
      "cell_type": "code",
      "metadata": {
        "colab": {
          "base_uri": "https://localhost:8080/",
          "height": 251
        },
        "id": "jTP5aXtBwlw-",
        "outputId": "ed93cfb9-1f4c-4ca1-97bf-c61c7d8d40e2"
      },
      "source": [
        "train_df = pd.read_csv('sign_mnist_train.csv')\n",
        "\n",
        "train_df.head()"
      ],
      "execution_count": 14,
      "outputs": [
        {
          "output_type": "execute_result",
          "data": {
            "text/plain": [
              "   label  pixel1  pixel2  pixel3  pixel4  pixel5  pixel6  pixel7  pixel8  \\\n",
              "0      3     107     118     127     134     139     143     146     150   \n",
              "1      6     155     157     156     156     156     157     156     158   \n",
              "2      2     187     188     188     187     187     186     187     188   \n",
              "3      2     211     211     212     212     211     210     211     210   \n",
              "4     13     164     167     170     172     176     179     180     184   \n",
              "\n",
              "   pixel9  ...  pixel775  pixel776  pixel777  pixel778  pixel779  pixel780  \\\n",
              "0     153  ...       207       207       207       207       206       206   \n",
              "1     158  ...        69       149       128        87        94       163   \n",
              "2     187  ...       202       201       200       199       198       199   \n",
              "3     210  ...       235       234       233       231       230       226   \n",
              "4     185  ...        92       105       105       108       133       163   \n",
              "\n",
              "   pixel781  pixel782  pixel783  pixel784  \n",
              "0       206       204       203       202  \n",
              "1       175       103       135       149  \n",
              "2       198       195       194       195  \n",
              "3       225       222       229       163  \n",
              "4       157       163       164       179  \n",
              "\n",
              "[5 rows x 785 columns]"
            ],
            "text/html": "<div>\n<style scoped>\n    .dataframe tbody tr th:only-of-type {\n        vertical-align: middle;\n    }\n\n    .dataframe tbody tr th {\n        vertical-align: top;\n    }\n\n    .dataframe thead th {\n        text-align: right;\n    }\n</style>\n<table border=\"1\" class=\"dataframe\">\n  <thead>\n    <tr style=\"text-align: right;\">\n      <th></th>\n      <th>label</th>\n      <th>pixel1</th>\n      <th>pixel2</th>\n      <th>pixel3</th>\n      <th>pixel4</th>\n      <th>pixel5</th>\n      <th>pixel6</th>\n      <th>pixel7</th>\n      <th>pixel8</th>\n      <th>pixel9</th>\n      <th>...</th>\n      <th>pixel775</th>\n      <th>pixel776</th>\n      <th>pixel777</th>\n      <th>pixel778</th>\n      <th>pixel779</th>\n      <th>pixel780</th>\n      <th>pixel781</th>\n      <th>pixel782</th>\n      <th>pixel783</th>\n      <th>pixel784</th>\n    </tr>\n  </thead>\n  <tbody>\n    <tr>\n      <th>0</th>\n      <td>3</td>\n      <td>107</td>\n      <td>118</td>\n      <td>127</td>\n      <td>134</td>\n      <td>139</td>\n      <td>143</td>\n      <td>146</td>\n      <td>150</td>\n      <td>153</td>\n      <td>...</td>\n      <td>207</td>\n      <td>207</td>\n      <td>207</td>\n      <td>207</td>\n      <td>206</td>\n      <td>206</td>\n      <td>206</td>\n      <td>204</td>\n      <td>203</td>\n      <td>202</td>\n    </tr>\n    <tr>\n      <th>1</th>\n      <td>6</td>\n      <td>155</td>\n      <td>157</td>\n      <td>156</td>\n      <td>156</td>\n      <td>156</td>\n      <td>157</td>\n      <td>156</td>\n      <td>158</td>\n      <td>158</td>\n      <td>...</td>\n      <td>69</td>\n      <td>149</td>\n      <td>128</td>\n      <td>87</td>\n      <td>94</td>\n      <td>163</td>\n      <td>175</td>\n      <td>103</td>\n      <td>135</td>\n      <td>149</td>\n    </tr>\n    <tr>\n      <th>2</th>\n      <td>2</td>\n      <td>187</td>\n      <td>188</td>\n      <td>188</td>\n      <td>187</td>\n      <td>187</td>\n      <td>186</td>\n      <td>187</td>\n      <td>188</td>\n      <td>187</td>\n      <td>...</td>\n      <td>202</td>\n      <td>201</td>\n      <td>200</td>\n      <td>199</td>\n      <td>198</td>\n      <td>199</td>\n      <td>198</td>\n      <td>195</td>\n      <td>194</td>\n      <td>195</td>\n    </tr>\n    <tr>\n      <th>3</th>\n      <td>2</td>\n      <td>211</td>\n      <td>211</td>\n      <td>212</td>\n      <td>212</td>\n      <td>211</td>\n      <td>210</td>\n      <td>211</td>\n      <td>210</td>\n      <td>210</td>\n      <td>...</td>\n      <td>235</td>\n      <td>234</td>\n      <td>233</td>\n      <td>231</td>\n      <td>230</td>\n      <td>226</td>\n      <td>225</td>\n      <td>222</td>\n      <td>229</td>\n      <td>163</td>\n    </tr>\n    <tr>\n      <th>4</th>\n      <td>13</td>\n      <td>164</td>\n      <td>167</td>\n      <td>170</td>\n      <td>172</td>\n      <td>176</td>\n      <td>179</td>\n      <td>180</td>\n      <td>184</td>\n      <td>185</td>\n      <td>...</td>\n      <td>92</td>\n      <td>105</td>\n      <td>105</td>\n      <td>108</td>\n      <td>133</td>\n      <td>163</td>\n      <td>157</td>\n      <td>163</td>\n      <td>164</td>\n      <td>179</td>\n    </tr>\n  </tbody>\n</table>\n<p>5 rows × 785 columns</p>\n</div>"
          },
          "metadata": {},
          "execution_count": 14
        }
      ]
    },
    {
      "cell_type": "code",
      "metadata": {
        "colab": {
          "base_uri": "https://localhost:8080/",
          "height": 251
        },
        "id": "vyA5zNokw9jd",
        "outputId": "5e61e24a-4c71-4339-cd63-93cab2e84c48"
      },
      "source": [
        "test_df = pd.read_csv('sign_mnist_test.csv')\n",
        "\n",
        "test_df.head()"
      ],
      "execution_count": null,
      "outputs": [
        {
          "output_type": "execute_result",
          "data": {
            "text/html": [
              "<div>\n",
              "<style scoped>\n",
              "    .dataframe tbody tr th:only-of-type {\n",
              "        vertical-align: middle;\n",
              "    }\n",
              "\n",
              "    .dataframe tbody tr th {\n",
              "        vertical-align: top;\n",
              "    }\n",
              "\n",
              "    .dataframe thead th {\n",
              "        text-align: right;\n",
              "    }\n",
              "</style>\n",
              "<table border=\"1\" class=\"dataframe\">\n",
              "  <thead>\n",
              "    <tr style=\"text-align: right;\">\n",
              "      <th></th>\n",
              "      <th>label</th>\n",
              "      <th>pixel1</th>\n",
              "      <th>pixel2</th>\n",
              "      <th>pixel3</th>\n",
              "      <th>pixel4</th>\n",
              "      <th>pixel5</th>\n",
              "      <th>pixel6</th>\n",
              "      <th>pixel7</th>\n",
              "      <th>pixel8</th>\n",
              "      <th>pixel9</th>\n",
              "      <th>pixel10</th>\n",
              "      <th>pixel11</th>\n",
              "      <th>pixel12</th>\n",
              "      <th>pixel13</th>\n",
              "      <th>pixel14</th>\n",
              "      <th>pixel15</th>\n",
              "      <th>pixel16</th>\n",
              "      <th>pixel17</th>\n",
              "      <th>pixel18</th>\n",
              "      <th>pixel19</th>\n",
              "      <th>pixel20</th>\n",
              "      <th>pixel21</th>\n",
              "      <th>pixel22</th>\n",
              "      <th>pixel23</th>\n",
              "      <th>pixel24</th>\n",
              "      <th>pixel25</th>\n",
              "      <th>pixel26</th>\n",
              "      <th>pixel27</th>\n",
              "      <th>pixel28</th>\n",
              "      <th>pixel29</th>\n",
              "      <th>pixel30</th>\n",
              "      <th>pixel31</th>\n",
              "      <th>pixel32</th>\n",
              "      <th>pixel33</th>\n",
              "      <th>pixel34</th>\n",
              "      <th>pixel35</th>\n",
              "      <th>pixel36</th>\n",
              "      <th>pixel37</th>\n",
              "      <th>pixel38</th>\n",
              "      <th>pixel39</th>\n",
              "      <th>...</th>\n",
              "      <th>pixel745</th>\n",
              "      <th>pixel746</th>\n",
              "      <th>pixel747</th>\n",
              "      <th>pixel748</th>\n",
              "      <th>pixel749</th>\n",
              "      <th>pixel750</th>\n",
              "      <th>pixel751</th>\n",
              "      <th>pixel752</th>\n",
              "      <th>pixel753</th>\n",
              "      <th>pixel754</th>\n",
              "      <th>pixel755</th>\n",
              "      <th>pixel756</th>\n",
              "      <th>pixel757</th>\n",
              "      <th>pixel758</th>\n",
              "      <th>pixel759</th>\n",
              "      <th>pixel760</th>\n",
              "      <th>pixel761</th>\n",
              "      <th>pixel762</th>\n",
              "      <th>pixel763</th>\n",
              "      <th>pixel764</th>\n",
              "      <th>pixel765</th>\n",
              "      <th>pixel766</th>\n",
              "      <th>pixel767</th>\n",
              "      <th>pixel768</th>\n",
              "      <th>pixel769</th>\n",
              "      <th>pixel770</th>\n",
              "      <th>pixel771</th>\n",
              "      <th>pixel772</th>\n",
              "      <th>pixel773</th>\n",
              "      <th>pixel774</th>\n",
              "      <th>pixel775</th>\n",
              "      <th>pixel776</th>\n",
              "      <th>pixel777</th>\n",
              "      <th>pixel778</th>\n",
              "      <th>pixel779</th>\n",
              "      <th>pixel780</th>\n",
              "      <th>pixel781</th>\n",
              "      <th>pixel782</th>\n",
              "      <th>pixel783</th>\n",
              "      <th>pixel784</th>\n",
              "    </tr>\n",
              "  </thead>\n",
              "  <tbody>\n",
              "    <tr>\n",
              "      <th>0</th>\n",
              "      <td>6</td>\n",
              "      <td>149</td>\n",
              "      <td>149</td>\n",
              "      <td>150</td>\n",
              "      <td>150</td>\n",
              "      <td>150</td>\n",
              "      <td>151</td>\n",
              "      <td>151</td>\n",
              "      <td>150</td>\n",
              "      <td>151</td>\n",
              "      <td>152</td>\n",
              "      <td>152</td>\n",
              "      <td>152</td>\n",
              "      <td>152</td>\n",
              "      <td>152</td>\n",
              "      <td>153</td>\n",
              "      <td>153</td>\n",
              "      <td>151</td>\n",
              "      <td>152</td>\n",
              "      <td>152</td>\n",
              "      <td>153</td>\n",
              "      <td>152</td>\n",
              "      <td>152</td>\n",
              "      <td>151</td>\n",
              "      <td>151</td>\n",
              "      <td>150</td>\n",
              "      <td>150</td>\n",
              "      <td>150</td>\n",
              "      <td>149</td>\n",
              "      <td>150</td>\n",
              "      <td>150</td>\n",
              "      <td>150</td>\n",
              "      <td>152</td>\n",
              "      <td>152</td>\n",
              "      <td>151</td>\n",
              "      <td>152</td>\n",
              "      <td>152</td>\n",
              "      <td>152</td>\n",
              "      <td>152</td>\n",
              "      <td>152</td>\n",
              "      <td>...</td>\n",
              "      <td>131</td>\n",
              "      <td>134</td>\n",
              "      <td>144</td>\n",
              "      <td>147</td>\n",
              "      <td>125</td>\n",
              "      <td>87</td>\n",
              "      <td>87</td>\n",
              "      <td>103</td>\n",
              "      <td>107</td>\n",
              "      <td>110</td>\n",
              "      <td>116</td>\n",
              "      <td>113</td>\n",
              "      <td>75</td>\n",
              "      <td>74</td>\n",
              "      <td>74</td>\n",
              "      <td>74</td>\n",
              "      <td>76</td>\n",
              "      <td>74</td>\n",
              "      <td>82</td>\n",
              "      <td>134</td>\n",
              "      <td>168</td>\n",
              "      <td>155</td>\n",
              "      <td>146</td>\n",
              "      <td>137</td>\n",
              "      <td>145</td>\n",
              "      <td>146</td>\n",
              "      <td>149</td>\n",
              "      <td>135</td>\n",
              "      <td>124</td>\n",
              "      <td>125</td>\n",
              "      <td>138</td>\n",
              "      <td>148</td>\n",
              "      <td>127</td>\n",
              "      <td>89</td>\n",
              "      <td>82</td>\n",
              "      <td>96</td>\n",
              "      <td>106</td>\n",
              "      <td>112</td>\n",
              "      <td>120</td>\n",
              "      <td>107</td>\n",
              "    </tr>\n",
              "    <tr>\n",
              "      <th>1</th>\n",
              "      <td>5</td>\n",
              "      <td>126</td>\n",
              "      <td>128</td>\n",
              "      <td>131</td>\n",
              "      <td>132</td>\n",
              "      <td>133</td>\n",
              "      <td>134</td>\n",
              "      <td>135</td>\n",
              "      <td>135</td>\n",
              "      <td>136</td>\n",
              "      <td>138</td>\n",
              "      <td>137</td>\n",
              "      <td>137</td>\n",
              "      <td>138</td>\n",
              "      <td>138</td>\n",
              "      <td>139</td>\n",
              "      <td>137</td>\n",
              "      <td>142</td>\n",
              "      <td>140</td>\n",
              "      <td>138</td>\n",
              "      <td>139</td>\n",
              "      <td>137</td>\n",
              "      <td>137</td>\n",
              "      <td>136</td>\n",
              "      <td>135</td>\n",
              "      <td>134</td>\n",
              "      <td>133</td>\n",
              "      <td>134</td>\n",
              "      <td>132</td>\n",
              "      <td>129</td>\n",
              "      <td>132</td>\n",
              "      <td>134</td>\n",
              "      <td>135</td>\n",
              "      <td>135</td>\n",
              "      <td>137</td>\n",
              "      <td>139</td>\n",
              "      <td>139</td>\n",
              "      <td>139</td>\n",
              "      <td>140</td>\n",
              "      <td>141</td>\n",
              "      <td>...</td>\n",
              "      <td>114</td>\n",
              "      <td>112</td>\n",
              "      <td>89</td>\n",
              "      <td>48</td>\n",
              "      <td>133</td>\n",
              "      <td>194</td>\n",
              "      <td>182</td>\n",
              "      <td>185</td>\n",
              "      <td>184</td>\n",
              "      <td>184</td>\n",
              "      <td>182</td>\n",
              "      <td>181</td>\n",
              "      <td>172</td>\n",
              "      <td>174</td>\n",
              "      <td>177</td>\n",
              "      <td>178</td>\n",
              "      <td>178</td>\n",
              "      <td>179</td>\n",
              "      <td>181</td>\n",
              "      <td>183</td>\n",
              "      <td>187</td>\n",
              "      <td>175</td>\n",
              "      <td>165</td>\n",
              "      <td>154</td>\n",
              "      <td>118</td>\n",
              "      <td>107</td>\n",
              "      <td>100</td>\n",
              "      <td>75</td>\n",
              "      <td>96</td>\n",
              "      <td>83</td>\n",
              "      <td>47</td>\n",
              "      <td>104</td>\n",
              "      <td>194</td>\n",
              "      <td>183</td>\n",
              "      <td>186</td>\n",
              "      <td>184</td>\n",
              "      <td>184</td>\n",
              "      <td>184</td>\n",
              "      <td>182</td>\n",
              "      <td>180</td>\n",
              "    </tr>\n",
              "    <tr>\n",
              "      <th>2</th>\n",
              "      <td>10</td>\n",
              "      <td>85</td>\n",
              "      <td>88</td>\n",
              "      <td>92</td>\n",
              "      <td>96</td>\n",
              "      <td>105</td>\n",
              "      <td>123</td>\n",
              "      <td>135</td>\n",
              "      <td>143</td>\n",
              "      <td>147</td>\n",
              "      <td>152</td>\n",
              "      <td>157</td>\n",
              "      <td>163</td>\n",
              "      <td>168</td>\n",
              "      <td>171</td>\n",
              "      <td>182</td>\n",
              "      <td>172</td>\n",
              "      <td>175</td>\n",
              "      <td>185</td>\n",
              "      <td>183</td>\n",
              "      <td>184</td>\n",
              "      <td>185</td>\n",
              "      <td>185</td>\n",
              "      <td>185</td>\n",
              "      <td>183</td>\n",
              "      <td>183</td>\n",
              "      <td>182</td>\n",
              "      <td>181</td>\n",
              "      <td>178</td>\n",
              "      <td>86</td>\n",
              "      <td>88</td>\n",
              "      <td>93</td>\n",
              "      <td>96</td>\n",
              "      <td>108</td>\n",
              "      <td>125</td>\n",
              "      <td>137</td>\n",
              "      <td>145</td>\n",
              "      <td>149</td>\n",
              "      <td>154</td>\n",
              "      <td>160</td>\n",
              "      <td>...</td>\n",
              "      <td>145</td>\n",
              "      <td>123</td>\n",
              "      <td>78</td>\n",
              "      <td>162</td>\n",
              "      <td>239</td>\n",
              "      <td>227</td>\n",
              "      <td>229</td>\n",
              "      <td>226</td>\n",
              "      <td>226</td>\n",
              "      <td>225</td>\n",
              "      <td>224</td>\n",
              "      <td>222</td>\n",
              "      <td>89</td>\n",
              "      <td>91</td>\n",
              "      <td>94</td>\n",
              "      <td>111</td>\n",
              "      <td>136</td>\n",
              "      <td>154</td>\n",
              "      <td>167</td>\n",
              "      <td>184</td>\n",
              "      <td>125</td>\n",
              "      <td>3</td>\n",
              "      <td>166</td>\n",
              "      <td>225</td>\n",
              "      <td>195</td>\n",
              "      <td>188</td>\n",
              "      <td>172</td>\n",
              "      <td>185</td>\n",
              "      <td>161</td>\n",
              "      <td>122</td>\n",
              "      <td>68</td>\n",
              "      <td>166</td>\n",
              "      <td>242</td>\n",
              "      <td>227</td>\n",
              "      <td>230</td>\n",
              "      <td>227</td>\n",
              "      <td>226</td>\n",
              "      <td>225</td>\n",
              "      <td>224</td>\n",
              "      <td>222</td>\n",
              "    </tr>\n",
              "    <tr>\n",
              "      <th>3</th>\n",
              "      <td>0</td>\n",
              "      <td>203</td>\n",
              "      <td>205</td>\n",
              "      <td>207</td>\n",
              "      <td>206</td>\n",
              "      <td>207</td>\n",
              "      <td>209</td>\n",
              "      <td>210</td>\n",
              "      <td>209</td>\n",
              "      <td>210</td>\n",
              "      <td>209</td>\n",
              "      <td>208</td>\n",
              "      <td>207</td>\n",
              "      <td>207</td>\n",
              "      <td>209</td>\n",
              "      <td>208</td>\n",
              "      <td>210</td>\n",
              "      <td>210</td>\n",
              "      <td>207</td>\n",
              "      <td>209</td>\n",
              "      <td>209</td>\n",
              "      <td>208</td>\n",
              "      <td>209</td>\n",
              "      <td>210</td>\n",
              "      <td>209</td>\n",
              "      <td>207</td>\n",
              "      <td>208</td>\n",
              "      <td>209</td>\n",
              "      <td>207</td>\n",
              "      <td>206</td>\n",
              "      <td>208</td>\n",
              "      <td>209</td>\n",
              "      <td>208</td>\n",
              "      <td>208</td>\n",
              "      <td>210</td>\n",
              "      <td>211</td>\n",
              "      <td>210</td>\n",
              "      <td>211</td>\n",
              "      <td>209</td>\n",
              "      <td>209</td>\n",
              "      <td>...</td>\n",
              "      <td>85</td>\n",
              "      <td>80</td>\n",
              "      <td>84</td>\n",
              "      <td>151</td>\n",
              "      <td>238</td>\n",
              "      <td>255</td>\n",
              "      <td>255</td>\n",
              "      <td>250</td>\n",
              "      <td>237</td>\n",
              "      <td>245</td>\n",
              "      <td>250</td>\n",
              "      <td>232</td>\n",
              "      <td>103</td>\n",
              "      <td>101</td>\n",
              "      <td>102</td>\n",
              "      <td>103</td>\n",
              "      <td>95</td>\n",
              "      <td>208</td>\n",
              "      <td>231</td>\n",
              "      <td>227</td>\n",
              "      <td>209</td>\n",
              "      <td>190</td>\n",
              "      <td>179</td>\n",
              "      <td>182</td>\n",
              "      <td>152</td>\n",
              "      <td>150</td>\n",
              "      <td>159</td>\n",
              "      <td>119</td>\n",
              "      <td>83</td>\n",
              "      <td>63</td>\n",
              "      <td>154</td>\n",
              "      <td>248</td>\n",
              "      <td>247</td>\n",
              "      <td>248</td>\n",
              "      <td>253</td>\n",
              "      <td>236</td>\n",
              "      <td>230</td>\n",
              "      <td>240</td>\n",
              "      <td>253</td>\n",
              "      <td>255</td>\n",
              "    </tr>\n",
              "    <tr>\n",
              "      <th>4</th>\n",
              "      <td>3</td>\n",
              "      <td>188</td>\n",
              "      <td>191</td>\n",
              "      <td>193</td>\n",
              "      <td>195</td>\n",
              "      <td>199</td>\n",
              "      <td>201</td>\n",
              "      <td>202</td>\n",
              "      <td>203</td>\n",
              "      <td>203</td>\n",
              "      <td>203</td>\n",
              "      <td>204</td>\n",
              "      <td>204</td>\n",
              "      <td>204</td>\n",
              "      <td>203</td>\n",
              "      <td>202</td>\n",
              "      <td>198</td>\n",
              "      <td>216</td>\n",
              "      <td>217</td>\n",
              "      <td>135</td>\n",
              "      <td>181</td>\n",
              "      <td>200</td>\n",
              "      <td>195</td>\n",
              "      <td>194</td>\n",
              "      <td>193</td>\n",
              "      <td>190</td>\n",
              "      <td>189</td>\n",
              "      <td>187</td>\n",
              "      <td>185</td>\n",
              "      <td>190</td>\n",
              "      <td>194</td>\n",
              "      <td>196</td>\n",
              "      <td>197</td>\n",
              "      <td>200</td>\n",
              "      <td>202</td>\n",
              "      <td>204</td>\n",
              "      <td>206</td>\n",
              "      <td>207</td>\n",
              "      <td>207</td>\n",
              "      <td>206</td>\n",
              "      <td>...</td>\n",
              "      <td>93</td>\n",
              "      <td>52</td>\n",
              "      <td>24</td>\n",
              "      <td>53</td>\n",
              "      <td>63</td>\n",
              "      <td>33</td>\n",
              "      <td>41</td>\n",
              "      <td>51</td>\n",
              "      <td>48</td>\n",
              "      <td>45</td>\n",
              "      <td>49</td>\n",
              "      <td>55</td>\n",
              "      <td>149</td>\n",
              "      <td>150</td>\n",
              "      <td>150</td>\n",
              "      <td>148</td>\n",
              "      <td>147</td>\n",
              "      <td>151</td>\n",
              "      <td>124</td>\n",
              "      <td>82</td>\n",
              "      <td>84</td>\n",
              "      <td>81</td>\n",
              "      <td>69</td>\n",
              "      <td>81</td>\n",
              "      <td>111</td>\n",
              "      <td>103</td>\n",
              "      <td>84</td>\n",
              "      <td>75</td>\n",
              "      <td>53</td>\n",
              "      <td>28</td>\n",
              "      <td>26</td>\n",
              "      <td>40</td>\n",
              "      <td>64</td>\n",
              "      <td>48</td>\n",
              "      <td>29</td>\n",
              "      <td>46</td>\n",
              "      <td>49</td>\n",
              "      <td>46</td>\n",
              "      <td>46</td>\n",
              "      <td>53</td>\n",
              "    </tr>\n",
              "  </tbody>\n",
              "</table>\n",
              "<p>5 rows × 785 columns</p>\n",
              "</div>"
            ],
            "text/plain": [
              "   label  pixel1  pixel2  pixel3  ...  pixel781  pixel782  pixel783  pixel784\n",
              "0      6     149     149     150  ...       106       112       120       107\n",
              "1      5     126     128     131  ...       184       184       182       180\n",
              "2     10      85      88      92  ...       226       225       224       222\n",
              "3      0     203     205     207  ...       230       240       253       255\n",
              "4      3     188     191     193  ...        49        46        46        53\n",
              "\n",
              "[5 rows x 785 columns]"
            ]
          },
          "metadata": {
            "tags": []
          },
          "execution_count": 6
        }
      ]
    },
    {
      "cell_type": "markdown",
      "metadata": {
        "id": "JO-tOVOE3Pjd"
      },
      "source": [
        "# 라벨 분포\n",
        "- 9=J or 25=Z 는 동작이 들어가므로 제외\n",
        "- 총 24개의 라벨"
      ]
    },
    {
      "cell_type": "code",
      "metadata": {
        "colab": {
          "base_uri": "https://localhost:8080/",
          "height": 605
        },
        "id": "If0PleoZxOrS",
        "outputId": "b825b6ff-8cdc-4943-8c54-cc2877fb76ed"
      },
      "source": [
        "plt.figure(figsize=(16, 10))\n",
        "sns.countplot(train_df['label'])\n",
        "plt.show()"
      ],
      "execution_count": 23,
      "outputs": [
        {
          "output_type": "stream",
          "name": "stderr",
          "text": [
            "C:\\Users\\User\\AppData\\Local\\Programs\\Python\\Python39\\lib\\site-packages\\seaborn\\_decorators.py:36: FutureWarning: Pass the following variable as a keyword arg: x. From version 0.12, the only valid positional argument will be `data`, and passing other arguments without an explicit keyword will result in an error or misinterpretation.\n  warnings.warn(\n"
          ]
        },
        {
          "output_type": "display_data",
          "data": {
            "text/plain": "<Figure size 1152x720 with 1 Axes>",
            "image/svg+xml": "<?xml version=\"1.0\" encoding=\"utf-8\" standalone=\"no\"?>\r\n<!DOCTYPE svg PUBLIC \"-//W3C//DTD SVG 1.1//EN\"\r\n  \"http://www.w3.org/Graphics/SVG/1.1/DTD/svg11.dtd\">\r\n<svg height=\"588.35625pt\" version=\"1.1\" viewBox=\"0 0 953.328125 588.35625\" width=\"953.328125pt\" xmlns=\"http://www.w3.org/2000/svg\" xmlns:xlink=\"http://www.w3.org/1999/xlink\">\r\n <metadata>\r\n  <rdf:RDF xmlns:cc=\"http://creativecommons.org/ns#\" xmlns:dc=\"http://purl.org/dc/elements/1.1/\" xmlns:rdf=\"http://www.w3.org/1999/02/22-rdf-syntax-ns#\">\r\n   <cc:Work>\r\n    <dc:type rdf:resource=\"http://purl.org/dc/dcmitype/StillImage\"/>\r\n    <dc:date>2021-07-30T11:12:07.225836</dc:date>\r\n    <dc:format>image/svg+xml</dc:format>\r\n    <dc:creator>\r\n     <cc:Agent>\r\n      <dc:title>Matplotlib v3.4.2, https://matplotlib.org/</dc:title>\r\n     </cc:Agent>\r\n    </dc:creator>\r\n   </cc:Work>\r\n  </rdf:RDF>\r\n </metadata>\r\n <defs>\r\n  <style type=\"text/css\">*{stroke-linecap:butt;stroke-linejoin:round;}</style>\r\n </defs>\r\n <g id=\"figure_1\">\r\n  <g id=\"patch_1\">\r\n   <path d=\"M 0 588.35625 \r\nL 953.328125 588.35625 \r\nL 953.328125 0 \r\nL 0 0 \r\nz\r\n\" style=\"fill:none;\"/>\r\n  </g>\r\n  <g id=\"axes_1\">\r\n   <g id=\"patch_2\">\r\n    <path d=\"M 53.328125 550.8 \r\nL 946.128125 550.8 \r\nL 946.128125 7.2 \r\nL 53.328125 7.2 \r\nz\r\n\" style=\"fill:#ffffff;\"/>\r\n   </g>\r\n   <g id=\"patch_3\">\r\n    <path clip-path=\"url(#pfee6203ccd)\" d=\"M 57.048125 550.8 \r\nL 86.808125 550.8 \r\nL 86.808125 100.300552 \r\nL 57.048125 100.300552 \r\nz\r\n\" style=\"fill:#ea96a3;\"/>\r\n   </g>\r\n   <g id=\"patch_4\">\r\n    <path clip-path=\"url(#pfee6203ccd)\" d=\"M 94.248125 550.8 \r\nL 124.008125 550.8 \r\nL 124.008125 146.710797 \r\nL 94.248125 146.710797 \r\nz\r\n\" style=\"fill:#e8968a;\"/>\r\n   </g>\r\n   <g id=\"patch_5\">\r\n    <path clip-path=\"url(#pfee6203ccd)\" d=\"M 131.448125 550.8 \r\nL 161.208125 550.8 \r\nL 161.208125 93.098962 \r\nL 131.448125 93.098962 \r\nz\r\n\" style=\"fill:#e19153;\"/>\r\n   </g>\r\n   <g id=\"patch_6\">\r\n    <path clip-path=\"url(#pfee6203ccd)\" d=\"M 168.648125 550.8 \r\nL 198.408125 550.8 \r\nL 198.408125 72.29437 \r\nL 168.648125 72.29437 \r\nz\r\n\" style=\"fill:#ca984c;\"/>\r\n   </g>\r\n   <g id=\"patch_7\">\r\n    <path clip-path=\"url(#pfee6203ccd)\" d=\"M 205.848125 550.8 \r\nL 235.608125 550.8 \r\nL 235.608125 167.915478 \r\nL 205.848125 167.915478 \r\nz\r\n\" style=\"fill:#b89c49;\"/>\r\n   </g>\r\n   <g id=\"patch_8\">\r\n    <path clip-path=\"url(#pfee6203ccd)\" d=\"M 243.048125 550.8 \r\nL 272.808125 550.8 \r\nL 272.808125 69.093663 \r\nL 243.048125 69.093663 \r\nz\r\n\" style=\"fill:#a89e47;\"/>\r\n   </g>\r\n   <g id=\"patch_9\">\r\n    <path clip-path=\"url(#pfee6203ccd)\" d=\"M 280.248125 550.8 \r\nL 310.008125 550.8 \r\nL 310.008125 114.703732 \r\nL 280.248125 114.703732 \r\nz\r\n\" style=\"fill:#98a246;\"/>\r\n   </g>\r\n   <g id=\"patch_10\">\r\n    <path clip-path=\"url(#pfee6203ccd)\" d=\"M 317.448125 550.8 \r\nL 347.208125 550.8 \r\nL 347.208125 145.510532 \r\nL 317.448125 145.510532 \r\nz\r\n\" style=\"fill:#84a846;\"/>\r\n   </g>\r\n   <g id=\"patch_11\">\r\n    <path clip-path=\"url(#pfee6203ccd)\" d=\"M 354.648125 550.8 \r\nL 384.408125 550.8 \r\nL 384.408125 85.897372 \r\nL 354.648125 85.897372 \r\nz\r\n\" style=\"fill:#60ae47;\"/>\r\n   </g>\r\n   <g id=\"patch_12\">\r\n    <path clip-path=\"url(#pfee6203ccd)\" d=\"M 391.848125 550.8 \r\nL 421.608125 550.8 \r\nL 421.608125 105.101612 \r\nL 391.848125 105.101612 \r\nz\r\n\" style=\"fill:#49af72;\"/>\r\n   </g>\r\n   <g id=\"patch_13\">\r\n    <path clip-path=\"url(#pfee6203ccd)\" d=\"M 429.048125 550.8 \r\nL 458.808125 550.8 \r\nL 458.808125 54.290395 \r\nL 429.048125 54.290395 \r\nz\r\n\" style=\"fill:#4aae8a;\"/>\r\n   </g>\r\n   <g id=\"patch_14\">\r\n    <path clip-path=\"url(#pfee6203ccd)\" d=\"M 466.248125 550.8 \r\nL 496.008125 550.8 \r\nL 496.008125 128.706823 \r\nL 466.248125 128.706823 \r\nz\r\n\" style=\"fill:#4aac99;\"/>\r\n   </g>\r\n   <g id=\"patch_15\">\r\n    <path clip-path=\"url(#pfee6203ccd)\" d=\"M 503.448125 550.8 \r\nL 533.208125 550.8 \r\nL 533.208125 90.298344 \r\nL 503.448125 90.298344 \r\nz\r\n\" style=\"fill:#4baba4;\"/>\r\n   </g>\r\n   <g id=\"patch_16\">\r\n    <path clip-path=\"url(#pfee6203ccd)\" d=\"M 540.648125 550.8 \r\nL 570.408125 550.8 \r\nL 570.408125 72.29437 \r\nL 540.648125 72.29437 \r\nz\r\n\" style=\"fill:#4cabaf;\"/>\r\n   </g>\r\n   <g id=\"patch_17\">\r\n    <path clip-path=\"url(#pfee6203ccd)\" d=\"M 577.848125 550.8 \r\nL 607.608125 550.8 \r\nL 607.608125 115.503908 \r\nL 577.848125 115.503908 \r\nz\r\n\" style=\"fill:#4fabbc;\"/>\r\n   </g>\r\n   <g id=\"patch_18\">\r\n    <path clip-path=\"url(#pfee6203ccd)\" d=\"M 615.048125 550.8 \r\nL 644.808125 550.8 \r\nL 644.808125 39.087039 \r\nL 615.048125 39.087039 \r\nz\r\n\" style=\"fill:#53accd;\"/>\r\n   </g>\r\n   <g id=\"patch_19\">\r\n    <path clip-path=\"url(#pfee6203ccd)\" d=\"M 652.248125 550.8 \r\nL 682.008125 550.8 \r\nL 682.008125 33.085714 \r\nL 652.248125 33.085714 \r\nz\r\n\" style=\"fill:#6daee2;\"/>\r\n   </g>\r\n   <g id=\"patch_20\">\r\n    <path clip-path=\"url(#pfee6203ccd)\" d=\"M 689.448125 550.8 \r\nL 719.208125 550.8 \r\nL 719.208125 71.094105 \r\nL 689.448125 71.094105 \r\nz\r\n\" style=\"fill:#9bade9;\"/>\r\n   </g>\r\n   <g id=\"patch_21\">\r\n    <path clip-path=\"url(#pfee6203ccd)\" d=\"M 726.648125 550.8 \r\nL 756.408125 550.8 \r\nL 756.408125 76.295253 \r\nL 726.648125 76.295253 \r\nz\r\n\" style=\"fill:#b6a8eb;\"/>\r\n   </g>\r\n   <g id=\"patch_22\">\r\n    <path clip-path=\"url(#pfee6203ccd)\" d=\"M 763.848125 550.8 \r\nL 793.608125 550.8 \r\nL 793.608125 86.297461 \r\nL 763.848125 86.297461 \r\nz\r\n\" style=\"fill:#ca9ee9;\"/>\r\n   </g>\r\n   <g id=\"patch_23\">\r\n    <path clip-path=\"url(#pfee6203ccd)\" d=\"M 801.048125 550.8 \r\nL 830.808125 550.8 \r\nL 830.808125 117.904438 \r\nL 801.048125 117.904438 \r\nz\r\n\" style=\"fill:#df8fe7;\"/>\r\n   </g>\r\n   <g id=\"patch_24\">\r\n    <path clip-path=\"url(#pfee6203ccd)\" d=\"M 838.248125 550.8 \r\nL 868.008125 550.8 \r\nL 868.008125 60.691808 \r\nL 838.248125 60.691808 \r\nz\r\n\" style=\"fill:#e78cd7;\"/>\r\n   </g>\r\n   <g id=\"patch_25\">\r\n    <path clip-path=\"url(#pfee6203ccd)\" d=\"M 875.448125 550.8 \r\nL 905.208125 550.8 \r\nL 905.208125 85.097196 \r\nL 875.448125 85.097196 \r\nz\r\n\" style=\"fill:#e890c6;\"/>\r\n   </g>\r\n   <g id=\"patch_26\">\r\n    <path clip-path=\"url(#pfee6203ccd)\" d=\"M 912.648125 550.8 \r\nL 942.408125 550.8 \r\nL 942.408125 103.501259 \r\nL 912.648125 103.501259 \r\nz\r\n\" style=\"fill:#e993b6;\"/>\r\n   </g>\r\n   <g id=\"matplotlib.axis_1\">\r\n    <g id=\"xtick_1\">\r\n     <g id=\"line2d_1\">\r\n      <defs>\r\n       <path d=\"M 0 0 \r\nL 0 3.5 \r\n\" id=\"mf3ec7dc4d9\" style=\"stroke:#000000;stroke-width:0.8;\"/>\r\n      </defs>\r\n      <g>\r\n       <use style=\"stroke:#000000;stroke-width:0.8;\" x=\"71.928125\" xlink:href=\"#mf3ec7dc4d9\" y=\"550.8\"/>\r\n      </g>\r\n     </g>\r\n     <g id=\"text_1\">\r\n      <!-- 0.0 -->\r\n      <g transform=\"translate(63.976563 565.398438)scale(0.1 -0.1)\">\r\n       <defs>\r\n        <path d=\"M 2034 4250 \r\nQ 1547 4250 1301 3770 \r\nQ 1056 3291 1056 2328 \r\nQ 1056 1369 1301 889 \r\nQ 1547 409 2034 409 \r\nQ 2525 409 2770 889 \r\nQ 3016 1369 3016 2328 \r\nQ 3016 3291 2770 3770 \r\nQ 2525 4250 2034 4250 \r\nz\r\nM 2034 4750 \r\nQ 2819 4750 3233 4129 \r\nQ 3647 3509 3647 2328 \r\nQ 3647 1150 3233 529 \r\nQ 2819 -91 2034 -91 \r\nQ 1250 -91 836 529 \r\nQ 422 1150 422 2328 \r\nQ 422 3509 836 4129 \r\nQ 1250 4750 2034 4750 \r\nz\r\n\" id=\"DejaVuSans-30\" transform=\"scale(0.015625)\"/>\r\n        <path d=\"M 684 794 \r\nL 1344 794 \r\nL 1344 0 \r\nL 684 0 \r\nL 684 794 \r\nz\r\n\" id=\"DejaVuSans-2e\" transform=\"scale(0.015625)\"/>\r\n       </defs>\r\n       <use xlink:href=\"#DejaVuSans-30\"/>\r\n       <use x=\"63.623047\" xlink:href=\"#DejaVuSans-2e\"/>\r\n       <use x=\"95.410156\" xlink:href=\"#DejaVuSans-30\"/>\r\n      </g>\r\n     </g>\r\n    </g>\r\n    <g id=\"xtick_2\">\r\n     <g id=\"line2d_2\">\r\n      <g>\r\n       <use style=\"stroke:#000000;stroke-width:0.8;\" x=\"109.128125\" xlink:href=\"#mf3ec7dc4d9\" y=\"550.8\"/>\r\n      </g>\r\n     </g>\r\n     <g id=\"text_2\">\r\n      <!-- 1.0 -->\r\n      <g transform=\"translate(101.176563 565.398438)scale(0.1 -0.1)\">\r\n       <defs>\r\n        <path d=\"M 794 531 \r\nL 1825 531 \r\nL 1825 4091 \r\nL 703 3866 \r\nL 703 4441 \r\nL 1819 4666 \r\nL 2450 4666 \r\nL 2450 531 \r\nL 3481 531 \r\nL 3481 0 \r\nL 794 0 \r\nL 794 531 \r\nz\r\n\" id=\"DejaVuSans-31\" transform=\"scale(0.015625)\"/>\r\n       </defs>\r\n       <use xlink:href=\"#DejaVuSans-31\"/>\r\n       <use x=\"63.623047\" xlink:href=\"#DejaVuSans-2e\"/>\r\n       <use x=\"95.410156\" xlink:href=\"#DejaVuSans-30\"/>\r\n      </g>\r\n     </g>\r\n    </g>\r\n    <g id=\"xtick_3\">\r\n     <g id=\"line2d_3\">\r\n      <g>\r\n       <use style=\"stroke:#000000;stroke-width:0.8;\" x=\"146.328125\" xlink:href=\"#mf3ec7dc4d9\" y=\"550.8\"/>\r\n      </g>\r\n     </g>\r\n     <g id=\"text_3\">\r\n      <!-- 2.0 -->\r\n      <g transform=\"translate(138.376563 565.398438)scale(0.1 -0.1)\">\r\n       <defs>\r\n        <path d=\"M 1228 531 \r\nL 3431 531 \r\nL 3431 0 \r\nL 469 0 \r\nL 469 531 \r\nQ 828 903 1448 1529 \r\nQ 2069 2156 2228 2338 \r\nQ 2531 2678 2651 2914 \r\nQ 2772 3150 2772 3378 \r\nQ 2772 3750 2511 3984 \r\nQ 2250 4219 1831 4219 \r\nQ 1534 4219 1204 4116 \r\nQ 875 4013 500 3803 \r\nL 500 4441 \r\nQ 881 4594 1212 4672 \r\nQ 1544 4750 1819 4750 \r\nQ 2544 4750 2975 4387 \r\nQ 3406 4025 3406 3419 \r\nQ 3406 3131 3298 2873 \r\nQ 3191 2616 2906 2266 \r\nQ 2828 2175 2409 1742 \r\nQ 1991 1309 1228 531 \r\nz\r\n\" id=\"DejaVuSans-32\" transform=\"scale(0.015625)\"/>\r\n       </defs>\r\n       <use xlink:href=\"#DejaVuSans-32\"/>\r\n       <use x=\"63.623047\" xlink:href=\"#DejaVuSans-2e\"/>\r\n       <use x=\"95.410156\" xlink:href=\"#DejaVuSans-30\"/>\r\n      </g>\r\n     </g>\r\n    </g>\r\n    <g id=\"xtick_4\">\r\n     <g id=\"line2d_4\">\r\n      <g>\r\n       <use style=\"stroke:#000000;stroke-width:0.8;\" x=\"183.528125\" xlink:href=\"#mf3ec7dc4d9\" y=\"550.8\"/>\r\n      </g>\r\n     </g>\r\n     <g id=\"text_4\">\r\n      <!-- 3.0 -->\r\n      <g transform=\"translate(175.576563 565.398438)scale(0.1 -0.1)\">\r\n       <defs>\r\n        <path d=\"M 2597 2516 \r\nQ 3050 2419 3304 2112 \r\nQ 3559 1806 3559 1356 \r\nQ 3559 666 3084 287 \r\nQ 2609 -91 1734 -91 \r\nQ 1441 -91 1130 -33 \r\nQ 819 25 488 141 \r\nL 488 750 \r\nQ 750 597 1062 519 \r\nQ 1375 441 1716 441 \r\nQ 2309 441 2620 675 \r\nQ 2931 909 2931 1356 \r\nQ 2931 1769 2642 2001 \r\nQ 2353 2234 1838 2234 \r\nL 1294 2234 \r\nL 1294 2753 \r\nL 1863 2753 \r\nQ 2328 2753 2575 2939 \r\nQ 2822 3125 2822 3475 \r\nQ 2822 3834 2567 4026 \r\nQ 2313 4219 1838 4219 \r\nQ 1578 4219 1281 4162 \r\nQ 984 4106 628 3988 \r\nL 628 4550 \r\nQ 988 4650 1302 4700 \r\nQ 1616 4750 1894 4750 \r\nQ 2613 4750 3031 4423 \r\nQ 3450 4097 3450 3541 \r\nQ 3450 3153 3228 2886 \r\nQ 3006 2619 2597 2516 \r\nz\r\n\" id=\"DejaVuSans-33\" transform=\"scale(0.015625)\"/>\r\n       </defs>\r\n       <use xlink:href=\"#DejaVuSans-33\"/>\r\n       <use x=\"63.623047\" xlink:href=\"#DejaVuSans-2e\"/>\r\n       <use x=\"95.410156\" xlink:href=\"#DejaVuSans-30\"/>\r\n      </g>\r\n     </g>\r\n    </g>\r\n    <g id=\"xtick_5\">\r\n     <g id=\"line2d_5\">\r\n      <g>\r\n       <use style=\"stroke:#000000;stroke-width:0.8;\" x=\"220.728125\" xlink:href=\"#mf3ec7dc4d9\" y=\"550.8\"/>\r\n      </g>\r\n     </g>\r\n     <g id=\"text_5\">\r\n      <!-- 4.0 -->\r\n      <g transform=\"translate(212.776563 565.398438)scale(0.1 -0.1)\">\r\n       <defs>\r\n        <path d=\"M 2419 4116 \r\nL 825 1625 \r\nL 2419 1625 \r\nL 2419 4116 \r\nz\r\nM 2253 4666 \r\nL 3047 4666 \r\nL 3047 1625 \r\nL 3713 1625 \r\nL 3713 1100 \r\nL 3047 1100 \r\nL 3047 0 \r\nL 2419 0 \r\nL 2419 1100 \r\nL 313 1100 \r\nL 313 1709 \r\nL 2253 4666 \r\nz\r\n\" id=\"DejaVuSans-34\" transform=\"scale(0.015625)\"/>\r\n       </defs>\r\n       <use xlink:href=\"#DejaVuSans-34\"/>\r\n       <use x=\"63.623047\" xlink:href=\"#DejaVuSans-2e\"/>\r\n       <use x=\"95.410156\" xlink:href=\"#DejaVuSans-30\"/>\r\n      </g>\r\n     </g>\r\n    </g>\r\n    <g id=\"xtick_6\">\r\n     <g id=\"line2d_6\">\r\n      <g>\r\n       <use style=\"stroke:#000000;stroke-width:0.8;\" x=\"257.928125\" xlink:href=\"#mf3ec7dc4d9\" y=\"550.8\"/>\r\n      </g>\r\n     </g>\r\n     <g id=\"text_6\">\r\n      <!-- 5.0 -->\r\n      <g transform=\"translate(249.976563 565.398438)scale(0.1 -0.1)\">\r\n       <defs>\r\n        <path d=\"M 691 4666 \r\nL 3169 4666 \r\nL 3169 4134 \r\nL 1269 4134 \r\nL 1269 2991 \r\nQ 1406 3038 1543 3061 \r\nQ 1681 3084 1819 3084 \r\nQ 2600 3084 3056 2656 \r\nQ 3513 2228 3513 1497 \r\nQ 3513 744 3044 326 \r\nQ 2575 -91 1722 -91 \r\nQ 1428 -91 1123 -41 \r\nQ 819 9 494 109 \r\nL 494 744 \r\nQ 775 591 1075 516 \r\nQ 1375 441 1709 441 \r\nQ 2250 441 2565 725 \r\nQ 2881 1009 2881 1497 \r\nQ 2881 1984 2565 2268 \r\nQ 2250 2553 1709 2553 \r\nQ 1456 2553 1204 2497 \r\nQ 953 2441 691 2322 \r\nL 691 4666 \r\nz\r\n\" id=\"DejaVuSans-35\" transform=\"scale(0.015625)\"/>\r\n       </defs>\r\n       <use xlink:href=\"#DejaVuSans-35\"/>\r\n       <use x=\"63.623047\" xlink:href=\"#DejaVuSans-2e\"/>\r\n       <use x=\"95.410156\" xlink:href=\"#DejaVuSans-30\"/>\r\n      </g>\r\n     </g>\r\n    </g>\r\n    <g id=\"xtick_7\">\r\n     <g id=\"line2d_7\">\r\n      <g>\r\n       <use style=\"stroke:#000000;stroke-width:0.8;\" x=\"295.128125\" xlink:href=\"#mf3ec7dc4d9\" y=\"550.8\"/>\r\n      </g>\r\n     </g>\r\n     <g id=\"text_7\">\r\n      <!-- 6.0 -->\r\n      <g transform=\"translate(287.176562 565.398438)scale(0.1 -0.1)\">\r\n       <defs>\r\n        <path d=\"M 2113 2584 \r\nQ 1688 2584 1439 2293 \r\nQ 1191 2003 1191 1497 \r\nQ 1191 994 1439 701 \r\nQ 1688 409 2113 409 \r\nQ 2538 409 2786 701 \r\nQ 3034 994 3034 1497 \r\nQ 3034 2003 2786 2293 \r\nQ 2538 2584 2113 2584 \r\nz\r\nM 3366 4563 \r\nL 3366 3988 \r\nQ 3128 4100 2886 4159 \r\nQ 2644 4219 2406 4219 \r\nQ 1781 4219 1451 3797 \r\nQ 1122 3375 1075 2522 \r\nQ 1259 2794 1537 2939 \r\nQ 1816 3084 2150 3084 \r\nQ 2853 3084 3261 2657 \r\nQ 3669 2231 3669 1497 \r\nQ 3669 778 3244 343 \r\nQ 2819 -91 2113 -91 \r\nQ 1303 -91 875 529 \r\nQ 447 1150 447 2328 \r\nQ 447 3434 972 4092 \r\nQ 1497 4750 2381 4750 \r\nQ 2619 4750 2861 4703 \r\nQ 3103 4656 3366 4563 \r\nz\r\n\" id=\"DejaVuSans-36\" transform=\"scale(0.015625)\"/>\r\n       </defs>\r\n       <use xlink:href=\"#DejaVuSans-36\"/>\r\n       <use x=\"63.623047\" xlink:href=\"#DejaVuSans-2e\"/>\r\n       <use x=\"95.410156\" xlink:href=\"#DejaVuSans-30\"/>\r\n      </g>\r\n     </g>\r\n    </g>\r\n    <g id=\"xtick_8\">\r\n     <g id=\"line2d_8\">\r\n      <g>\r\n       <use style=\"stroke:#000000;stroke-width:0.8;\" x=\"332.328125\" xlink:href=\"#mf3ec7dc4d9\" y=\"550.8\"/>\r\n      </g>\r\n     </g>\r\n     <g id=\"text_8\">\r\n      <!-- 7.0 -->\r\n      <g transform=\"translate(324.376562 565.398438)scale(0.1 -0.1)\">\r\n       <defs>\r\n        <path d=\"M 525 4666 \r\nL 3525 4666 \r\nL 3525 4397 \r\nL 1831 0 \r\nL 1172 0 \r\nL 2766 4134 \r\nL 525 4134 \r\nL 525 4666 \r\nz\r\n\" id=\"DejaVuSans-37\" transform=\"scale(0.015625)\"/>\r\n       </defs>\r\n       <use xlink:href=\"#DejaVuSans-37\"/>\r\n       <use x=\"63.623047\" xlink:href=\"#DejaVuSans-2e\"/>\r\n       <use x=\"95.410156\" xlink:href=\"#DejaVuSans-30\"/>\r\n      </g>\r\n     </g>\r\n    </g>\r\n    <g id=\"xtick_9\">\r\n     <g id=\"line2d_9\">\r\n      <g>\r\n       <use style=\"stroke:#000000;stroke-width:0.8;\" x=\"369.528125\" xlink:href=\"#mf3ec7dc4d9\" y=\"550.8\"/>\r\n      </g>\r\n     </g>\r\n     <g id=\"text_9\">\r\n      <!-- 8.0 -->\r\n      <g transform=\"translate(361.576562 565.398438)scale(0.1 -0.1)\">\r\n       <defs>\r\n        <path d=\"M 2034 2216 \r\nQ 1584 2216 1326 1975 \r\nQ 1069 1734 1069 1313 \r\nQ 1069 891 1326 650 \r\nQ 1584 409 2034 409 \r\nQ 2484 409 2743 651 \r\nQ 3003 894 3003 1313 \r\nQ 3003 1734 2745 1975 \r\nQ 2488 2216 2034 2216 \r\nz\r\nM 1403 2484 \r\nQ 997 2584 770 2862 \r\nQ 544 3141 544 3541 \r\nQ 544 4100 942 4425 \r\nQ 1341 4750 2034 4750 \r\nQ 2731 4750 3128 4425 \r\nQ 3525 4100 3525 3541 \r\nQ 3525 3141 3298 2862 \r\nQ 3072 2584 2669 2484 \r\nQ 3125 2378 3379 2068 \r\nQ 3634 1759 3634 1313 \r\nQ 3634 634 3220 271 \r\nQ 2806 -91 2034 -91 \r\nQ 1263 -91 848 271 \r\nQ 434 634 434 1313 \r\nQ 434 1759 690 2068 \r\nQ 947 2378 1403 2484 \r\nz\r\nM 1172 3481 \r\nQ 1172 3119 1398 2916 \r\nQ 1625 2713 2034 2713 \r\nQ 2441 2713 2670 2916 \r\nQ 2900 3119 2900 3481 \r\nQ 2900 3844 2670 4047 \r\nQ 2441 4250 2034 4250 \r\nQ 1625 4250 1398 4047 \r\nQ 1172 3844 1172 3481 \r\nz\r\n\" id=\"DejaVuSans-38\" transform=\"scale(0.015625)\"/>\r\n       </defs>\r\n       <use xlink:href=\"#DejaVuSans-38\"/>\r\n       <use x=\"63.623047\" xlink:href=\"#DejaVuSans-2e\"/>\r\n       <use x=\"95.410156\" xlink:href=\"#DejaVuSans-30\"/>\r\n      </g>\r\n     </g>\r\n    </g>\r\n    <g id=\"xtick_10\">\r\n     <g id=\"line2d_10\">\r\n      <g>\r\n       <use style=\"stroke:#000000;stroke-width:0.8;\" x=\"406.728125\" xlink:href=\"#mf3ec7dc4d9\" y=\"550.8\"/>\r\n      </g>\r\n     </g>\r\n     <g id=\"text_10\">\r\n      <!-- 10.0 -->\r\n      <g transform=\"translate(395.595312 565.398438)scale(0.1 -0.1)\">\r\n       <use xlink:href=\"#DejaVuSans-31\"/>\r\n       <use x=\"63.623047\" xlink:href=\"#DejaVuSans-30\"/>\r\n       <use x=\"127.246094\" xlink:href=\"#DejaVuSans-2e\"/>\r\n       <use x=\"159.033203\" xlink:href=\"#DejaVuSans-30\"/>\r\n      </g>\r\n     </g>\r\n    </g>\r\n    <g id=\"xtick_11\">\r\n     <g id=\"line2d_11\">\r\n      <g>\r\n       <use style=\"stroke:#000000;stroke-width:0.8;\" x=\"443.928125\" xlink:href=\"#mf3ec7dc4d9\" y=\"550.8\"/>\r\n      </g>\r\n     </g>\r\n     <g id=\"text_11\">\r\n      <!-- 11.0 -->\r\n      <g transform=\"translate(432.795312 565.398438)scale(0.1 -0.1)\">\r\n       <use xlink:href=\"#DejaVuSans-31\"/>\r\n       <use x=\"63.623047\" xlink:href=\"#DejaVuSans-31\"/>\r\n       <use x=\"127.246094\" xlink:href=\"#DejaVuSans-2e\"/>\r\n       <use x=\"159.033203\" xlink:href=\"#DejaVuSans-30\"/>\r\n      </g>\r\n     </g>\r\n    </g>\r\n    <g id=\"xtick_12\">\r\n     <g id=\"line2d_12\">\r\n      <g>\r\n       <use style=\"stroke:#000000;stroke-width:0.8;\" x=\"481.128125\" xlink:href=\"#mf3ec7dc4d9\" y=\"550.8\"/>\r\n      </g>\r\n     </g>\r\n     <g id=\"text_12\">\r\n      <!-- 12.0 -->\r\n      <g transform=\"translate(469.995312 565.398438)scale(0.1 -0.1)\">\r\n       <use xlink:href=\"#DejaVuSans-31\"/>\r\n       <use x=\"63.623047\" xlink:href=\"#DejaVuSans-32\"/>\r\n       <use x=\"127.246094\" xlink:href=\"#DejaVuSans-2e\"/>\r\n       <use x=\"159.033203\" xlink:href=\"#DejaVuSans-30\"/>\r\n      </g>\r\n     </g>\r\n    </g>\r\n    <g id=\"xtick_13\">\r\n     <g id=\"line2d_13\">\r\n      <g>\r\n       <use style=\"stroke:#000000;stroke-width:0.8;\" x=\"518.328125\" xlink:href=\"#mf3ec7dc4d9\" y=\"550.8\"/>\r\n      </g>\r\n     </g>\r\n     <g id=\"text_13\">\r\n      <!-- 13.0 -->\r\n      <g transform=\"translate(507.195312 565.398438)scale(0.1 -0.1)\">\r\n       <use xlink:href=\"#DejaVuSans-31\"/>\r\n       <use x=\"63.623047\" xlink:href=\"#DejaVuSans-33\"/>\r\n       <use x=\"127.246094\" xlink:href=\"#DejaVuSans-2e\"/>\r\n       <use x=\"159.033203\" xlink:href=\"#DejaVuSans-30\"/>\r\n      </g>\r\n     </g>\r\n    </g>\r\n    <g id=\"xtick_14\">\r\n     <g id=\"line2d_14\">\r\n      <g>\r\n       <use style=\"stroke:#000000;stroke-width:0.8;\" x=\"555.528125\" xlink:href=\"#mf3ec7dc4d9\" y=\"550.8\"/>\r\n      </g>\r\n     </g>\r\n     <g id=\"text_14\">\r\n      <!-- 14.0 -->\r\n      <g transform=\"translate(544.395313 565.398438)scale(0.1 -0.1)\">\r\n       <use xlink:href=\"#DejaVuSans-31\"/>\r\n       <use x=\"63.623047\" xlink:href=\"#DejaVuSans-34\"/>\r\n       <use x=\"127.246094\" xlink:href=\"#DejaVuSans-2e\"/>\r\n       <use x=\"159.033203\" xlink:href=\"#DejaVuSans-30\"/>\r\n      </g>\r\n     </g>\r\n    </g>\r\n    <g id=\"xtick_15\">\r\n     <g id=\"line2d_15\">\r\n      <g>\r\n       <use style=\"stroke:#000000;stroke-width:0.8;\" x=\"592.728125\" xlink:href=\"#mf3ec7dc4d9\" y=\"550.8\"/>\r\n      </g>\r\n     </g>\r\n     <g id=\"text_15\">\r\n      <!-- 15.0 -->\r\n      <g transform=\"translate(581.595312 565.398438)scale(0.1 -0.1)\">\r\n       <use xlink:href=\"#DejaVuSans-31\"/>\r\n       <use x=\"63.623047\" xlink:href=\"#DejaVuSans-35\"/>\r\n       <use x=\"127.246094\" xlink:href=\"#DejaVuSans-2e\"/>\r\n       <use x=\"159.033203\" xlink:href=\"#DejaVuSans-30\"/>\r\n      </g>\r\n     </g>\r\n    </g>\r\n    <g id=\"xtick_16\">\r\n     <g id=\"line2d_16\">\r\n      <g>\r\n       <use style=\"stroke:#000000;stroke-width:0.8;\" x=\"629.928125\" xlink:href=\"#mf3ec7dc4d9\" y=\"550.8\"/>\r\n      </g>\r\n     </g>\r\n     <g id=\"text_16\">\r\n      <!-- 16.0 -->\r\n      <g transform=\"translate(618.795312 565.398438)scale(0.1 -0.1)\">\r\n       <use xlink:href=\"#DejaVuSans-31\"/>\r\n       <use x=\"63.623047\" xlink:href=\"#DejaVuSans-36\"/>\r\n       <use x=\"127.246094\" xlink:href=\"#DejaVuSans-2e\"/>\r\n       <use x=\"159.033203\" xlink:href=\"#DejaVuSans-30\"/>\r\n      </g>\r\n     </g>\r\n    </g>\r\n    <g id=\"xtick_17\">\r\n     <g id=\"line2d_17\">\r\n      <g>\r\n       <use style=\"stroke:#000000;stroke-width:0.8;\" x=\"667.128125\" xlink:href=\"#mf3ec7dc4d9\" y=\"550.8\"/>\r\n      </g>\r\n     </g>\r\n     <g id=\"text_17\">\r\n      <!-- 17.0 -->\r\n      <g transform=\"translate(655.995312 565.398438)scale(0.1 -0.1)\">\r\n       <use xlink:href=\"#DejaVuSans-31\"/>\r\n       <use x=\"63.623047\" xlink:href=\"#DejaVuSans-37\"/>\r\n       <use x=\"127.246094\" xlink:href=\"#DejaVuSans-2e\"/>\r\n       <use x=\"159.033203\" xlink:href=\"#DejaVuSans-30\"/>\r\n      </g>\r\n     </g>\r\n    </g>\r\n    <g id=\"xtick_18\">\r\n     <g id=\"line2d_18\">\r\n      <g>\r\n       <use style=\"stroke:#000000;stroke-width:0.8;\" x=\"704.328125\" xlink:href=\"#mf3ec7dc4d9\" y=\"550.8\"/>\r\n      </g>\r\n     </g>\r\n     <g id=\"text_18\">\r\n      <!-- 18.0 -->\r\n      <g transform=\"translate(693.195312 565.398438)scale(0.1 -0.1)\">\r\n       <use xlink:href=\"#DejaVuSans-31\"/>\r\n       <use x=\"63.623047\" xlink:href=\"#DejaVuSans-38\"/>\r\n       <use x=\"127.246094\" xlink:href=\"#DejaVuSans-2e\"/>\r\n       <use x=\"159.033203\" xlink:href=\"#DejaVuSans-30\"/>\r\n      </g>\r\n     </g>\r\n    </g>\r\n    <g id=\"xtick_19\">\r\n     <g id=\"line2d_19\">\r\n      <g>\r\n       <use style=\"stroke:#000000;stroke-width:0.8;\" x=\"741.528125\" xlink:href=\"#mf3ec7dc4d9\" y=\"550.8\"/>\r\n      </g>\r\n     </g>\r\n     <g id=\"text_19\">\r\n      <!-- 19.0 -->\r\n      <g transform=\"translate(730.395312 565.398438)scale(0.1 -0.1)\">\r\n       <defs>\r\n        <path d=\"M 703 97 \r\nL 703 672 \r\nQ 941 559 1184 500 \r\nQ 1428 441 1663 441 \r\nQ 2288 441 2617 861 \r\nQ 2947 1281 2994 2138 \r\nQ 2813 1869 2534 1725 \r\nQ 2256 1581 1919 1581 \r\nQ 1219 1581 811 2004 \r\nQ 403 2428 403 3163 \r\nQ 403 3881 828 4315 \r\nQ 1253 4750 1959 4750 \r\nQ 2769 4750 3195 4129 \r\nQ 3622 3509 3622 2328 \r\nQ 3622 1225 3098 567 \r\nQ 2575 -91 1691 -91 \r\nQ 1453 -91 1209 -44 \r\nQ 966 3 703 97 \r\nz\r\nM 1959 2075 \r\nQ 2384 2075 2632 2365 \r\nQ 2881 2656 2881 3163 \r\nQ 2881 3666 2632 3958 \r\nQ 2384 4250 1959 4250 \r\nQ 1534 4250 1286 3958 \r\nQ 1038 3666 1038 3163 \r\nQ 1038 2656 1286 2365 \r\nQ 1534 2075 1959 2075 \r\nz\r\n\" id=\"DejaVuSans-39\" transform=\"scale(0.015625)\"/>\r\n       </defs>\r\n       <use xlink:href=\"#DejaVuSans-31\"/>\r\n       <use x=\"63.623047\" xlink:href=\"#DejaVuSans-39\"/>\r\n       <use x=\"127.246094\" xlink:href=\"#DejaVuSans-2e\"/>\r\n       <use x=\"159.033203\" xlink:href=\"#DejaVuSans-30\"/>\r\n      </g>\r\n     </g>\r\n    </g>\r\n    <g id=\"xtick_20\">\r\n     <g id=\"line2d_20\">\r\n      <g>\r\n       <use style=\"stroke:#000000;stroke-width:0.8;\" x=\"778.728125\" xlink:href=\"#mf3ec7dc4d9\" y=\"550.8\"/>\r\n      </g>\r\n     </g>\r\n     <g id=\"text_20\">\r\n      <!-- 20.0 -->\r\n      <g transform=\"translate(767.595312 565.398438)scale(0.1 -0.1)\">\r\n       <use xlink:href=\"#DejaVuSans-32\"/>\r\n       <use x=\"63.623047\" xlink:href=\"#DejaVuSans-30\"/>\r\n       <use x=\"127.246094\" xlink:href=\"#DejaVuSans-2e\"/>\r\n       <use x=\"159.033203\" xlink:href=\"#DejaVuSans-30\"/>\r\n      </g>\r\n     </g>\r\n    </g>\r\n    <g id=\"xtick_21\">\r\n     <g id=\"line2d_21\">\r\n      <g>\r\n       <use style=\"stroke:#000000;stroke-width:0.8;\" x=\"815.928125\" xlink:href=\"#mf3ec7dc4d9\" y=\"550.8\"/>\r\n      </g>\r\n     </g>\r\n     <g id=\"text_21\">\r\n      <!-- 21.0 -->\r\n      <g transform=\"translate(804.795312 565.398438)scale(0.1 -0.1)\">\r\n       <use xlink:href=\"#DejaVuSans-32\"/>\r\n       <use x=\"63.623047\" xlink:href=\"#DejaVuSans-31\"/>\r\n       <use x=\"127.246094\" xlink:href=\"#DejaVuSans-2e\"/>\r\n       <use x=\"159.033203\" xlink:href=\"#DejaVuSans-30\"/>\r\n      </g>\r\n     </g>\r\n    </g>\r\n    <g id=\"xtick_22\">\r\n     <g id=\"line2d_22\">\r\n      <g>\r\n       <use style=\"stroke:#000000;stroke-width:0.8;\" x=\"853.128125\" xlink:href=\"#mf3ec7dc4d9\" y=\"550.8\"/>\r\n      </g>\r\n     </g>\r\n     <g id=\"text_22\">\r\n      <!-- 22.0 -->\r\n      <g transform=\"translate(841.995312 565.398438)scale(0.1 -0.1)\">\r\n       <use xlink:href=\"#DejaVuSans-32\"/>\r\n       <use x=\"63.623047\" xlink:href=\"#DejaVuSans-32\"/>\r\n       <use x=\"127.246094\" xlink:href=\"#DejaVuSans-2e\"/>\r\n       <use x=\"159.033203\" xlink:href=\"#DejaVuSans-30\"/>\r\n      </g>\r\n     </g>\r\n    </g>\r\n    <g id=\"xtick_23\">\r\n     <g id=\"line2d_23\">\r\n      <g>\r\n       <use style=\"stroke:#000000;stroke-width:0.8;\" x=\"890.328125\" xlink:href=\"#mf3ec7dc4d9\" y=\"550.8\"/>\r\n      </g>\r\n     </g>\r\n     <g id=\"text_23\">\r\n      <!-- 23.0 -->\r\n      <g transform=\"translate(879.195312 565.398438)scale(0.1 -0.1)\">\r\n       <use xlink:href=\"#DejaVuSans-32\"/>\r\n       <use x=\"63.623047\" xlink:href=\"#DejaVuSans-33\"/>\r\n       <use x=\"127.246094\" xlink:href=\"#DejaVuSans-2e\"/>\r\n       <use x=\"159.033203\" xlink:href=\"#DejaVuSans-30\"/>\r\n      </g>\r\n     </g>\r\n    </g>\r\n    <g id=\"xtick_24\">\r\n     <g id=\"line2d_24\">\r\n      <g>\r\n       <use style=\"stroke:#000000;stroke-width:0.8;\" x=\"927.528125\" xlink:href=\"#mf3ec7dc4d9\" y=\"550.8\"/>\r\n      </g>\r\n     </g>\r\n     <g id=\"text_24\">\r\n      <!-- 24.0 -->\r\n      <g transform=\"translate(916.395312 565.398438)scale(0.1 -0.1)\">\r\n       <use xlink:href=\"#DejaVuSans-32\"/>\r\n       <use x=\"63.623047\" xlink:href=\"#DejaVuSans-34\"/>\r\n       <use x=\"127.246094\" xlink:href=\"#DejaVuSans-2e\"/>\r\n       <use x=\"159.033203\" xlink:href=\"#DejaVuSans-30\"/>\r\n      </g>\r\n     </g>\r\n    </g>\r\n    <g id=\"text_25\">\r\n     <!-- label -->\r\n     <g transform=\"translate(487.635156 579.076563)scale(0.1 -0.1)\">\r\n      <defs>\r\n       <path d=\"M 603 4863 \r\nL 1178 4863 \r\nL 1178 0 \r\nL 603 0 \r\nL 603 4863 \r\nz\r\n\" id=\"DejaVuSans-6c\" transform=\"scale(0.015625)\"/>\r\n       <path d=\"M 2194 1759 \r\nQ 1497 1759 1228 1600 \r\nQ 959 1441 959 1056 \r\nQ 959 750 1161 570 \r\nQ 1363 391 1709 391 \r\nQ 2188 391 2477 730 \r\nQ 2766 1069 2766 1631 \r\nL 2766 1759 \r\nL 2194 1759 \r\nz\r\nM 3341 1997 \r\nL 3341 0 \r\nL 2766 0 \r\nL 2766 531 \r\nQ 2569 213 2275 61 \r\nQ 1981 -91 1556 -91 \r\nQ 1019 -91 701 211 \r\nQ 384 513 384 1019 \r\nQ 384 1609 779 1909 \r\nQ 1175 2209 1959 2209 \r\nL 2766 2209 \r\nL 2766 2266 \r\nQ 2766 2663 2505 2880 \r\nQ 2244 3097 1772 3097 \r\nQ 1472 3097 1187 3025 \r\nQ 903 2953 641 2809 \r\nL 641 3341 \r\nQ 956 3463 1253 3523 \r\nQ 1550 3584 1831 3584 \r\nQ 2591 3584 2966 3190 \r\nQ 3341 2797 3341 1997 \r\nz\r\n\" id=\"DejaVuSans-61\" transform=\"scale(0.015625)\"/>\r\n       <path d=\"M 3116 1747 \r\nQ 3116 2381 2855 2742 \r\nQ 2594 3103 2138 3103 \r\nQ 1681 3103 1420 2742 \r\nQ 1159 2381 1159 1747 \r\nQ 1159 1113 1420 752 \r\nQ 1681 391 2138 391 \r\nQ 2594 391 2855 752 \r\nQ 3116 1113 3116 1747 \r\nz\r\nM 1159 2969 \r\nQ 1341 3281 1617 3432 \r\nQ 1894 3584 2278 3584 \r\nQ 2916 3584 3314 3078 \r\nQ 3713 2572 3713 1747 \r\nQ 3713 922 3314 415 \r\nQ 2916 -91 2278 -91 \r\nQ 1894 -91 1617 61 \r\nQ 1341 213 1159 525 \r\nL 1159 0 \r\nL 581 0 \r\nL 581 4863 \r\nL 1159 4863 \r\nL 1159 2969 \r\nz\r\n\" id=\"DejaVuSans-62\" transform=\"scale(0.015625)\"/>\r\n       <path d=\"M 3597 1894 \r\nL 3597 1613 \r\nL 953 1613 \r\nQ 991 1019 1311 708 \r\nQ 1631 397 2203 397 \r\nQ 2534 397 2845 478 \r\nQ 3156 559 3463 722 \r\nL 3463 178 \r\nQ 3153 47 2828 -22 \r\nQ 2503 -91 2169 -91 \r\nQ 1331 -91 842 396 \r\nQ 353 884 353 1716 \r\nQ 353 2575 817 3079 \r\nQ 1281 3584 2069 3584 \r\nQ 2775 3584 3186 3129 \r\nQ 3597 2675 3597 1894 \r\nz\r\nM 3022 2063 \r\nQ 3016 2534 2758 2815 \r\nQ 2500 3097 2075 3097 \r\nQ 1594 3097 1305 2825 \r\nQ 1016 2553 972 2059 \r\nL 3022 2063 \r\nz\r\n\" id=\"DejaVuSans-65\" transform=\"scale(0.015625)\"/>\r\n      </defs>\r\n      <use xlink:href=\"#DejaVuSans-6c\"/>\r\n      <use x=\"27.783203\" xlink:href=\"#DejaVuSans-61\"/>\r\n      <use x=\"89.0625\" xlink:href=\"#DejaVuSans-62\"/>\r\n      <use x=\"152.539062\" xlink:href=\"#DejaVuSans-65\"/>\r\n      <use x=\"214.0625\" xlink:href=\"#DejaVuSans-6c\"/>\r\n     </g>\r\n    </g>\r\n   </g>\r\n   <g id=\"matplotlib.axis_2\">\r\n    <g id=\"ytick_1\">\r\n     <g id=\"line2d_25\">\r\n      <defs>\r\n       <path d=\"M 0 0 \r\nL -3.5 0 \r\n\" id=\"ma256155552\" style=\"stroke:#000000;stroke-width:0.8;\"/>\r\n      </defs>\r\n      <g>\r\n       <use style=\"stroke:#000000;stroke-width:0.8;\" x=\"53.328125\" xlink:href=\"#ma256155552\" y=\"550.8\"/>\r\n      </g>\r\n     </g>\r\n     <g id=\"text_26\">\r\n      <!-- 0 -->\r\n      <g transform=\"translate(39.965625 554.599219)scale(0.1 -0.1)\">\r\n       <use xlink:href=\"#DejaVuSans-30\"/>\r\n      </g>\r\n     </g>\r\n    </g>\r\n    <g id=\"ytick_2\">\r\n     <g id=\"line2d_26\">\r\n      <g>\r\n       <use style=\"stroke:#000000;stroke-width:0.8;\" x=\"53.328125\" xlink:href=\"#ma256155552\" y=\"470.782336\"/>\r\n      </g>\r\n     </g>\r\n     <g id=\"text_27\">\r\n      <!-- 200 -->\r\n      <g transform=\"translate(27.240625 474.581555)scale(0.1 -0.1)\">\r\n       <use xlink:href=\"#DejaVuSans-32\"/>\r\n       <use x=\"63.623047\" xlink:href=\"#DejaVuSans-30\"/>\r\n       <use x=\"127.246094\" xlink:href=\"#DejaVuSans-30\"/>\r\n      </g>\r\n     </g>\r\n    </g>\r\n    <g id=\"ytick_3\">\r\n     <g id=\"line2d_27\">\r\n      <g>\r\n       <use style=\"stroke:#000000;stroke-width:0.8;\" x=\"53.328125\" xlink:href=\"#ma256155552\" y=\"390.764672\"/>\r\n      </g>\r\n     </g>\r\n     <g id=\"text_28\">\r\n      <!-- 400 -->\r\n      <g transform=\"translate(27.240625 394.563891)scale(0.1 -0.1)\">\r\n       <use xlink:href=\"#DejaVuSans-34\"/>\r\n       <use x=\"63.623047\" xlink:href=\"#DejaVuSans-30\"/>\r\n       <use x=\"127.246094\" xlink:href=\"#DejaVuSans-30\"/>\r\n      </g>\r\n     </g>\r\n    </g>\r\n    <g id=\"ytick_4\">\r\n     <g id=\"line2d_28\">\r\n      <g>\r\n       <use style=\"stroke:#000000;stroke-width:0.8;\" x=\"53.328125\" xlink:href=\"#ma256155552\" y=\"310.747008\"/>\r\n      </g>\r\n     </g>\r\n     <g id=\"text_29\">\r\n      <!-- 600 -->\r\n      <g transform=\"translate(27.240625 314.546227)scale(0.1 -0.1)\">\r\n       <use xlink:href=\"#DejaVuSans-36\"/>\r\n       <use x=\"63.623047\" xlink:href=\"#DejaVuSans-30\"/>\r\n       <use x=\"127.246094\" xlink:href=\"#DejaVuSans-30\"/>\r\n      </g>\r\n     </g>\r\n    </g>\r\n    <g id=\"ytick_5\">\r\n     <g id=\"line2d_29\">\r\n      <g>\r\n       <use style=\"stroke:#000000;stroke-width:0.8;\" x=\"53.328125\" xlink:href=\"#ma256155552\" y=\"230.729344\"/>\r\n      </g>\r\n     </g>\r\n     <g id=\"text_30\">\r\n      <!-- 800 -->\r\n      <g transform=\"translate(27.240625 234.528563)scale(0.1 -0.1)\">\r\n       <use xlink:href=\"#DejaVuSans-38\"/>\r\n       <use x=\"63.623047\" xlink:href=\"#DejaVuSans-30\"/>\r\n       <use x=\"127.246094\" xlink:href=\"#DejaVuSans-30\"/>\r\n      </g>\r\n     </g>\r\n    </g>\r\n    <g id=\"ytick_6\">\r\n     <g id=\"line2d_30\">\r\n      <g>\r\n       <use style=\"stroke:#000000;stroke-width:0.8;\" x=\"53.328125\" xlink:href=\"#ma256155552\" y=\"150.71168\"/>\r\n      </g>\r\n     </g>\r\n     <g id=\"text_31\">\r\n      <!-- 1000 -->\r\n      <g transform=\"translate(20.878125 154.510899)scale(0.1 -0.1)\">\r\n       <use xlink:href=\"#DejaVuSans-31\"/>\r\n       <use x=\"63.623047\" xlink:href=\"#DejaVuSans-30\"/>\r\n       <use x=\"127.246094\" xlink:href=\"#DejaVuSans-30\"/>\r\n       <use x=\"190.869141\" xlink:href=\"#DejaVuSans-30\"/>\r\n      </g>\r\n     </g>\r\n    </g>\r\n    <g id=\"ytick_7\">\r\n     <g id=\"line2d_31\">\r\n      <g>\r\n       <use style=\"stroke:#000000;stroke-width:0.8;\" x=\"53.328125\" xlink:href=\"#ma256155552\" y=\"70.694016\"/>\r\n      </g>\r\n     </g>\r\n     <g id=\"text_32\">\r\n      <!-- 1200 -->\r\n      <g transform=\"translate(20.878125 74.493235)scale(0.1 -0.1)\">\r\n       <use xlink:href=\"#DejaVuSans-31\"/>\r\n       <use x=\"63.623047\" xlink:href=\"#DejaVuSans-32\"/>\r\n       <use x=\"127.246094\" xlink:href=\"#DejaVuSans-30\"/>\r\n       <use x=\"190.869141\" xlink:href=\"#DejaVuSans-30\"/>\r\n      </g>\r\n     </g>\r\n    </g>\r\n    <g id=\"text_33\">\r\n     <!-- count -->\r\n     <g transform=\"translate(14.798438 293.10625)rotate(-90)scale(0.1 -0.1)\">\r\n      <defs>\r\n       <path d=\"M 3122 3366 \r\nL 3122 2828 \r\nQ 2878 2963 2633 3030 \r\nQ 2388 3097 2138 3097 \r\nQ 1578 3097 1268 2742 \r\nQ 959 2388 959 1747 \r\nQ 959 1106 1268 751 \r\nQ 1578 397 2138 397 \r\nQ 2388 397 2633 464 \r\nQ 2878 531 3122 666 \r\nL 3122 134 \r\nQ 2881 22 2623 -34 \r\nQ 2366 -91 2075 -91 \r\nQ 1284 -91 818 406 \r\nQ 353 903 353 1747 \r\nQ 353 2603 823 3093 \r\nQ 1294 3584 2113 3584 \r\nQ 2378 3584 2631 3529 \r\nQ 2884 3475 3122 3366 \r\nz\r\n\" id=\"DejaVuSans-63\" transform=\"scale(0.015625)\"/>\r\n       <path d=\"M 1959 3097 \r\nQ 1497 3097 1228 2736 \r\nQ 959 2375 959 1747 \r\nQ 959 1119 1226 758 \r\nQ 1494 397 1959 397 \r\nQ 2419 397 2687 759 \r\nQ 2956 1122 2956 1747 \r\nQ 2956 2369 2687 2733 \r\nQ 2419 3097 1959 3097 \r\nz\r\nM 1959 3584 \r\nQ 2709 3584 3137 3096 \r\nQ 3566 2609 3566 1747 \r\nQ 3566 888 3137 398 \r\nQ 2709 -91 1959 -91 \r\nQ 1206 -91 779 398 \r\nQ 353 888 353 1747 \r\nQ 353 2609 779 3096 \r\nQ 1206 3584 1959 3584 \r\nz\r\n\" id=\"DejaVuSans-6f\" transform=\"scale(0.015625)\"/>\r\n       <path d=\"M 544 1381 \r\nL 544 3500 \r\nL 1119 3500 \r\nL 1119 1403 \r\nQ 1119 906 1312 657 \r\nQ 1506 409 1894 409 \r\nQ 2359 409 2629 706 \r\nQ 2900 1003 2900 1516 \r\nL 2900 3500 \r\nL 3475 3500 \r\nL 3475 0 \r\nL 2900 0 \r\nL 2900 538 \r\nQ 2691 219 2414 64 \r\nQ 2138 -91 1772 -91 \r\nQ 1169 -91 856 284 \r\nQ 544 659 544 1381 \r\nz\r\nM 1991 3584 \r\nL 1991 3584 \r\nz\r\n\" id=\"DejaVuSans-75\" transform=\"scale(0.015625)\"/>\r\n       <path d=\"M 3513 2113 \r\nL 3513 0 \r\nL 2938 0 \r\nL 2938 2094 \r\nQ 2938 2591 2744 2837 \r\nQ 2550 3084 2163 3084 \r\nQ 1697 3084 1428 2787 \r\nQ 1159 2491 1159 1978 \r\nL 1159 0 \r\nL 581 0 \r\nL 581 3500 \r\nL 1159 3500 \r\nL 1159 2956 \r\nQ 1366 3272 1645 3428 \r\nQ 1925 3584 2291 3584 \r\nQ 2894 3584 3203 3211 \r\nQ 3513 2838 3513 2113 \r\nz\r\n\" id=\"DejaVuSans-6e\" transform=\"scale(0.015625)\"/>\r\n       <path d=\"M 1172 4494 \r\nL 1172 3500 \r\nL 2356 3500 \r\nL 2356 3053 \r\nL 1172 3053 \r\nL 1172 1153 \r\nQ 1172 725 1289 603 \r\nQ 1406 481 1766 481 \r\nL 2356 481 \r\nL 2356 0 \r\nL 1766 0 \r\nQ 1100 0 847 248 \r\nQ 594 497 594 1153 \r\nL 594 3053 \r\nL 172 3053 \r\nL 172 3500 \r\nL 594 3500 \r\nL 594 4494 \r\nL 1172 4494 \r\nz\r\n\" id=\"DejaVuSans-74\" transform=\"scale(0.015625)\"/>\r\n      </defs>\r\n      <use xlink:href=\"#DejaVuSans-63\"/>\r\n      <use x=\"54.980469\" xlink:href=\"#DejaVuSans-6f\"/>\r\n      <use x=\"116.162109\" xlink:href=\"#DejaVuSans-75\"/>\r\n      <use x=\"179.541016\" xlink:href=\"#DejaVuSans-6e\"/>\r\n      <use x=\"242.919922\" xlink:href=\"#DejaVuSans-74\"/>\r\n     </g>\r\n    </g>\r\n   </g>\r\n   <g id=\"patch_27\">\r\n    <path d=\"M 53.328125 550.8 \r\nL 53.328125 7.2 \r\n\" style=\"fill:none;stroke:#000000;stroke-linecap:square;stroke-linejoin:miter;stroke-width:0.8;\"/>\r\n   </g>\r\n   <g id=\"patch_28\">\r\n    <path d=\"M 946.128125 550.8 \r\nL 946.128125 7.2 \r\n\" style=\"fill:none;stroke:#000000;stroke-linecap:square;stroke-linejoin:miter;stroke-width:0.8;\"/>\r\n   </g>\r\n   <g id=\"patch_29\">\r\n    <path d=\"M 53.328125 550.8 \r\nL 946.128125 550.8 \r\n\" style=\"fill:none;stroke:#000000;stroke-linecap:square;stroke-linejoin:miter;stroke-width:0.8;\"/>\r\n   </g>\r\n   <g id=\"patch_30\">\r\n    <path d=\"M 53.328125 7.2 \r\nL 946.128125 7.2 \r\n\" style=\"fill:none;stroke:#000000;stroke-linecap:square;stroke-linejoin:miter;stroke-width:0.8;\"/>\r\n   </g>\r\n  </g>\r\n </g>\r\n <defs>\r\n  <clipPath id=\"pfee6203ccd\">\r\n   <rect height=\"543.6\" width=\"892.8\" x=\"53.328125\" y=\"7.2\"/>\r\n  </clipPath>\r\n </defs>\r\n</svg>\r\n",
            "image/png": "[encoded data removed]"
          },
          "metadata": {
            "needs_background": "light"
          }
        }
      ]
    },
    {
      "cell_type": "markdown",
      "metadata": {
        "id": "wHS_uigx5YAk"
      },
      "source": [
        "# 전처리\n",
        "\n",
        "## 입력과 출력 나누기\n",
        "\n",
        "- x 데이터를 (28, 28, 1) 크기의 이미지 형태로 변환합니다!"
      ]
    },
    {
      "cell_type": "code",
      "metadata": {
        "colab": {
          "base_uri": "https://localhost:8080/"
        },
        "id": "iZHyUQSJ0y1f",
        "outputId": "edcd5c89-3116-4916-d3c7-b116764ea5da"
      },
      "source": [
        "train_df = train_df.astype(np.float32)\n",
        "x_train = train_df.drop(columns=['label'], axis=1).values\n",
        "x_train = x_train.reshape((-1, 28, 28, 1))\n",
        "y_train = train_df[['label']].values\n",
        "\n",
        "test_df = test_df.astype(np.float32)\n",
        "x_test = test_df.drop(columns=['label'], axis=1).values\n",
        "x_test = x_test.reshape((-1, 28, 28, 1))\n",
        "y_test = test_df[['label']].values\n",
        "\n",
        "print(x_train.shape, y_train.shape)\n",
        "print(x_test.shape, y_test.shape)"
      ],
      "execution_count": 24,
      "outputs": [
        {
          "output_type": "stream",
          "name": "stdout",
          "text": [
            "(27455, 28, 28, 1) (27455, 1)\n(7172, 28, 28, 1) (7172, 1)\n"
          ]
        }
      ]
    },
    {
      "cell_type": "markdown",
      "metadata": {
        "id": "Vpi-VrGP72IZ"
      },
      "source": [
        "## 데이터 미리보기"
      ]
    },
    {
      "cell_type": "code",
      "metadata": {
        "colab": {
          "base_uri": "https://localhost:8080/",
          "height": 281
        },
        "id": "3zM9vnrD7fJZ",
        "outputId": "799666a4-7ceb-4439-f99c-d848c265d329"
      },
      "source": [
        "index = 1\n",
        "plt.title(str(y_train[index]))\n",
        "plt.imshow(x_train[index].reshape((28, 28)), cmap='gray')\n",
        "plt.show()"
      ],
      "execution_count": 25,
      "outputs": [
        {
          "output_type": "display_data",
          "data": {
            "text/plain": "<Figure size 432x288 with 1 Axes>",
            "image/svg+xml": "<?xml version=\"1.0\" encoding=\"utf-8\" standalone=\"no\"?>\r\n<!DOCTYPE svg PUBLIC \"-//W3C//DTD SVG 1.1//EN\"\r\n  \"http://www.w3.org/Graphics/SVG/1.1/DTD/svg11.dtd\">\r\n<svg height=\"263.63625pt\" version=\"1.1\" viewBox=\"0 0 251.565 263.63625\" width=\"251.565pt\" xmlns=\"http://www.w3.org/2000/svg\" xmlns:xlink=\"http://www.w3.org/1999/xlink\">\r\n <metadata>\r\n  <rdf:RDF xmlns:cc=\"http://creativecommons.org/ns#\" xmlns:dc=\"http://purl.org/dc/elements/1.1/\" xmlns:rdf=\"http://www.w3.org/1999/02/22-rdf-syntax-ns#\">\r\n   <cc:Work>\r\n    <dc:type rdf:resource=\"http://purl.org/dc/dcmitype/StillImage\"/>\r\n    <dc:date>2021-07-30T11:12:24.990552</dc:date>\r\n    <dc:format>image/svg+xml</dc:format>\r\n    <dc:creator>\r\n     <cc:Agent>\r\n      <dc:title>Matplotlib v3.4.2, https://matplotlib.org/</dc:title>\r\n     </cc:Agent>\r\n    </dc:creator>\r\n   </cc:Work>\r\n  </rdf:RDF>\r\n </metadata>\r\n <defs>\r\n  <style type=\"text/css\">*{stroke-linecap:butt;stroke-linejoin:round;}</style>\r\n </defs>\r\n <g id=\"figure_1\">\r\n  <g id=\"patch_1\">\r\n   <path d=\"M 0 263.63625 \r\nL 251.565 263.63625 \r\nL 251.565 0 \r\nL 0 0 \r\nz\r\n\" style=\"fill:none;\"/>\r\n  </g>\r\n  <g id=\"axes_1\">\r\n   <g id=\"patch_2\">\r\n    <path d=\"M 26.925 239.758125 \r\nL 244.365 239.758125 \r\nL 244.365 22.318125 \r\nL 26.925 22.318125 \r\nz\r\n\" style=\"fill:#ffffff;\"/>\r\n   </g>\r\n   <g clip-path=\"url(#paec08da8af)\">\r\n    <image height=\"218\" id=\"image07cd9010c1\" transform=\"scale(1 -1)translate(0 -218)\" width=\"218\" x=\"26.925\" xlink:href=\"data:image/png;base64,\r\niVBORw0KGgoAAAANSUhEUgAAANoAAADaCAYAAADAHVzbAAAL6klEQVR4nO3dy2+NXRvH8bWf7mqdVSmKEpGQapqURCIOEelEGBgZmAkTIib+BiHmJP4GiUikEgPnaKiEijiGijqWUlo9Ob6Td3r/fvIs++J98/1Mr2fdvfe2f7mT+3qutUpHjhz5mYQXL16ocurt7S2svXnzRq4dGhqS9blz58r61q1bC2ttbW1y7bJly2T97du3sj44OCjrixcvLqwdO3ZMrh0bG5P1np4eWd+0aZOsj4yMFNbOnj0r1757907WDxw4IOvq93L16lW5dtKkSbK+a9cuWa+rq5P148ePF9ZaW1vl2lmzZsn6P7IK4LcgaEAAggYEIGhAAIIGBCBoQACCBgQoz5s3T/4H1dXVsv7zZ3EbbnR0VK798eOHrPf398v60aNHC2szZ86Ua5ubm2W9paVF1levXi3rHz58KKypHltKKT1+/FjWXX/x/v37sj4wMFBYcz28zZs3y/rkyZNlfc2aNYW1Z8+eybXDw8OyfuXKFVl3vwn1e+3s7JRrly5dKus80YAABA0IQNCAAAQNCEDQgAAEDQhA0IAApVOnTsl5tG/fvskLqF5Xd3e3XPvw4UNZdzNfqq/i7lv1/1JK6fv377LuelkbN24srO3evVuurampkXXXXzx58qSsX7hwobC2bt06udbNXblel+o37dixQ649fPiwrJ8/f17WnXK5XFibMWOGXKtm/FLiiQaEIGhAAIIGBCBoQACCBgQgaECA4veZ/+Vea6pXokuWLJFr3WvqnDEbt3bq1Kmy7saD1BhMSimdOHGisHbx4kW5dufOnbK+YcMGWV+0aJGsq1GXCRMmyLVfv36V9YaGBllXbt++Leu1tbWyvn79ell32xs+ePBA1hV3bzzRgAAEDQhA0IAABA0IQNCAAAQNCEDQgADlqqoq+R+4LeFUP2rBggVyrdtezB37pHpdro/m+mT19fWy7vpFqmejtntLKaVDhw7JuhvJ2LJli6zfuHGjsHbr1i251o0Pue9V9V3VkU4ppTRx4kRZX7hwoaw3NTXJ+unTpwtr165dk2tLpZKs80QDAhA0IABBAwIQNCAAQQMCEDQgAEEDApT/+Udnzc1dqTkctzVZztFHKaX0+fPnwprr57ht0VS/JyXfI1Tb0blt9Fxv8+DBg7Lujn3at29fYc0dZ+X6k69evZJ11UN0fVV3JJSbZ3O/9U2bNhXW3O+pq6tL/21ZBfBbEDQgAEEDAhA0IABBAwIQNCAAQQMC2GObHHU8kts70fWLbt68Kev37t0rrLk9/Pr6+mTd3ZubfVI9n56eHrn2+fPnsu6OpPr06ZOsr1y5srC2bds2uXb69Omy3tjYKOvqN+H6f1OmTJF118O7fv26rKsjpebPny/Xur4sTzQgAEEDAhA0IABBAwIQNCAAQQMCEDQgQOns2bOyj+b28XM9HWV8fFzWXS9M9YvcfbvZJDd35WbK1Hr3uVz/0N2bu77aq9PNfLkZQ9dH2759e2Gtra1NrnW/Nfe5X758KeuXL18urKmebUop7dmzR9Z5ogEBCBoQgKABAQgaEICgAQEIGhCgdOfOHfl6340euONqlP7+fln/+vWrrKvX3O4VuLv22NiYrLtXyaruRirctd3xRZ2dnbKutnVrbW2Va5cvXy7rs2fPlnXVktm7d69c67YAdC0dR7U9zp07J9euXbtW1nmiAQEIGhCAoAEBCBoQgKABAQgaEICgAQHKrjcxbdo0WVdHK7mRC7d9mNt+zI2qKG5Ex/XhXF1d342aqO3gUvI9PnWcVUop9fb2FtZc39QdteX6cI8ePSqsuTEYtwWg6oP9Sv3nz+KWcnt7u1zrep880YAABA0IQNCAAAQNCEDQgAAEDQhA0IAAZde7cL0u1S9yvaovX77IuuuTvX//vrA2YcIEudYdbeR6Ns3NzbKuemXu2m5WTvUuU9LHD6WU0pIlSwpr1dXVcm1dXZ2su8+m5rYmTZok17rfi5uNdFsMqu/d9SbdEWU80YAABA0IQNCAAAQNCEDQgAAEDQhA0IAAZTej43oPqn+QO1/kejpqVs71NaZPny7rbn/CmTNnyrr6bCMjI3Ltx48fZd31dNyMoeqN7t69W651s3Lu96R6Za7vmitnHs1hHg34CxA0IABBAwIQNCAAQQMCEDQgQKm7u1u+08w5lsm9hnbH7LjX3H19ff/62m4UJedVb0r6aCb3vTiuNeH09PQU1lzrYf/+/bLuvnfV8nG/NXdt92/mXu+r6+d8rpR4ogEhCBoQgKABAQgaEICgAQEIGhCAoAEByq73kNNPqq2tlXXXJ3Pbi71+/bqw5kYuXC/K9VzcvalxkKamJrnWjSbNnTs3a73aMu7SpUty7d27d2W9paVF1lW/Kbd3mTsGo+ru2g5PNCAAQQMCEDQgAEEDAhA0IABBAwIQNCCA3W4up7fh5ovckVBuNmrBggWFNXcEkNuSbXR0VNad+vr6wlru8UTO2NiYrKsjrVwPzh135ai5rtx5NFd31PrcnPBEAwIQNCAAQQMCEDQgAEEDAhA0IABBAwKUurq6ZAPA9QdU78Mdy5Tb9xgcHCys9ff3y7VuXs3t++iOlFJ9utzZJnfvNTU1sq76bK536ebN3Ayi+16V3H0dc9bn9vB4ogEBCBoQgKABAQgaEICgAQEIGhCAoAEByrm9LDW/5M6Myp0/UjNjb9++lWvdzJeblXM9wvfv3xfWXK9qzpw5sj5x4kRZd9/7ihUrCmtqVi0lP6fnvlf1b567x6j73E7O+Wj00YC/AEEDAhA0IABBAwIQNCAAQQMClDo7O/POylEXN6/vc0ZwHHdt95p6YGBA1t3rfzUu0tfXJ9e61sSiRYtk3R2H9fLly8JaW1ubXDtt2jRZd99rzvaFuWMybjxJXd+1Dni9D/wFCBoQgKABAQgaEICgAQEIGhCAoAEBSlevXq1YH83+8cw+W861nZwRnZT0+NDkyZPl2qGhIVl3Rye57eaePHlSWHvx4oVcu2rVKll3Iz7qe3EjNpUcg0lJ99lyenAp8UQDQhA0IABBAwIQNCAAQQMCEDQgAEEDApRdfyCnl+VUso+WSx27lFJKU6dOlXV1PNHw8HDWtevr62XdzaM1NDQU1twc3s2bN2XdbYVXV1dXWGtqapJr3ffi+mw5v/WcHlxKPNGAEAQNCEDQgAAEDQhA0IAABA0IQNCAAKULFy78sX0d/5epuSpH9dh+pe7+tutlqbkvd6SU+9ufP3+W9QcPHhTWXr9+Lde6PtqyZctk3c3KjY2NFdbcv4nr4fFEAwIQNCAAQQMCEDQgAEEDAhA0IABBAwLYeTRHzfBUuo+mejq5n8txs3Ku76K4WTi3/+Hg4KCsj4+PF9bcfbtZODVvllJKs2bNKqy9evVKrr13756sd3R0yHpzc7Ost7a2yrpi9/n811cG8MsIGhCAoAEBCBoQgKABAQgaEKDs/vf+nC3hcl/vu1fo6vo5Yyy/wr0GV/fuPpcduTCfzR4hJNZXVVXJtW4ru/7+fllXrQX16j+llNrb22V98eLFsn7mzBlZV8ddudaA24aPJxoQgKABAQgaEICgAQEIGhCAoAEBCBoQoJzTc0lJj6Pk9rLsUTh/cEwm597cd+7k9PAcN6Ljrp3zb+56cO7eWlpaZN3d+9OnTwtr7969k2tdf5EnGhCAoAEBCBoQgKABAQgaEICgAQEIGhCg1NHRIZsLOf2oSs+E5ah0n62SfTR3765flPP3K3lt97lyZyfd71FdXx03lZLv8f29SQD+jxA0IABBAwIQNCAAQQMCEDQgAEEDApTdEUCVlLNn5K+sr6Scma/ca1eyj5Z77dz1OWtdD8/14RTXg3N7UvJEAwIQNCAAQQMCEDQgAEEDAhA0IED2sU05csdoKvmKPZd6zZ37ity9xs65vlv7J1/vV3q8SLW6hoaG5NrGxkZZ54kGBCBoQACCBgQgaEAAggYEIGhAAIIGBCi7I4CqqqpkvZK9rJwxGnffTs6xTCnpns+f3m5O1f/kvbm1udvRuX8zlYWenh65dnh4WP9tWQXwWxA0IABBAwIQNCAAQQMCEDQgAEEDAvwHpbPkY3qOlmYAAAAASUVORK5CYII=\" y=\"-21.758125\"/>\r\n   </g>\r\n   <g id=\"matplotlib.axis_1\">\r\n    <g id=\"xtick_1\">\r\n     <g id=\"line2d_1\">\r\n      <defs>\r\n       <path d=\"M 0 0 \r\nL 0 3.5 \r\n\" id=\"m1ee6a67b48\" style=\"stroke:#000000;stroke-width:0.8;\"/>\r\n      </defs>\r\n      <g>\r\n       <use style=\"stroke:#000000;stroke-width:0.8;\" x=\"30.807857\" xlink:href=\"#m1ee6a67b48\" y=\"239.758125\"/>\r\n      </g>\r\n     </g>\r\n     <g id=\"text_1\">\r\n      <!-- 0 -->\r\n      <g transform=\"translate(27.626607 254.356563)scale(0.1 -0.1)\">\r\n       <defs>\r\n        <path d=\"M 2034 4250 \r\nQ 1547 4250 1301 3770 \r\nQ 1056 3291 1056 2328 \r\nQ 1056 1369 1301 889 \r\nQ 1547 409 2034 409 \r\nQ 2525 409 2770 889 \r\nQ 3016 1369 3016 2328 \r\nQ 3016 3291 2770 3770 \r\nQ 2525 4250 2034 4250 \r\nz\r\nM 2034 4750 \r\nQ 2819 4750 3233 4129 \r\nQ 3647 3509 3647 2328 \r\nQ 3647 1150 3233 529 \r\nQ 2819 -91 2034 -91 \r\nQ 1250 -91 836 529 \r\nQ 422 1150 422 2328 \r\nQ 422 3509 836 4129 \r\nQ 1250 4750 2034 4750 \r\nz\r\n\" id=\"DejaVuSans-30\" transform=\"scale(0.015625)\"/>\r\n       </defs>\r\n       <use xlink:href=\"#DejaVuSans-30\"/>\r\n      </g>\r\n     </g>\r\n    </g>\r\n    <g id=\"xtick_2\">\r\n     <g id=\"line2d_2\">\r\n      <g>\r\n       <use style=\"stroke:#000000;stroke-width:0.8;\" x=\"69.636429\" xlink:href=\"#m1ee6a67b48\" y=\"239.758125\"/>\r\n      </g>\r\n     </g>\r\n     <g id=\"text_2\">\r\n      <!-- 5 -->\r\n      <g transform=\"translate(66.455179 254.356563)scale(0.1 -0.1)\">\r\n       <defs>\r\n        <path d=\"M 691 4666 \r\nL 3169 4666 \r\nL 3169 4134 \r\nL 1269 4134 \r\nL 1269 2991 \r\nQ 1406 3038 1543 3061 \r\nQ 1681 3084 1819 3084 \r\nQ 2600 3084 3056 2656 \r\nQ 3513 2228 3513 1497 \r\nQ 3513 744 3044 326 \r\nQ 2575 -91 1722 -91 \r\nQ 1428 -91 1123 -41 \r\nQ 819 9 494 109 \r\nL 494 744 \r\nQ 775 591 1075 516 \r\nQ 1375 441 1709 441 \r\nQ 2250 441 2565 725 \r\nQ 2881 1009 2881 1497 \r\nQ 2881 1984 2565 2268 \r\nQ 2250 2553 1709 2553 \r\nQ 1456 2553 1204 2497 \r\nQ 953 2441 691 2322 \r\nL 691 4666 \r\nz\r\n\" id=\"DejaVuSans-35\" transform=\"scale(0.015625)\"/>\r\n       </defs>\r\n       <use xlink:href=\"#DejaVuSans-35\"/>\r\n      </g>\r\n     </g>\r\n    </g>\r\n    <g id=\"xtick_3\">\r\n     <g id=\"line2d_3\">\r\n      <g>\r\n       <use style=\"stroke:#000000;stroke-width:0.8;\" x=\"108.465\" xlink:href=\"#m1ee6a67b48\" y=\"239.758125\"/>\r\n      </g>\r\n     </g>\r\n     <g id=\"text_3\">\r\n      <!-- 10 -->\r\n      <g transform=\"translate(102.1025 254.356563)scale(0.1 -0.1)\">\r\n       <defs>\r\n        <path d=\"M 794 531 \r\nL 1825 531 \r\nL 1825 4091 \r\nL 703 3866 \r\nL 703 4441 \r\nL 1819 4666 \r\nL 2450 4666 \r\nL 2450 531 \r\nL 3481 531 \r\nL 3481 0 \r\nL 794 0 \r\nL 794 531 \r\nz\r\n\" id=\"DejaVuSans-31\" transform=\"scale(0.015625)\"/>\r\n       </defs>\r\n       <use xlink:href=\"#DejaVuSans-31\"/>\r\n       <use x=\"63.623047\" xlink:href=\"#DejaVuSans-30\"/>\r\n      </g>\r\n     </g>\r\n    </g>\r\n    <g id=\"xtick_4\">\r\n     <g id=\"line2d_4\">\r\n      <g>\r\n       <use style=\"stroke:#000000;stroke-width:0.8;\" x=\"147.293571\" xlink:href=\"#m1ee6a67b48\" y=\"239.758125\"/>\r\n      </g>\r\n     </g>\r\n     <g id=\"text_4\">\r\n      <!-- 15 -->\r\n      <g transform=\"translate(140.931071 254.356563)scale(0.1 -0.1)\">\r\n       <use xlink:href=\"#DejaVuSans-31\"/>\r\n       <use x=\"63.623047\" xlink:href=\"#DejaVuSans-35\"/>\r\n      </g>\r\n     </g>\r\n    </g>\r\n    <g id=\"xtick_5\">\r\n     <g id=\"line2d_5\">\r\n      <g>\r\n       <use style=\"stroke:#000000;stroke-width:0.8;\" x=\"186.122143\" xlink:href=\"#m1ee6a67b48\" y=\"239.758125\"/>\r\n      </g>\r\n     </g>\r\n     <g id=\"text_5\">\r\n      <!-- 20 -->\r\n      <g transform=\"translate(179.759643 254.356563)scale(0.1 -0.1)\">\r\n       <defs>\r\n        <path d=\"M 1228 531 \r\nL 3431 531 \r\nL 3431 0 \r\nL 469 0 \r\nL 469 531 \r\nQ 828 903 1448 1529 \r\nQ 2069 2156 2228 2338 \r\nQ 2531 2678 2651 2914 \r\nQ 2772 3150 2772 3378 \r\nQ 2772 3750 2511 3984 \r\nQ 2250 4219 1831 4219 \r\nQ 1534 4219 1204 4116 \r\nQ 875 4013 500 3803 \r\nL 500 4441 \r\nQ 881 4594 1212 4672 \r\nQ 1544 4750 1819 4750 \r\nQ 2544 4750 2975 4387 \r\nQ 3406 4025 3406 3419 \r\nQ 3406 3131 3298 2873 \r\nQ 3191 2616 2906 2266 \r\nQ 2828 2175 2409 1742 \r\nQ 1991 1309 1228 531 \r\nz\r\n\" id=\"DejaVuSans-32\" transform=\"scale(0.015625)\"/>\r\n       </defs>\r\n       <use xlink:href=\"#DejaVuSans-32\"/>\r\n       <use x=\"63.623047\" xlink:href=\"#DejaVuSans-30\"/>\r\n      </g>\r\n     </g>\r\n    </g>\r\n    <g id=\"xtick_6\">\r\n     <g id=\"line2d_6\">\r\n      <g>\r\n       <use style=\"stroke:#000000;stroke-width:0.8;\" x=\"224.950714\" xlink:href=\"#m1ee6a67b48\" y=\"239.758125\"/>\r\n      </g>\r\n     </g>\r\n     <g id=\"text_6\">\r\n      <!-- 25 -->\r\n      <g transform=\"translate(218.588214 254.356563)scale(0.1 -0.1)\">\r\n       <use xlink:href=\"#DejaVuSans-32\"/>\r\n       <use x=\"63.623047\" xlink:href=\"#DejaVuSans-35\"/>\r\n      </g>\r\n     </g>\r\n    </g>\r\n   </g>\r\n   <g id=\"matplotlib.axis_2\">\r\n    <g id=\"ytick_1\">\r\n     <g id=\"line2d_7\">\r\n      <defs>\r\n       <path d=\"M 0 0 \r\nL -3.5 0 \r\n\" id=\"m8d0592ac75\" style=\"stroke:#000000;stroke-width:0.8;\"/>\r\n      </defs>\r\n      <g>\r\n       <use style=\"stroke:#000000;stroke-width:0.8;\" x=\"26.925\" xlink:href=\"#m8d0592ac75\" y=\"26.200982\"/>\r\n      </g>\r\n     </g>\r\n     <g id=\"text_7\">\r\n      <!-- 0 -->\r\n      <g transform=\"translate(13.5625 30.000201)scale(0.1 -0.1)\">\r\n       <use xlink:href=\"#DejaVuSans-30\"/>\r\n      </g>\r\n     </g>\r\n    </g>\r\n    <g id=\"ytick_2\">\r\n     <g id=\"line2d_8\">\r\n      <g>\r\n       <use style=\"stroke:#000000;stroke-width:0.8;\" x=\"26.925\" xlink:href=\"#m8d0592ac75\" y=\"65.029554\"/>\r\n      </g>\r\n     </g>\r\n     <g id=\"text_8\">\r\n      <!-- 5 -->\r\n      <g transform=\"translate(13.5625 68.828772)scale(0.1 -0.1)\">\r\n       <use xlink:href=\"#DejaVuSans-35\"/>\r\n      </g>\r\n     </g>\r\n    </g>\r\n    <g id=\"ytick_3\">\r\n     <g id=\"line2d_9\">\r\n      <g>\r\n       <use style=\"stroke:#000000;stroke-width:0.8;\" x=\"26.925\" xlink:href=\"#m8d0592ac75\" y=\"103.858125\"/>\r\n      </g>\r\n     </g>\r\n     <g id=\"text_9\">\r\n      <!-- 10 -->\r\n      <g transform=\"translate(7.2 107.657344)scale(0.1 -0.1)\">\r\n       <use xlink:href=\"#DejaVuSans-31\"/>\r\n       <use x=\"63.623047\" xlink:href=\"#DejaVuSans-30\"/>\r\n      </g>\r\n     </g>\r\n    </g>\r\n    <g id=\"ytick_4\">\r\n     <g id=\"line2d_10\">\r\n      <g>\r\n       <use style=\"stroke:#000000;stroke-width:0.8;\" x=\"26.925\" xlink:href=\"#m8d0592ac75\" y=\"142.686696\"/>\r\n      </g>\r\n     </g>\r\n     <g id=\"text_10\">\r\n      <!-- 15 -->\r\n      <g transform=\"translate(7.2 146.485915)scale(0.1 -0.1)\">\r\n       <use xlink:href=\"#DejaVuSans-31\"/>\r\n       <use x=\"63.623047\" xlink:href=\"#DejaVuSans-35\"/>\r\n      </g>\r\n     </g>\r\n    </g>\r\n    <g id=\"ytick_5\">\r\n     <g id=\"line2d_11\">\r\n      <g>\r\n       <use style=\"stroke:#000000;stroke-width:0.8;\" x=\"26.925\" xlink:href=\"#m8d0592ac75\" y=\"181.515268\"/>\r\n      </g>\r\n     </g>\r\n     <g id=\"text_11\">\r\n      <!-- 20 -->\r\n      <g transform=\"translate(7.2 185.314487)scale(0.1 -0.1)\">\r\n       <use xlink:href=\"#DejaVuSans-32\"/>\r\n       <use x=\"63.623047\" xlink:href=\"#DejaVuSans-30\"/>\r\n      </g>\r\n     </g>\r\n    </g>\r\n    <g id=\"ytick_6\">\r\n     <g id=\"line2d_12\">\r\n      <g>\r\n       <use style=\"stroke:#000000;stroke-width:0.8;\" x=\"26.925\" xlink:href=\"#m8d0592ac75\" y=\"220.343839\"/>\r\n      </g>\r\n     </g>\r\n     <g id=\"text_12\">\r\n      <!-- 25 -->\r\n      <g transform=\"translate(7.2 224.143058)scale(0.1 -0.1)\">\r\n       <use xlink:href=\"#DejaVuSans-32\"/>\r\n       <use x=\"63.623047\" xlink:href=\"#DejaVuSans-35\"/>\r\n      </g>\r\n     </g>\r\n    </g>\r\n   </g>\r\n   <g id=\"patch_3\">\r\n    <path d=\"M 26.925 239.758125 \r\nL 26.925 22.318125 \r\n\" style=\"fill:none;stroke:#000000;stroke-linecap:square;stroke-linejoin:miter;stroke-width:0.8;\"/>\r\n   </g>\r\n   <g id=\"patch_4\">\r\n    <path d=\"M 244.365 239.758125 \r\nL 244.365 22.318125 \r\n\" style=\"fill:none;stroke:#000000;stroke-linecap:square;stroke-linejoin:miter;stroke-width:0.8;\"/>\r\n   </g>\r\n   <g id=\"patch_5\">\r\n    <path d=\"M 26.925 239.758125 \r\nL 244.365 239.758125 \r\n\" style=\"fill:none;stroke:#000000;stroke-linecap:square;stroke-linejoin:miter;stroke-width:0.8;\"/>\r\n   </g>\r\n   <g id=\"patch_6\">\r\n    <path d=\"M 26.925 22.318125 \r\nL 244.365 22.318125 \r\n\" style=\"fill:none;stroke:#000000;stroke-linecap:square;stroke-linejoin:miter;stroke-width:0.8;\"/>\r\n   </g>\r\n   <g id=\"text_13\">\r\n    <!-- [6.] -->\r\n    <g transform=\"translate(125.23875 16.318125)scale(0.12 -0.12)\">\r\n     <defs>\r\n      <path d=\"M 550 4863 \r\nL 1875 4863 \r\nL 1875 4416 \r\nL 1125 4416 \r\nL 1125 -397 \r\nL 1875 -397 \r\nL 1875 -844 \r\nL 550 -844 \r\nL 550 4863 \r\nz\r\n\" id=\"DejaVuSans-5b\" transform=\"scale(0.015625)\"/>\r\n      <path d=\"M 2113 2584 \r\nQ 1688 2584 1439 2293 \r\nQ 1191 2003 1191 1497 \r\nQ 1191 994 1439 701 \r\nQ 1688 409 2113 409 \r\nQ 2538 409 2786 701 \r\nQ 3034 994 3034 1497 \r\nQ 3034 2003 2786 2293 \r\nQ 2538 2584 2113 2584 \r\nz\r\nM 3366 4563 \r\nL 3366 3988 \r\nQ 3128 4100 2886 4159 \r\nQ 2644 4219 2406 4219 \r\nQ 1781 4219 1451 3797 \r\nQ 1122 3375 1075 2522 \r\nQ 1259 2794 1537 2939 \r\nQ 1816 3084 2150 3084 \r\nQ 2853 3084 3261 2657 \r\nQ 3669 2231 3669 1497 \r\nQ 3669 778 3244 343 \r\nQ 2819 -91 2113 -91 \r\nQ 1303 -91 875 529 \r\nQ 447 1150 447 2328 \r\nQ 447 3434 972 4092 \r\nQ 1497 4750 2381 4750 \r\nQ 2619 4750 2861 4703 \r\nQ 3103 4656 3366 4563 \r\nz\r\n\" id=\"DejaVuSans-36\" transform=\"scale(0.015625)\"/>\r\n      <path d=\"M 684 794 \r\nL 1344 794 \r\nL 1344 0 \r\nL 684 0 \r\nL 684 794 \r\nz\r\n\" id=\"DejaVuSans-2e\" transform=\"scale(0.015625)\"/>\r\n      <path d=\"M 1947 4863 \r\nL 1947 -844 \r\nL 622 -844 \r\nL 622 -397 \r\nL 1369 -397 \r\nL 1369 4416 \r\nL 622 4416 \r\nL 622 4863 \r\nL 1947 4863 \r\nz\r\n\" id=\"DejaVuSans-5d\" transform=\"scale(0.015625)\"/>\r\n     </defs>\r\n     <use xlink:href=\"#DejaVuSans-5b\"/>\r\n     <use x=\"39.013672\" xlink:href=\"#DejaVuSans-36\"/>\r\n     <use x=\"102.636719\" xlink:href=\"#DejaVuSans-2e\"/>\r\n     <use x=\"134.423828\" xlink:href=\"#DejaVuSans-5d\"/>\r\n    </g>\r\n   </g>\r\n  </g>\r\n </g>\r\n <defs>\r\n  <clipPath id=\"paec08da8af\">\r\n   <rect height=\"217.44\" width=\"217.44\" x=\"26.925\" y=\"22.318125\"/>\r\n  </clipPath>\r\n </defs>\r\n</svg>\r\n",
            "image/png": "[encoded data removed]"
          },
          "metadata": {
            "needs_background": "light"
          }
        }
      ]
    },
    {
      "cell_type": "markdown",
      "metadata": {
        "id": "WGNAG69C5bqY"
      },
      "source": [
        "## One-hot encoding"
      ]
    },
    {
      "cell_type": "code",
      "metadata": {
        "colab": {
          "base_uri": "https://localhost:8080/"
        },
        "id": "OLXr9xZy0pz6",
        "outputId": "48eee4aa-2d89-40a3-a622-cce9411171fd"
      },
      "source": [
        "encoder = OneHotEncoder()\n",
        "y_train = encoder.fit_transform(y_train).toarray()\n",
        "y_test = encoder.fit_transform(y_test).toarray()\n",
        "\n",
        "print(y_train.shape)"
      ],
      "execution_count": 26,
      "outputs": [
        {
          "output_type": "stream",
          "name": "stdout",
          "text": [
            "(27455, 24)\n"
          ]
        }
      ]
    },
    {
      "cell_type": "markdown",
      "metadata": {
        "id": "v9i18wWC5dCO"
      },
      "source": [
        "## 일반화\n",
        "\n",
        "이미지 데이터는 픽셀이 0-255 사이의 정수(unsigned integer 8bit = uint8)로 되어 있습니다. 이것을 255로 나누어 0-1 사이의 소수점 데이터(floating point 32bit = float32)로 바꾸고 일반화 시키도록 할게요!\n",
        "\n",
        "이번에는 ImageDataGenerator()를 사용해서 일반화 시켜보겠습니다!"
      ]
    },
    {
      "cell_type": "code",
      "metadata": {
        "id": "dG9MET2W2Qr_",
        "colab": {
          "base_uri": "https://localhost:8080/",
          "height": 281
        },
        "outputId": "b5f9fca4-417c-4390-84cb-948447d821c5"
      },
      "source": [
        "train_image_datagen = ImageDataGenerator(\n",
        "  rescale=1./255, # 일반화\n",
        ")\n",
        "\n",
        "train_datagen = train_image_datagen.flow(\n",
        "    x=x_train,\n",
        "    y=y_train,\n",
        "    batch_size=256,\n",
        "    shuffle=True\n",
        ")\n",
        "\n",
        "test_image_datagen = ImageDataGenerator(\n",
        "  rescale=1./255\n",
        ")\n",
        "\n",
        "test_datagen = test_image_datagen.flow(\n",
        "    x=x_test,\n",
        "    y=y_test,\n",
        "    batch_size=256,\n",
        "    shuffle=False\n",
        ")\n",
        "\n",
        "index = 1\n",
        "\n",
        "preview_img = train_datagen.__getitem__(0)[0][index]\n",
        "preview_label = train_datagen.__getitem__(0)[1][index]\n",
        "\n",
        "plt.imshow(preview_img.reshape((28, 28)))\n",
        "plt.title(str(preview_label))\n",
        "plt.show()"
      ],
      "execution_count": 28,
      "outputs": [
        {
          "output_type": "display_data",
          "data": {
            "text/plain": "<Figure size 432x288 with 1 Axes>",
            "image/svg+xml": "<?xml version=\"1.0\" encoding=\"utf-8\" standalone=\"no\"?>\r\n<!DOCTYPE svg PUBLIC \"-//W3C//DTD SVG 1.1//EN\"\r\n  \"http://www.w3.org/Graphics/SVG/1.1/DTD/svg11.dtd\">\r\n<svg height=\"263.63625pt\" version=\"1.1\" viewBox=\"0 0 386.25 263.63625\" width=\"386.25pt\" xmlns=\"http://www.w3.org/2000/svg\" xmlns:xlink=\"http://www.w3.org/1999/xlink\">\r\n <metadata>\r\n  <rdf:RDF xmlns:cc=\"http://creativecommons.org/ns#\" xmlns:dc=\"http://purl.org/dc/elements/1.1/\" xmlns:rdf=\"http://www.w3.org/1999/02/22-rdf-syntax-ns#\">\r\n   <cc:Work>\r\n    <dc:type rdf:resource=\"http://purl.org/dc/dcmitype/StillImage\"/>\r\n    <dc:date>2021-07-30T11:15:04.890991</dc:date>\r\n    <dc:format>image/svg+xml</dc:format>\r\n    <dc:creator>\r\n     <cc:Agent>\r\n      <dc:title>Matplotlib v3.4.2, https://matplotlib.org/</dc:title>\r\n     </cc:Agent>\r\n    </dc:creator>\r\n   </cc:Work>\r\n  </rdf:RDF>\r\n </metadata>\r\n <defs>\r\n  <style type=\"text/css\">*{stroke-linecap:butt;stroke-linejoin:round;}</style>\r\n </defs>\r\n <g id=\"figure_1\">\r\n  <g id=\"patch_1\">\r\n   <path d=\"M 0 263.63625 \r\nL 386.25 263.63625 \r\nL 386.25 0 \r\nL 0 0 \r\nz\r\n\" style=\"fill:none;\"/>\r\n  </g>\r\n  <g id=\"axes_1\">\r\n   <g id=\"patch_2\">\r\n    <path d=\"M 84.405 239.758125 \r\nL 301.845 239.758125 \r\nL 301.845 22.318125 \r\nL 84.405 22.318125 \r\nz\r\n\" style=\"fill:#ffffff;\"/>\r\n   </g>\r\n   <g clip-path=\"url(#p4876d71512)\">\r\n    <image height=\"218\" id=\"imagee1a2190ff9\" transform=\"scale(1 -1)translate(0 -218)\" width=\"218\" x=\"84.405\" xlink:href=\"data:image/png;base64,\r\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\" y=\"-21.758125\"/>\r\n   </g>\r\n   <g id=\"matplotlib.axis_1\">\r\n    <g id=\"xtick_1\">\r\n     <g id=\"line2d_1\">\r\n      <defs>\r\n       <path d=\"M 0 0 \r\nL 0 3.5 \r\n\" id=\"m899aab8009\" style=\"stroke:#000000;stroke-width:0.8;\"/>\r\n      </defs>\r\n      <g>\r\n       <use style=\"stroke:#000000;stroke-width:0.8;\" x=\"88.287857\" xlink:href=\"#m899aab8009\" y=\"239.758125\"/>\r\n      </g>\r\n     </g>\r\n     <g id=\"text_1\">\r\n      <!-- 0 -->\r\n      <g transform=\"translate(85.106607 254.356563)scale(0.1 -0.1)\">\r\n       <defs>\r\n        <path d=\"M 2034 4250 \r\nQ 1547 4250 1301 3770 \r\nQ 1056 3291 1056 2328 \r\nQ 1056 1369 1301 889 \r\nQ 1547 409 2034 409 \r\nQ 2525 409 2770 889 \r\nQ 3016 1369 3016 2328 \r\nQ 3016 3291 2770 3770 \r\nQ 2525 4250 2034 4250 \r\nz\r\nM 2034 4750 \r\nQ 2819 4750 3233 4129 \r\nQ 3647 3509 3647 2328 \r\nQ 3647 1150 3233 529 \r\nQ 2819 -91 2034 -91 \r\nQ 1250 -91 836 529 \r\nQ 422 1150 422 2328 \r\nQ 422 3509 836 4129 \r\nQ 1250 4750 2034 4750 \r\nz\r\n\" id=\"DejaVuSans-30\" transform=\"scale(0.015625)\"/>\r\n       </defs>\r\n       <use xlink:href=\"#DejaVuSans-30\"/>\r\n      </g>\r\n     </g>\r\n    </g>\r\n    <g id=\"xtick_2\">\r\n     <g id=\"line2d_2\">\r\n      <g>\r\n       <use style=\"stroke:#000000;stroke-width:0.8;\" x=\"127.116429\" xlink:href=\"#m899aab8009\" y=\"239.758125\"/>\r\n      </g>\r\n     </g>\r\n     <g id=\"text_2\">\r\n      <!-- 5 -->\r\n      <g transform=\"translate(123.935179 254.356563)scale(0.1 -0.1)\">\r\n       <defs>\r\n        <path d=\"M 691 4666 \r\nL 3169 4666 \r\nL 3169 4134 \r\nL 1269 4134 \r\nL 1269 2991 \r\nQ 1406 3038 1543 3061 \r\nQ 1681 3084 1819 3084 \r\nQ 2600 3084 3056 2656 \r\nQ 3513 2228 3513 1497 \r\nQ 3513 744 3044 326 \r\nQ 2575 -91 1722 -91 \r\nQ 1428 -91 1123 -41 \r\nQ 819 9 494 109 \r\nL 494 744 \r\nQ 775 591 1075 516 \r\nQ 1375 441 1709 441 \r\nQ 2250 441 2565 725 \r\nQ 2881 1009 2881 1497 \r\nQ 2881 1984 2565 2268 \r\nQ 2250 2553 1709 2553 \r\nQ 1456 2553 1204 2497 \r\nQ 953 2441 691 2322 \r\nL 691 4666 \r\nz\r\n\" id=\"DejaVuSans-35\" transform=\"scale(0.015625)\"/>\r\n       </defs>\r\n       <use xlink:href=\"#DejaVuSans-35\"/>\r\n      </g>\r\n     </g>\r\n    </g>\r\n    <g id=\"xtick_3\">\r\n     <g id=\"line2d_3\">\r\n      <g>\r\n       <use style=\"stroke:#000000;stroke-width:0.8;\" x=\"165.945\" xlink:href=\"#m899aab8009\" y=\"239.758125\"/>\r\n      </g>\r\n     </g>\r\n     <g id=\"text_3\">\r\n      <!-- 10 -->\r\n      <g transform=\"translate(159.5825 254.356563)scale(0.1 -0.1)\">\r\n       <defs>\r\n        <path d=\"M 794 531 \r\nL 1825 531 \r\nL 1825 4091 \r\nL 703 3866 \r\nL 703 4441 \r\nL 1819 4666 \r\nL 2450 4666 \r\nL 2450 531 \r\nL 3481 531 \r\nL 3481 0 \r\nL 794 0 \r\nL 794 531 \r\nz\r\n\" id=\"DejaVuSans-31\" transform=\"scale(0.015625)\"/>\r\n       </defs>\r\n       <use xlink:href=\"#DejaVuSans-31\"/>\r\n       <use x=\"63.623047\" xlink:href=\"#DejaVuSans-30\"/>\r\n      </g>\r\n     </g>\r\n    </g>\r\n    <g id=\"xtick_4\">\r\n     <g id=\"line2d_4\">\r\n      <g>\r\n       <use style=\"stroke:#000000;stroke-width:0.8;\" x=\"204.773571\" xlink:href=\"#m899aab8009\" y=\"239.758125\"/>\r\n      </g>\r\n     </g>\r\n     <g id=\"text_4\">\r\n      <!-- 15 -->\r\n      <g transform=\"translate(198.411071 254.356563)scale(0.1 -0.1)\">\r\n       <use xlink:href=\"#DejaVuSans-31\"/>\r\n       <use x=\"63.623047\" xlink:href=\"#DejaVuSans-35\"/>\r\n      </g>\r\n     </g>\r\n    </g>\r\n    <g id=\"xtick_5\">\r\n     <g id=\"line2d_5\">\r\n      <g>\r\n       <use style=\"stroke:#000000;stroke-width:0.8;\" x=\"243.602143\" xlink:href=\"#m899aab8009\" y=\"239.758125\"/>\r\n      </g>\r\n     </g>\r\n     <g id=\"text_5\">\r\n      <!-- 20 -->\r\n      <g transform=\"translate(237.239643 254.356563)scale(0.1 -0.1)\">\r\n       <defs>\r\n        <path d=\"M 1228 531 \r\nL 3431 531 \r\nL 3431 0 \r\nL 469 0 \r\nL 469 531 \r\nQ 828 903 1448 1529 \r\nQ 2069 2156 2228 2338 \r\nQ 2531 2678 2651 2914 \r\nQ 2772 3150 2772 3378 \r\nQ 2772 3750 2511 3984 \r\nQ 2250 4219 1831 4219 \r\nQ 1534 4219 1204 4116 \r\nQ 875 4013 500 3803 \r\nL 500 4441 \r\nQ 881 4594 1212 4672 \r\nQ 1544 4750 1819 4750 \r\nQ 2544 4750 2975 4387 \r\nQ 3406 4025 3406 3419 \r\nQ 3406 3131 3298 2873 \r\nQ 3191 2616 2906 2266 \r\nQ 2828 2175 2409 1742 \r\nQ 1991 1309 1228 531 \r\nz\r\n\" id=\"DejaVuSans-32\" transform=\"scale(0.015625)\"/>\r\n       </defs>\r\n       <use xlink:href=\"#DejaVuSans-32\"/>\r\n       <use x=\"63.623047\" xlink:href=\"#DejaVuSans-30\"/>\r\n      </g>\r\n     </g>\r\n    </g>\r\n    <g id=\"xtick_6\">\r\n     <g id=\"line2d_6\">\r\n      <g>\r\n       <use style=\"stroke:#000000;stroke-width:0.8;\" x=\"282.430714\" xlink:href=\"#m899aab8009\" y=\"239.758125\"/>\r\n      </g>\r\n     </g>\r\n     <g id=\"text_6\">\r\n      <!-- 25 -->\r\n      <g transform=\"translate(276.068214 254.356563)scale(0.1 -0.1)\">\r\n       <use xlink:href=\"#DejaVuSans-32\"/>\r\n       <use x=\"63.623047\" xlink:href=\"#DejaVuSans-35\"/>\r\n      </g>\r\n     </g>\r\n    </g>\r\n   </g>\r\n   <g id=\"matplotlib.axis_2\">\r\n    <g id=\"ytick_1\">\r\n     <g id=\"line2d_7\">\r\n      <defs>\r\n       <path d=\"M 0 0 \r\nL -3.5 0 \r\n\" id=\"mdabf5464bb\" style=\"stroke:#000000;stroke-width:0.8;\"/>\r\n      </defs>\r\n      <g>\r\n       <use style=\"stroke:#000000;stroke-width:0.8;\" x=\"84.405\" xlink:href=\"#mdabf5464bb\" y=\"26.200982\"/>\r\n      </g>\r\n     </g>\r\n     <g id=\"text_7\">\r\n      <!-- 0 -->\r\n      <g transform=\"translate(71.0425 30.000201)scale(0.1 -0.1)\">\r\n       <use xlink:href=\"#DejaVuSans-30\"/>\r\n      </g>\r\n     </g>\r\n    </g>\r\n    <g id=\"ytick_2\">\r\n     <g id=\"line2d_8\">\r\n      <g>\r\n       <use style=\"stroke:#000000;stroke-width:0.8;\" x=\"84.405\" xlink:href=\"#mdabf5464bb\" y=\"65.029554\"/>\r\n      </g>\r\n     </g>\r\n     <g id=\"text_8\">\r\n      <!-- 5 -->\r\n      <g transform=\"translate(71.0425 68.828772)scale(0.1 -0.1)\">\r\n       <use xlink:href=\"#DejaVuSans-35\"/>\r\n      </g>\r\n     </g>\r\n    </g>\r\n    <g id=\"ytick_3\">\r\n     <g id=\"line2d_9\">\r\n      <g>\r\n       <use style=\"stroke:#000000;stroke-width:0.8;\" x=\"84.405\" xlink:href=\"#mdabf5464bb\" y=\"103.858125\"/>\r\n      </g>\r\n     </g>\r\n     <g id=\"text_9\">\r\n      <!-- 10 -->\r\n      <g transform=\"translate(64.68 107.657344)scale(0.1 -0.1)\">\r\n       <use xlink:href=\"#DejaVuSans-31\"/>\r\n       <use x=\"63.623047\" xlink:href=\"#DejaVuSans-30\"/>\r\n      </g>\r\n     </g>\r\n    </g>\r\n    <g id=\"ytick_4\">\r\n     <g id=\"line2d_10\">\r\n      <g>\r\n       <use style=\"stroke:#000000;stroke-width:0.8;\" x=\"84.405\" xlink:href=\"#mdabf5464bb\" y=\"142.686696\"/>\r\n      </g>\r\n     </g>\r\n     <g id=\"text_10\">\r\n      <!-- 15 -->\r\n      <g transform=\"translate(64.68 146.485915)scale(0.1 -0.1)\">\r\n       <use xlink:href=\"#DejaVuSans-31\"/>\r\n       <use x=\"63.623047\" xlink:href=\"#DejaVuSans-35\"/>\r\n      </g>\r\n     </g>\r\n    </g>\r\n    <g id=\"ytick_5\">\r\n     <g id=\"line2d_11\">\r\n      <g>\r\n       <use style=\"stroke:#000000;stroke-width:0.8;\" x=\"84.405\" xlink:href=\"#mdabf5464bb\" y=\"181.515268\"/>\r\n      </g>\r\n     </g>\r\n     <g id=\"text_11\">\r\n      <!-- 20 -->\r\n      <g transform=\"translate(64.68 185.314487)scale(0.1 -0.1)\">\r\n       <use xlink:href=\"#DejaVuSans-32\"/>\r\n       <use x=\"63.623047\" xlink:href=\"#DejaVuSans-30\"/>\r\n      </g>\r\n     </g>\r\n    </g>\r\n    <g id=\"ytick_6\">\r\n     <g id=\"line2d_12\">\r\n      <g>\r\n       <use style=\"stroke:#000000;stroke-width:0.8;\" x=\"84.405\" xlink:href=\"#mdabf5464bb\" y=\"220.343839\"/>\r\n      </g>\r\n     </g>\r\n     <g id=\"text_12\">\r\n      <!-- 25 -->\r\n      <g transform=\"translate(64.68 224.143058)scale(0.1 -0.1)\">\r\n       <use xlink:href=\"#DejaVuSans-32\"/>\r\n       <use x=\"63.623047\" xlink:href=\"#DejaVuSans-35\"/>\r\n      </g>\r\n     </g>\r\n    </g>\r\n   </g>\r\n   <g id=\"patch_3\">\r\n    <path d=\"M 84.405 239.758125 \r\nL 84.405 22.318125 \r\n\" style=\"fill:none;stroke:#000000;stroke-linecap:square;stroke-linejoin:miter;stroke-width:0.8;\"/>\r\n   </g>\r\n   <g id=\"patch_4\">\r\n    <path d=\"M 301.845 239.758125 \r\nL 301.845 22.318125 \r\n\" style=\"fill:none;stroke:#000000;stroke-linecap:square;stroke-linejoin:miter;stroke-width:0.8;\"/>\r\n   </g>\r\n   <g id=\"patch_5\">\r\n    <path d=\"M 84.405 239.758125 \r\nL 301.845 239.758125 \r\n\" style=\"fill:none;stroke:#000000;stroke-linecap:square;stroke-linejoin:miter;stroke-width:0.8;\"/>\r\n   </g>\r\n   <g id=\"patch_6\">\r\n    <path d=\"M 84.405 22.318125 \r\nL 301.845 22.318125 \r\n\" style=\"fill:none;stroke:#000000;stroke-linecap:square;stroke-linejoin:miter;stroke-width:0.8;\"/>\r\n   </g>\r\n   <g id=\"text_13\">\r\n    <!-- [0. 1. 0. 0. 0. 0. 0. 0. 0. 0. 0. 0. 0. 0. 0. 0. 0. 0. 0. 0. 0. 0. 0. 0.] -->\r\n    <g transform=\"translate(7.2 16.318125)scale(0.12 -0.12)\">\r\n     <defs>\r\n      <path d=\"M 550 4863 \r\nL 1875 4863 \r\nL 1875 4416 \r\nL 1125 4416 \r\nL 1125 -397 \r\nL 1875 -397 \r\nL 1875 -844 \r\nL 550 -844 \r\nL 550 4863 \r\nz\r\n\" id=\"DejaVuSans-5b\" transform=\"scale(0.015625)\"/>\r\n      <path d=\"M 684 794 \r\nL 1344 794 \r\nL 1344 0 \r\nL 684 0 \r\nL 684 794 \r\nz\r\n\" id=\"DejaVuSans-2e\" transform=\"scale(0.015625)\"/>\r\n      <path id=\"DejaVuSans-20\" transform=\"scale(0.015625)\"/>\r\n      <path d=\"M 1947 4863 \r\nL 1947 -844 \r\nL 622 -844 \r\nL 622 -397 \r\nL 1369 -397 \r\nL 1369 4416 \r\nL 622 4416 \r\nL 622 4863 \r\nL 1947 4863 \r\nz\r\n\" id=\"DejaVuSans-5d\" transform=\"scale(0.015625)\"/>\r\n     </defs>\r\n     <use xlink:href=\"#DejaVuSans-5b\"/>\r\n     <use x=\"39.013672\" xlink:href=\"#DejaVuSans-30\"/>\r\n     <use x=\"102.636719\" xlink:href=\"#DejaVuSans-2e\"/>\r\n     <use x=\"134.423828\" xlink:href=\"#DejaVuSans-20\"/>\r\n     <use x=\"166.210938\" xlink:href=\"#DejaVuSans-31\"/>\r\n     <use x=\"229.833984\" xlink:href=\"#DejaVuSans-2e\"/>\r\n     <use x=\"261.621094\" xlink:href=\"#DejaVuSans-20\"/>\r\n     <use x=\"293.408203\" xlink:href=\"#DejaVuSans-30\"/>\r\n     <use x=\"357.03125\" xlink:href=\"#DejaVuSans-2e\"/>\r\n     <use x=\"388.818359\" xlink:href=\"#DejaVuSans-20\"/>\r\n     <use x=\"420.605469\" xlink:href=\"#DejaVuSans-30\"/>\r\n     <use x=\"484.228516\" xlink:href=\"#DejaVuSans-2e\"/>\r\n     <use x=\"516.015625\" xlink:href=\"#DejaVuSans-20\"/>\r\n     <use x=\"547.802734\" xlink:href=\"#DejaVuSans-30\"/>\r\n     <use x=\"611.425781\" xlink:href=\"#DejaVuSans-2e\"/>\r\n     <use x=\"643.212891\" xlink:href=\"#DejaVuSans-20\"/>\r\n     <use x=\"675\" xlink:href=\"#DejaVuSans-30\"/>\r\n     <use x=\"738.623047\" xlink:href=\"#DejaVuSans-2e\"/>\r\n     <use x=\"770.410156\" xlink:href=\"#DejaVuSans-20\"/>\r\n     <use x=\"802.197266\" xlink:href=\"#DejaVuSans-30\"/>\r\n     <use x=\"865.820312\" xlink:href=\"#DejaVuSans-2e\"/>\r\n     <use x=\"897.607422\" xlink:href=\"#DejaVuSans-20\"/>\r\n     <use x=\"929.394531\" xlink:href=\"#DejaVuSans-30\"/>\r\n     <use x=\"993.017578\" xlink:href=\"#DejaVuSans-2e\"/>\r\n     <use x=\"1024.804688\" xlink:href=\"#DejaVuSans-20\"/>\r\n     <use x=\"1056.591797\" xlink:href=\"#DejaVuSans-30\"/>\r\n     <use x=\"1120.214844\" xlink:href=\"#DejaVuSans-2e\"/>\r\n     <use x=\"1152.001953\" xlink:href=\"#DejaVuSans-20\"/>\r\n     <use x=\"1183.789062\" xlink:href=\"#DejaVuSans-30\"/>\r\n     <use x=\"1247.412109\" xlink:href=\"#DejaVuSans-2e\"/>\r\n     <use x=\"1279.199219\" xlink:href=\"#DejaVuSans-20\"/>\r\n     <use x=\"1310.986328\" xlink:href=\"#DejaVuSans-30\"/>\r\n     <use x=\"1374.609375\" xlink:href=\"#DejaVuSans-2e\"/>\r\n     <use x=\"1406.396484\" xlink:href=\"#DejaVuSans-20\"/>\r\n     <use x=\"1438.183594\" xlink:href=\"#DejaVuSans-30\"/>\r\n     <use x=\"1501.806641\" xlink:href=\"#DejaVuSans-2e\"/>\r\n     <use x=\"1533.59375\" xlink:href=\"#DejaVuSans-20\"/>\r\n     <use x=\"1565.380859\" xlink:href=\"#DejaVuSans-30\"/>\r\n     <use x=\"1629.003906\" xlink:href=\"#DejaVuSans-2e\"/>\r\n     <use x=\"1660.791016\" xlink:href=\"#DejaVuSans-20\"/>\r\n     <use x=\"1692.578125\" xlink:href=\"#DejaVuSans-30\"/>\r\n     <use x=\"1756.201172\" xlink:href=\"#DejaVuSans-2e\"/>\r\n     <use x=\"1787.988281\" xlink:href=\"#DejaVuSans-20\"/>\r\n     <use x=\"1819.775391\" xlink:href=\"#DejaVuSans-30\"/>\r\n     <use x=\"1883.398438\" xlink:href=\"#DejaVuSans-2e\"/>\r\n     <use x=\"1915.185547\" xlink:href=\"#DejaVuSans-20\"/>\r\n     <use x=\"1946.972656\" xlink:href=\"#DejaVuSans-30\"/>\r\n     <use x=\"2010.595703\" xlink:href=\"#DejaVuSans-2e\"/>\r\n     <use x=\"2042.382812\" xlink:href=\"#DejaVuSans-20\"/>\r\n     <use x=\"2074.169922\" xlink:href=\"#DejaVuSans-30\"/>\r\n     <use x=\"2137.792969\" xlink:href=\"#DejaVuSans-2e\"/>\r\n     <use x=\"2169.580078\" xlink:href=\"#DejaVuSans-20\"/>\r\n     <use x=\"2201.367188\" xlink:href=\"#DejaVuSans-30\"/>\r\n     <use x=\"2264.990234\" xlink:href=\"#DejaVuSans-2e\"/>\r\n     <use x=\"2296.777344\" xlink:href=\"#DejaVuSans-20\"/>\r\n     <use x=\"2328.564453\" xlink:href=\"#DejaVuSans-30\"/>\r\n     <use x=\"2392.1875\" xlink:href=\"#DejaVuSans-2e\"/>\r\n     <use x=\"2423.974609\" xlink:href=\"#DejaVuSans-20\"/>\r\n     <use x=\"2455.761719\" xlink:href=\"#DejaVuSans-30\"/>\r\n     <use x=\"2519.384766\" xlink:href=\"#DejaVuSans-2e\"/>\r\n     <use x=\"2551.171875\" xlink:href=\"#DejaVuSans-20\"/>\r\n     <use x=\"2582.958984\" xlink:href=\"#DejaVuSans-30\"/>\r\n     <use x=\"2646.582031\" xlink:href=\"#DejaVuSans-2e\"/>\r\n     <use x=\"2678.369141\" xlink:href=\"#DejaVuSans-20\"/>\r\n     <use x=\"2710.15625\" xlink:href=\"#DejaVuSans-30\"/>\r\n     <use x=\"2773.779297\" xlink:href=\"#DejaVuSans-2e\"/>\r\n     <use x=\"2805.566406\" xlink:href=\"#DejaVuSans-20\"/>\r\n     <use x=\"2837.353516\" xlink:href=\"#DejaVuSans-30\"/>\r\n     <use x=\"2900.976562\" xlink:href=\"#DejaVuSans-2e\"/>\r\n     <use x=\"2932.763672\" xlink:href=\"#DejaVuSans-20\"/>\r\n     <use x=\"2964.550781\" xlink:href=\"#DejaVuSans-30\"/>\r\n     <use x=\"3028.173828\" xlink:href=\"#DejaVuSans-2e\"/>\r\n     <use x=\"3059.960938\" xlink:href=\"#DejaVuSans-5d\"/>\r\n    </g>\r\n   </g>\r\n  </g>\r\n </g>\r\n <defs>\r\n  <clipPath id=\"p4876d71512\">\r\n   <rect height=\"217.44\" width=\"217.44\" x=\"84.405\" y=\"22.318125\"/>\r\n  </clipPath>\r\n </defs>\r\n</svg>\r\n",
            "image/png": "[encoded data removed]"
          },
          "metadata": {
            "needs_background": "light"
          }
        }
      ]
    },
    {
      "cell_type": "markdown",
      "metadata": {
        "id": "be8i2xdA5eu4"
      },
      "source": [
        "# 네트워크 구성"
      ]
    },
    {
      "cell_type": "code",
      "metadata": {
        "colab": {
          "base_uri": "https://localhost:8080/"
        },
        "id": "xZ231JHHymZm",
        "outputId": "69fe3616-6c70-4663-cdc4-7d9fb1932cb6"
      },
      "source": [
        "input = Input(shape=(28, 28, 1))\n",
        "\n",
        "hidden = Conv2D(filters=32, kernel_size=3, strides=1, padding='same', activation='relu')(input)\n",
        "hidden = MaxPooling2D(pool_size=2, strides=2)(hidden)\n",
        "\n",
        "hidden = Conv2D(filters=64, kernel_size=3, strides=1, padding='same', activation='relu')(hidden)\n",
        "hidden = MaxPooling2D(pool_size=2, strides=2)(hidden)\n",
        "\n",
        "hidden = Conv2D(filters=32, kernel_size=3, strides=1, padding='same', activation='relu')(hidden)\n",
        "hidden = MaxPooling2D(pool_size=2, strides=2)(hidden)\n",
        "\n",
        "hidden = Flatten()(hidden)\n",
        "\n",
        "hidden = Dense(512, activation='relu')(hidden)\n",
        "\n",
        "hidden = Dropout(rate=0.3)(hidden)\n",
        "\n",
        "output = Dense(24, activation='softmax')(hidden)\n",
        "\n",
        "model = Model(inputs=input, outputs=output)\n",
        "\n",
        "model.compile(loss='categorical_crossentropy', optimizer=Adam(lr=0.001), metrics=['acc'])\n",
        "\n",
        "model.summary()"
      ],
      "execution_count": 29,
      "outputs": [
        {
          "output_type": "stream",
          "name": "stdout",
          "text": [
            "Model: \"model\"\n",
            "_________________________________________________________________\n",
            "Layer (type)                 Output Shape              Param #   \n",
            "=================================================================\n",
            "input_1 (InputLayer)         [(None, 28, 28, 1)]       0         \n",
            "_________________________________________________________________\n",
            "conv2d (Conv2D)              (None, 28, 28, 32)        320       \n",
            "_________________________________________________________________\n",
            "max_pooling2d (MaxPooling2D) (None, 14, 14, 32)        0         \n",
            "_________________________________________________________________\n",
            "conv2d_1 (Conv2D)            (None, 14, 14, 64)        18496     \n",
            "_________________________________________________________________\n",
            "max_pooling2d_1 (MaxPooling2 (None, 7, 7, 64)          0         \n",
            "_________________________________________________________________\n",
            "conv2d_2 (Conv2D)            (None, 7, 7, 32)          18464     \n",
            "_________________________________________________________________\n",
            "max_pooling2d_2 (MaxPooling2 (None, 3, 3, 32)          0         \n",
            "_________________________________________________________________\n",
            "flatten (Flatten)            (None, 288)               0         \n",
            "_________________________________________________________________\n",
            "dense (Dense)                (None, 512)               147968    \n",
            "_________________________________________________________________\n",
            "dropout (Dropout)            (None, 512)               0         \n",
            "_________________________________________________________________\n",
            "dense_1 (Dense)              (None, 24)                12312     \n",
            "=================================================================\n",
            "Total params: 197,560\n",
            "Trainable params: 197,560\n",
            "Non-trainable params: 0\n",
            "_________________________________________________________________\n",
            "C:\\Users\\User\\AppData\\Local\\Programs\\Python\\Python39\\lib\\site-packages\\tensorflow\\python\\keras\\optimizer_v2\\optimizer_v2.py:374: UserWarning: The `lr` argument is deprecated, use `learning_rate` instead.\n",
            "  warnings.warn(\n"
          ]
        }
      ]
    },
    {
      "cell_type": "markdown",
      "metadata": {
        "id": "G2L6s6kH5gZm"
      },
      "source": [
        "# 학습"
      ]
    },
    {
      "cell_type": "code",
      "metadata": {
        "colab": {
          "base_uri": "https://localhost:8080/"
        },
        "id": "rmbApUVq2Xeg",
        "outputId": "f5d38acb-5251-4d61-e535-73470ab58d7b"
      },
      "source": [
        "history = model.fit(\n",
        "    train_datagen,\n",
        "    validation_data=test_datagen, # 검증 데이터를 넣어주면 한 epoch이 끝날때마다 자동으로 검증\n",
        "    epochs=20 # epochs 복수형으로 쓰기!\n",
        ")"
      ],
      "execution_count": 30,
      "outputs": [
        {
          "output_type": "stream",
          "name": "stdout",
          "text": [
            "Epoch 1/20\n",
            "108/108 [==============================] - 30s 267ms/step - loss: 2.1390 - acc: 0.3572 - val_loss: 0.8776 - val_acc: 0.7188\n",
            "Epoch 2/20\n",
            "108/108 [==============================] - 28s 259ms/step - loss: 0.4994 - acc: 0.8368 - val_loss: 0.3452 - val_acc: 0.8862\n",
            "Epoch 3/20\n",
            "108/108 [==============================] - 29s 266ms/step - loss: 0.1797 - acc: 0.9447 - val_loss: 0.2106 - val_acc: 0.9267\n",
            "Epoch 4/20\n",
            "108/108 [==============================] - 29s 264ms/step - loss: 0.0778 - acc: 0.9789 - val_loss: 0.1726 - val_acc: 0.9453\n",
            "Epoch 5/20\n",
            "108/108 [==============================] - 27s 247ms/step - loss: 0.0392 - acc: 0.9902 - val_loss: 0.1466 - val_acc: 0.9597\n",
            "Epoch 6/20\n",
            "108/108 [==============================] - 24s 224ms/step - loss: 0.0209 - acc: 0.9962 - val_loss: 0.1596 - val_acc: 0.9565\n",
            "Epoch 7/20\n",
            "108/108 [==============================] - 25s 227ms/step - loss: 0.0152 - acc: 0.9965 - val_loss: 0.1391 - val_acc: 0.9582\n",
            "Epoch 8/20\n",
            "108/108 [==============================] - 23s 211ms/step - loss: 0.0110 - acc: 0.9977 - val_loss: 0.1418 - val_acc: 0.9605\n",
            "Epoch 9/20\n",
            "108/108 [==============================] - 32s 298ms/step - loss: 0.0088 - acc: 0.9988 - val_loss: 0.1550 - val_acc: 0.9629\n",
            "Epoch 10/20\n",
            "108/108 [==============================] - 28s 258ms/step - loss: 0.0070 - acc: 0.9987 - val_loss: 0.1600 - val_acc: 0.9573\n",
            "Epoch 11/20\n",
            "108/108 [==============================] - 28s 258ms/step - loss: 0.0066 - acc: 0.9985 - val_loss: 0.1633 - val_acc: 0.9612\n",
            "Epoch 12/20\n",
            "108/108 [==============================] - 26s 242ms/step - loss: 0.0058 - acc: 0.9988 - val_loss: 0.1516 - val_acc: 0.9552\n",
            "Epoch 13/20\n",
            "108/108 [==============================] - 27s 250ms/step - loss: 0.0052 - acc: 0.9988 - val_loss: 0.1408 - val_acc: 0.9654\n",
            "Epoch 14/20\n",
            "108/108 [==============================] - 27s 249ms/step - loss: 0.0042 - acc: 0.9991 - val_loss: 0.1412 - val_acc: 0.9587\n",
            "Epoch 15/20\n",
            "108/108 [==============================] - 27s 248ms/step - loss: 0.0058 - acc: 0.9986 - val_loss: 0.1421 - val_acc: 0.9603\n",
            "Epoch 16/20\n",
            "108/108 [==============================] - 26s 236ms/step - loss: 0.0069 - acc: 0.9980 - val_loss: 0.1173 - val_acc: 0.9658\n",
            "Epoch 17/20\n",
            "108/108 [==============================] - 26s 245ms/step - loss: 0.0051 - acc: 0.9987 - val_loss: 0.1559 - val_acc: 0.9583\n",
            "Epoch 18/20\n",
            "108/108 [==============================] - 23s 215ms/step - loss: 0.0027 - acc: 0.9995 - val_loss: 0.1494 - val_acc: 0.9656\n",
            "Epoch 19/20\n",
            "108/108 [==============================] - 24s 226ms/step - loss: 0.0023 - acc: 0.9995 - val_loss: 0.1207 - val_acc: 0.9702\n",
            "Epoch 20/20\n",
            "108/108 [==============================] - 24s 224ms/step - loss: 0.0014 - acc: 0.9998 - val_loss: 0.1597 - val_acc: 0.9661\n"
          ]
        }
      ]
    },
    {
      "cell_type": "markdown",
      "metadata": {
        "id": "OioKPhfV64lE"
      },
      "source": [
        "# 학습 결과 그래프"
      ]
    },
    {
      "cell_type": "code",
      "metadata": {
        "colab": {
          "base_uri": "https://localhost:8080/",
          "height": 301
        },
        "id": "HVo1lZGQ0nkE",
        "outputId": "987b84f0-4a1e-4bb6-bb8f-b68453db33c8"
      },
      "source": [
        "fig, axes = plt.subplots(1, 2, figsize=(20, 6))\n",
        "axes[0].plot(history.history['loss'])\n",
        "axes[0].plot(history.history['val_loss'])\n",
        "axes[1].plot(history.history['acc'])\n",
        "axes[1].plot(history.history['val_acc'])"
      ],
      "execution_count": 31,
      "outputs": [
        {
          "output_type": "execute_result",
          "data": {
            "text/plain": [
              "[<matplotlib.lines.Line2D at 0x1f19ae24130>]"
            ]
          },
          "metadata": {},
          "execution_count": 31
        },
        {
          "output_type": "display_data",
          "data": {
            "text/plain": "<Figure size 1440x432 with 2 Axes>",
            "image/svg+xml": "<?xml version=\"1.0\" encoding=\"utf-8\" standalone=\"no\"?>\r\n<!DOCTYPE svg PUBLIC \"-//W3C//DTD SVG 1.1//EN\"\r\n  \"http://www.w3.org/Graphics/SVG/1.1/DTD/svg11.dtd\">\r\n<svg height=\"357.238125pt\" version=\"1.1\" viewBox=\"0 0 1153.303125 357.238125\" width=\"1153.303125pt\" xmlns=\"http://www.w3.org/2000/svg\" xmlns:xlink=\"http://www.w3.org/1999/xlink\">\r\n <metadata>\r\n  <rdf:RDF xmlns:cc=\"http://creativecommons.org/ns#\" xmlns:dc=\"http://purl.org/dc/elements/1.1/\" xmlns:rdf=\"http://www.w3.org/1999/02/22-rdf-syntax-ns#\">\r\n   <cc:Work>\r\n    <dc:type rdf:resource=\"http://purl.org/dc/dcmitype/StillImage\"/>\r\n    <dc:date>2021-07-30T11:26:31.535924</dc:date>\r\n    <dc:format>image/svg+xml</dc:format>\r\n    <dc:creator>\r\n     <cc:Agent>\r\n      <dc:title>Matplotlib v3.4.2, https://matplotlib.org/</dc:title>\r\n     </cc:Agent>\r\n    </dc:creator>\r\n   </cc:Work>\r\n  </rdf:RDF>\r\n </metadata>\r\n <defs>\r\n  <style type=\"text/css\">*{stroke-linecap:butt;stroke-linejoin:round;}</style>\r\n </defs>\r\n <g id=\"figure_1\">\r\n  <g id=\"patch_1\">\r\n   <path d=\"M 0 357.238125 \r\nL 1153.303125 357.238125 \r\nL 1153.303125 0 \r\nL 0 0 \r\nz\r\n\" style=\"fill:none;\"/>\r\n  </g>\r\n  <g id=\"axes_1\">\r\n   <g id=\"patch_2\">\r\n    <path d=\"M 30.103125 333.36 \r\nL 537.375852 333.36 \r\nL 537.375852 7.2 \r\nL 30.103125 7.2 \r\nz\r\n\" style=\"fill:#ffffff;\"/>\r\n   </g>\r\n   <g id=\"matplotlib.axis_1\">\r\n    <g id=\"xtick_1\">\r\n     <g id=\"line2d_1\">\r\n      <defs>\r\n       <path d=\"M 0 0 \r\nL 0 3.5 \r\n\" id=\"m812440495a\" style=\"stroke:#000000;stroke-width:0.8;\"/>\r\n      </defs>\r\n      <g>\r\n       <use style=\"stroke:#000000;stroke-width:0.8;\" x=\"53.160976\" xlink:href=\"#m812440495a\" y=\"333.36\"/>\r\n      </g>\r\n     </g>\r\n     <g id=\"text_1\">\r\n      <!-- 0.0 -->\r\n      <g transform=\"translate(45.209414 347.958438)scale(0.1 -0.1)\">\r\n       <defs>\r\n        <path d=\"M 2034 4250 \r\nQ 1547 4250 1301 3770 \r\nQ 1056 3291 1056 2328 \r\nQ 1056 1369 1301 889 \r\nQ 1547 409 2034 409 \r\nQ 2525 409 2770 889 \r\nQ 3016 1369 3016 2328 \r\nQ 3016 3291 2770 3770 \r\nQ 2525 4250 2034 4250 \r\nz\r\nM 2034 4750 \r\nQ 2819 4750 3233 4129 \r\nQ 3647 3509 3647 2328 \r\nQ 3647 1150 3233 529 \r\nQ 2819 -91 2034 -91 \r\nQ 1250 -91 836 529 \r\nQ 422 1150 422 2328 \r\nQ 422 3509 836 4129 \r\nQ 1250 4750 2034 4750 \r\nz\r\n\" id=\"DejaVuSans-30\" transform=\"scale(0.015625)\"/>\r\n        <path d=\"M 684 794 \r\nL 1344 794 \r\nL 1344 0 \r\nL 684 0 \r\nL 684 794 \r\nz\r\n\" id=\"DejaVuSans-2e\" transform=\"scale(0.015625)\"/>\r\n       </defs>\r\n       <use xlink:href=\"#DejaVuSans-30\"/>\r\n       <use x=\"63.623047\" xlink:href=\"#DejaVuSans-2e\"/>\r\n       <use x=\"95.410156\" xlink:href=\"#DejaVuSans-30\"/>\r\n      </g>\r\n     </g>\r\n    </g>\r\n    <g id=\"xtick_2\">\r\n     <g id=\"line2d_2\">\r\n      <g>\r\n       <use style=\"stroke:#000000;stroke-width:0.8;\" x=\"113.839532\" xlink:href=\"#m812440495a\" y=\"333.36\"/>\r\n      </g>\r\n     </g>\r\n     <g id=\"text_2\">\r\n      <!-- 2.5 -->\r\n      <g transform=\"translate(105.88797 347.958438)scale(0.1 -0.1)\">\r\n       <defs>\r\n        <path d=\"M 1228 531 \r\nL 3431 531 \r\nL 3431 0 \r\nL 469 0 \r\nL 469 531 \r\nQ 828 903 1448 1529 \r\nQ 2069 2156 2228 2338 \r\nQ 2531 2678 2651 2914 \r\nQ 2772 3150 2772 3378 \r\nQ 2772 3750 2511 3984 \r\nQ 2250 4219 1831 4219 \r\nQ 1534 4219 1204 4116 \r\nQ 875 4013 500 3803 \r\nL 500 4441 \r\nQ 881 4594 1212 4672 \r\nQ 1544 4750 1819 4750 \r\nQ 2544 4750 2975 4387 \r\nQ 3406 4025 3406 3419 \r\nQ 3406 3131 3298 2873 \r\nQ 3191 2616 2906 2266 \r\nQ 2828 2175 2409 1742 \r\nQ 1991 1309 1228 531 \r\nz\r\n\" id=\"DejaVuSans-32\" transform=\"scale(0.015625)\"/>\r\n        <path d=\"M 691 4666 \r\nL 3169 4666 \r\nL 3169 4134 \r\nL 1269 4134 \r\nL 1269 2991 \r\nQ 1406 3038 1543 3061 \r\nQ 1681 3084 1819 3084 \r\nQ 2600 3084 3056 2656 \r\nQ 3513 2228 3513 1497 \r\nQ 3513 744 3044 326 \r\nQ 2575 -91 1722 -91 \r\nQ 1428 -91 1123 -41 \r\nQ 819 9 494 109 \r\nL 494 744 \r\nQ 775 591 1075 516 \r\nQ 1375 441 1709 441 \r\nQ 2250 441 2565 725 \r\nQ 2881 1009 2881 1497 \r\nQ 2881 1984 2565 2268 \r\nQ 2250 2553 1709 2553 \r\nQ 1456 2553 1204 2497 \r\nQ 953 2441 691 2322 \r\nL 691 4666 \r\nz\r\n\" id=\"DejaVuSans-35\" transform=\"scale(0.015625)\"/>\r\n       </defs>\r\n       <use xlink:href=\"#DejaVuSans-32\"/>\r\n       <use x=\"63.623047\" xlink:href=\"#DejaVuSans-2e\"/>\r\n       <use x=\"95.410156\" xlink:href=\"#DejaVuSans-35\"/>\r\n      </g>\r\n     </g>\r\n    </g>\r\n    <g id=\"xtick_3\">\r\n     <g id=\"line2d_3\">\r\n      <g>\r\n       <use style=\"stroke:#000000;stroke-width:0.8;\" x=\"174.518088\" xlink:href=\"#m812440495a\" y=\"333.36\"/>\r\n      </g>\r\n     </g>\r\n     <g id=\"text_3\">\r\n      <!-- 5.0 -->\r\n      <g transform=\"translate(166.566526 347.958438)scale(0.1 -0.1)\">\r\n       <use xlink:href=\"#DejaVuSans-35\"/>\r\n       <use x=\"63.623047\" xlink:href=\"#DejaVuSans-2e\"/>\r\n       <use x=\"95.410156\" xlink:href=\"#DejaVuSans-30\"/>\r\n      </g>\r\n     </g>\r\n    </g>\r\n    <g id=\"xtick_4\">\r\n     <g id=\"line2d_4\">\r\n      <g>\r\n       <use style=\"stroke:#000000;stroke-width:0.8;\" x=\"235.196644\" xlink:href=\"#m812440495a\" y=\"333.36\"/>\r\n      </g>\r\n     </g>\r\n     <g id=\"text_4\">\r\n      <!-- 7.5 -->\r\n      <g transform=\"translate(227.245081 347.958438)scale(0.1 -0.1)\">\r\n       <defs>\r\n        <path d=\"M 525 4666 \r\nL 3525 4666 \r\nL 3525 4397 \r\nL 1831 0 \r\nL 1172 0 \r\nL 2766 4134 \r\nL 525 4134 \r\nL 525 4666 \r\nz\r\n\" id=\"DejaVuSans-37\" transform=\"scale(0.015625)\"/>\r\n       </defs>\r\n       <use xlink:href=\"#DejaVuSans-37\"/>\r\n       <use x=\"63.623047\" xlink:href=\"#DejaVuSans-2e\"/>\r\n       <use x=\"95.410156\" xlink:href=\"#DejaVuSans-35\"/>\r\n      </g>\r\n     </g>\r\n    </g>\r\n    <g id=\"xtick_5\">\r\n     <g id=\"line2d_5\">\r\n      <g>\r\n       <use style=\"stroke:#000000;stroke-width:0.8;\" x=\"295.8752\" xlink:href=\"#m812440495a\" y=\"333.36\"/>\r\n      </g>\r\n     </g>\r\n     <g id=\"text_5\">\r\n      <!-- 10.0 -->\r\n      <g transform=\"translate(284.742387 347.958438)scale(0.1 -0.1)\">\r\n       <defs>\r\n        <path d=\"M 794 531 \r\nL 1825 531 \r\nL 1825 4091 \r\nL 703 3866 \r\nL 703 4441 \r\nL 1819 4666 \r\nL 2450 4666 \r\nL 2450 531 \r\nL 3481 531 \r\nL 3481 0 \r\nL 794 0 \r\nL 794 531 \r\nz\r\n\" id=\"DejaVuSans-31\" transform=\"scale(0.015625)\"/>\r\n       </defs>\r\n       <use xlink:href=\"#DejaVuSans-31\"/>\r\n       <use x=\"63.623047\" xlink:href=\"#DejaVuSans-30\"/>\r\n       <use x=\"127.246094\" xlink:href=\"#DejaVuSans-2e\"/>\r\n       <use x=\"159.033203\" xlink:href=\"#DejaVuSans-30\"/>\r\n      </g>\r\n     </g>\r\n    </g>\r\n    <g id=\"xtick_6\">\r\n     <g id=\"line2d_6\">\r\n      <g>\r\n       <use style=\"stroke:#000000;stroke-width:0.8;\" x=\"356.553756\" xlink:href=\"#m812440495a\" y=\"333.36\"/>\r\n      </g>\r\n     </g>\r\n     <g id=\"text_6\">\r\n      <!-- 12.5 -->\r\n      <g transform=\"translate(345.420943 347.958438)scale(0.1 -0.1)\">\r\n       <use xlink:href=\"#DejaVuSans-31\"/>\r\n       <use x=\"63.623047\" xlink:href=\"#DejaVuSans-32\"/>\r\n       <use x=\"127.246094\" xlink:href=\"#DejaVuSans-2e\"/>\r\n       <use x=\"159.033203\" xlink:href=\"#DejaVuSans-35\"/>\r\n      </g>\r\n     </g>\r\n    </g>\r\n    <g id=\"xtick_7\">\r\n     <g id=\"line2d_7\">\r\n      <g>\r\n       <use style=\"stroke:#000000;stroke-width:0.8;\" x=\"417.232312\" xlink:href=\"#m812440495a\" y=\"333.36\"/>\r\n      </g>\r\n     </g>\r\n     <g id=\"text_7\">\r\n      <!-- 15.0 -->\r\n      <g transform=\"translate(406.099499 347.958438)scale(0.1 -0.1)\">\r\n       <use xlink:href=\"#DejaVuSans-31\"/>\r\n       <use x=\"63.623047\" xlink:href=\"#DejaVuSans-35\"/>\r\n       <use x=\"127.246094\" xlink:href=\"#DejaVuSans-2e\"/>\r\n       <use x=\"159.033203\" xlink:href=\"#DejaVuSans-30\"/>\r\n      </g>\r\n     </g>\r\n    </g>\r\n    <g id=\"xtick_8\">\r\n     <g id=\"line2d_8\">\r\n      <g>\r\n       <use style=\"stroke:#000000;stroke-width:0.8;\" x=\"477.910867\" xlink:href=\"#m812440495a\" y=\"333.36\"/>\r\n      </g>\r\n     </g>\r\n     <g id=\"text_8\">\r\n      <!-- 17.5 -->\r\n      <g transform=\"translate(466.778055 347.958438)scale(0.1 -0.1)\">\r\n       <use xlink:href=\"#DejaVuSans-31\"/>\r\n       <use x=\"63.623047\" xlink:href=\"#DejaVuSans-37\"/>\r\n       <use x=\"127.246094\" xlink:href=\"#DejaVuSans-2e\"/>\r\n       <use x=\"159.033203\" xlink:href=\"#DejaVuSans-35\"/>\r\n      </g>\r\n     </g>\r\n    </g>\r\n   </g>\r\n   <g id=\"matplotlib.axis_2\">\r\n    <g id=\"ytick_1\">\r\n     <g id=\"line2d_9\">\r\n      <defs>\r\n       <path d=\"M 0 0 \r\nL -3.5 0 \r\n\" id=\"m5bcd4a0a9a\" style=\"stroke:#000000;stroke-width:0.8;\"/>\r\n      </defs>\r\n      <g>\r\n       <use style=\"stroke:#000000;stroke-width:0.8;\" x=\"30.103125\" xlink:href=\"#m5bcd4a0a9a\" y=\"318.734192\"/>\r\n      </g>\r\n     </g>\r\n     <g id=\"text_9\">\r\n      <!-- 0.0 -->\r\n      <g transform=\"translate(7.2 322.533411)scale(0.1 -0.1)\">\r\n       <use xlink:href=\"#DejaVuSans-30\"/>\r\n       <use x=\"63.623047\" xlink:href=\"#DejaVuSans-2e\"/>\r\n       <use x=\"95.410156\" xlink:href=\"#DejaVuSans-30\"/>\r\n      </g>\r\n     </g>\r\n    </g>\r\n    <g id=\"ytick_2\">\r\n     <g id=\"line2d_10\">\r\n      <g>\r\n       <use style=\"stroke:#000000;stroke-width:0.8;\" x=\"30.103125\" xlink:href=\"#m5bcd4a0a9a\" y=\"249.377356\"/>\r\n      </g>\r\n     </g>\r\n     <g id=\"text_10\">\r\n      <!-- 0.5 -->\r\n      <g transform=\"translate(7.2 253.176574)scale(0.1 -0.1)\">\r\n       <use xlink:href=\"#DejaVuSans-30\"/>\r\n       <use x=\"63.623047\" xlink:href=\"#DejaVuSans-2e\"/>\r\n       <use x=\"95.410156\" xlink:href=\"#DejaVuSans-35\"/>\r\n      </g>\r\n     </g>\r\n    </g>\r\n    <g id=\"ytick_3\">\r\n     <g id=\"line2d_11\">\r\n      <g>\r\n       <use style=\"stroke:#000000;stroke-width:0.8;\" x=\"30.103125\" xlink:href=\"#m5bcd4a0a9a\" y=\"180.020519\"/>\r\n      </g>\r\n     </g>\r\n     <g id=\"text_11\">\r\n      <!-- 1.0 -->\r\n      <g transform=\"translate(7.2 183.819738)scale(0.1 -0.1)\">\r\n       <use xlink:href=\"#DejaVuSans-31\"/>\r\n       <use x=\"63.623047\" xlink:href=\"#DejaVuSans-2e\"/>\r\n       <use x=\"95.410156\" xlink:href=\"#DejaVuSans-30\"/>\r\n      </g>\r\n     </g>\r\n    </g>\r\n    <g id=\"ytick_4\">\r\n     <g id=\"line2d_12\">\r\n      <g>\r\n       <use style=\"stroke:#000000;stroke-width:0.8;\" x=\"30.103125\" xlink:href=\"#m5bcd4a0a9a\" y=\"110.663682\"/>\r\n      </g>\r\n     </g>\r\n     <g id=\"text_12\">\r\n      <!-- 1.5 -->\r\n      <g transform=\"translate(7.2 114.462901)scale(0.1 -0.1)\">\r\n       <use xlink:href=\"#DejaVuSans-31\"/>\r\n       <use x=\"63.623047\" xlink:href=\"#DejaVuSans-2e\"/>\r\n       <use x=\"95.410156\" xlink:href=\"#DejaVuSans-35\"/>\r\n      </g>\r\n     </g>\r\n    </g>\r\n    <g id=\"ytick_5\">\r\n     <g id=\"line2d_13\">\r\n      <g>\r\n       <use style=\"stroke:#000000;stroke-width:0.8;\" x=\"30.103125\" xlink:href=\"#m5bcd4a0a9a\" y=\"41.306845\"/>\r\n      </g>\r\n     </g>\r\n     <g id=\"text_13\">\r\n      <!-- 2.0 -->\r\n      <g transform=\"translate(7.2 45.106064)scale(0.1 -0.1)\">\r\n       <use xlink:href=\"#DejaVuSans-32\"/>\r\n       <use x=\"63.623047\" xlink:href=\"#DejaVuSans-2e\"/>\r\n       <use x=\"95.410156\" xlink:href=\"#DejaVuSans-30\"/>\r\n      </g>\r\n     </g>\r\n    </g>\r\n   </g>\r\n   <g id=\"line2d_14\">\r\n    <path clip-path=\"url(#p4d39bc06a6)\" d=\"M 53.160976 22.025455 \r\nL 77.432399 249.465364 \r\nL 101.703821 293.813627 \r\nL 125.975243 307.945441 \r\nL 150.246666 313.291123 \r\nL 174.518088 315.833948 \r\nL 198.78951 316.62391 \r\nL 223.060933 317.201675 \r\nL 247.332355 317.514193 \r\nL 271.603777 317.759315 \r\nL 295.8752 317.823446 \r\nL 320.146622 317.93179 \r\nL 344.418045 318.012923 \r\nL 368.689467 318.147899 \r\nL 392.960889 317.925936 \r\nL 417.232312 317.77436 \r\nL 441.503734 318.033453 \r\nL 465.775156 318.359131 \r\nL 490.046579 318.420496 \r\nL 514.318001 318.534545 \r\n\" style=\"fill:none;stroke:#1f77b4;stroke-linecap:square;stroke-width:1.5;\"/>\r\n   </g>\r\n   <g id=\"line2d_15\">\r\n    <path clip-path=\"url(#p4d39bc06a6)\" d=\"M 53.160976 196.996574 \r\nL 77.432399 270.852667 \r\nL 101.703821 289.526132 \r\nL 125.975243 294.789827 \r\nL 150.246666 298.404387 \r\nL 174.518088 296.590448 \r\nL 198.78951 299.437895 \r\nL 223.060933 299.063744 \r\nL 247.332355 297.234739 \r\nL 271.603777 296.533575 \r\nL 295.8752 296.088474 \r\nL 320.146622 297.706882 \r\nL 344.418045 299.203049 \r\nL 368.689467 299.148817 \r\nL 392.960889 299.025504 \r\nL 417.232312 302.464328 \r\nL 441.503734 297.110413 \r\nL 465.775156 298.010875 \r\nL 490.046579 301.99561 \r\nL 514.318001 296.587228 \r\n\" style=\"fill:none;stroke:#ff7f0e;stroke-linecap:square;stroke-width:1.5;\"/>\r\n   </g>\r\n   <g id=\"patch_3\">\r\n    <path d=\"M 30.103125 333.36 \r\nL 30.103125 7.2 \r\n\" style=\"fill:none;stroke:#000000;stroke-linecap:square;stroke-linejoin:miter;stroke-width:0.8;\"/>\r\n   </g>\r\n   <g id=\"patch_4\">\r\n    <path d=\"M 537.375852 333.36 \r\nL 537.375852 7.2 \r\n\" style=\"fill:none;stroke:#000000;stroke-linecap:square;stroke-linejoin:miter;stroke-width:0.8;\"/>\r\n   </g>\r\n   <g id=\"patch_5\">\r\n    <path d=\"M 30.103125 333.36 \r\nL 537.375852 333.36 \r\n\" style=\"fill:none;stroke:#000000;stroke-linecap:square;stroke-linejoin:miter;stroke-width:0.8;\"/>\r\n   </g>\r\n   <g id=\"patch_6\">\r\n    <path d=\"M 30.103125 7.2 \r\nL 537.375852 7.2 \r\n\" style=\"fill:none;stroke:#000000;stroke-linecap:square;stroke-linejoin:miter;stroke-width:0.8;\"/>\r\n   </g>\r\n  </g>\r\n  <g id=\"axes_2\">\r\n   <g id=\"patch_7\">\r\n    <path d=\"M 638.830398 333.36 \r\nL 1146.103125 333.36 \r\nL 1146.103125 7.2 \r\nL 638.830398 7.2 \r\nz\r\n\" style=\"fill:#ffffff;\"/>\r\n   </g>\r\n   <g id=\"matplotlib.axis_3\">\r\n    <g id=\"xtick_9\">\r\n     <g id=\"line2d_16\">\r\n      <g>\r\n       <use style=\"stroke:#000000;stroke-width:0.8;\" x=\"661.888249\" xlink:href=\"#m812440495a\" y=\"333.36\"/>\r\n      </g>\r\n     </g>\r\n     <g id=\"text_14\">\r\n      <!-- 0.0 -->\r\n      <g transform=\"translate(653.936686 347.958438)scale(0.1 -0.1)\">\r\n       <use xlink:href=\"#DejaVuSans-30\"/>\r\n       <use x=\"63.623047\" xlink:href=\"#DejaVuSans-2e\"/>\r\n       <use x=\"95.410156\" xlink:href=\"#DejaVuSans-30\"/>\r\n      </g>\r\n     </g>\r\n    </g>\r\n    <g id=\"xtick_10\">\r\n     <g id=\"line2d_17\">\r\n      <g>\r\n       <use style=\"stroke:#000000;stroke-width:0.8;\" x=\"722.566805\" xlink:href=\"#m812440495a\" y=\"333.36\"/>\r\n      </g>\r\n     </g>\r\n     <g id=\"text_15\">\r\n      <!-- 2.5 -->\r\n      <g transform=\"translate(714.615242 347.958438)scale(0.1 -0.1)\">\r\n       <use xlink:href=\"#DejaVuSans-32\"/>\r\n       <use x=\"63.623047\" xlink:href=\"#DejaVuSans-2e\"/>\r\n       <use x=\"95.410156\" xlink:href=\"#DejaVuSans-35\"/>\r\n      </g>\r\n     </g>\r\n    </g>\r\n    <g id=\"xtick_11\">\r\n     <g id=\"line2d_18\">\r\n      <g>\r\n       <use style=\"stroke:#000000;stroke-width:0.8;\" x=\"783.245361\" xlink:href=\"#m812440495a\" y=\"333.36\"/>\r\n      </g>\r\n     </g>\r\n     <g id=\"text_16\">\r\n      <!-- 5.0 -->\r\n      <g transform=\"translate(775.293798 347.958438)scale(0.1 -0.1)\">\r\n       <use xlink:href=\"#DejaVuSans-35\"/>\r\n       <use x=\"63.623047\" xlink:href=\"#DejaVuSans-2e\"/>\r\n       <use x=\"95.410156\" xlink:href=\"#DejaVuSans-30\"/>\r\n      </g>\r\n     </g>\r\n    </g>\r\n    <g id=\"xtick_12\">\r\n     <g id=\"line2d_19\">\r\n      <g>\r\n       <use style=\"stroke:#000000;stroke-width:0.8;\" x=\"843.923917\" xlink:href=\"#m812440495a\" y=\"333.36\"/>\r\n      </g>\r\n     </g>\r\n     <g id=\"text_17\">\r\n      <!-- 7.5 -->\r\n      <g transform=\"translate(835.972354 347.958438)scale(0.1 -0.1)\">\r\n       <use xlink:href=\"#DejaVuSans-37\"/>\r\n       <use x=\"63.623047\" xlink:href=\"#DejaVuSans-2e\"/>\r\n       <use x=\"95.410156\" xlink:href=\"#DejaVuSans-35\"/>\r\n      </g>\r\n     </g>\r\n    </g>\r\n    <g id=\"xtick_13\">\r\n     <g id=\"line2d_20\">\r\n      <g>\r\n       <use style=\"stroke:#000000;stroke-width:0.8;\" x=\"904.602473\" xlink:href=\"#m812440495a\" y=\"333.36\"/>\r\n      </g>\r\n     </g>\r\n     <g id=\"text_18\">\r\n      <!-- 10.0 -->\r\n      <g transform=\"translate(893.46966 347.958438)scale(0.1 -0.1)\">\r\n       <use xlink:href=\"#DejaVuSans-31\"/>\r\n       <use x=\"63.623047\" xlink:href=\"#DejaVuSans-30\"/>\r\n       <use x=\"127.246094\" xlink:href=\"#DejaVuSans-2e\"/>\r\n       <use x=\"159.033203\" xlink:href=\"#DejaVuSans-30\"/>\r\n      </g>\r\n     </g>\r\n    </g>\r\n    <g id=\"xtick_14\">\r\n     <g id=\"line2d_21\">\r\n      <g>\r\n       <use style=\"stroke:#000000;stroke-width:0.8;\" x=\"965.281028\" xlink:href=\"#m812440495a\" y=\"333.36\"/>\r\n      </g>\r\n     </g>\r\n     <g id=\"text_19\">\r\n      <!-- 12.5 -->\r\n      <g transform=\"translate(954.148216 347.958438)scale(0.1 -0.1)\">\r\n       <use xlink:href=\"#DejaVuSans-31\"/>\r\n       <use x=\"63.623047\" xlink:href=\"#DejaVuSans-32\"/>\r\n       <use x=\"127.246094\" xlink:href=\"#DejaVuSans-2e\"/>\r\n       <use x=\"159.033203\" xlink:href=\"#DejaVuSans-35\"/>\r\n      </g>\r\n     </g>\r\n    </g>\r\n    <g id=\"xtick_15\">\r\n     <g id=\"line2d_22\">\r\n      <g>\r\n       <use style=\"stroke:#000000;stroke-width:0.8;\" x=\"1025.959584\" xlink:href=\"#m812440495a\" y=\"333.36\"/>\r\n      </g>\r\n     </g>\r\n     <g id=\"text_20\">\r\n      <!-- 15.0 -->\r\n      <g transform=\"translate(1014.826772 347.958438)scale(0.1 -0.1)\">\r\n       <use xlink:href=\"#DejaVuSans-31\"/>\r\n       <use x=\"63.623047\" xlink:href=\"#DejaVuSans-35\"/>\r\n       <use x=\"127.246094\" xlink:href=\"#DejaVuSans-2e\"/>\r\n       <use x=\"159.033203\" xlink:href=\"#DejaVuSans-30\"/>\r\n      </g>\r\n     </g>\r\n    </g>\r\n    <g id=\"xtick_16\">\r\n     <g id=\"line2d_23\">\r\n      <g>\r\n       <use style=\"stroke:#000000;stroke-width:0.8;\" x=\"1086.63814\" xlink:href=\"#m812440495a\" y=\"333.36\"/>\r\n      </g>\r\n     </g>\r\n     <g id=\"text_21\">\r\n      <!-- 17.5 -->\r\n      <g transform=\"translate(1075.505328 347.958438)scale(0.1 -0.1)\">\r\n       <use xlink:href=\"#DejaVuSans-31\"/>\r\n       <use x=\"63.623047\" xlink:href=\"#DejaVuSans-37\"/>\r\n       <use x=\"127.246094\" xlink:href=\"#DejaVuSans-2e\"/>\r\n       <use x=\"159.033203\" xlink:href=\"#DejaVuSans-35\"/>\r\n      </g>\r\n     </g>\r\n    </g>\r\n   </g>\r\n   <g id=\"matplotlib.axis_4\">\r\n    <g id=\"ytick_6\">\r\n     <g id=\"line2d_24\">\r\n      <g>\r\n       <use style=\"stroke:#000000;stroke-width:0.8;\" x=\"638.830398\" xlink:href=\"#m5bcd4a0a9a\" y=\"298.803132\"/>\r\n      </g>\r\n     </g>\r\n     <g id=\"text_22\">\r\n      <!-- 0.4 -->\r\n      <g transform=\"translate(615.927273 302.602351)scale(0.1 -0.1)\">\r\n       <defs>\r\n        <path d=\"M 2419 4116 \r\nL 825 1625 \r\nL 2419 1625 \r\nL 2419 4116 \r\nz\r\nM 2253 4666 \r\nL 3047 4666 \r\nL 3047 1625 \r\nL 3713 1625 \r\nL 3713 1100 \r\nL 3047 1100 \r\nL 3047 0 \r\nL 2419 0 \r\nL 2419 1100 \r\nL 313 1100 \r\nL 313 1709 \r\nL 2253 4666 \r\nz\r\n\" id=\"DejaVuSans-34\" transform=\"scale(0.015625)\"/>\r\n       </defs>\r\n       <use xlink:href=\"#DejaVuSans-30\"/>\r\n       <use x=\"63.623047\" xlink:href=\"#DejaVuSans-2e\"/>\r\n       <use x=\"95.410156\" xlink:href=\"#DejaVuSans-34\"/>\r\n      </g>\r\n     </g>\r\n    </g>\r\n    <g id=\"ytick_7\">\r\n     <g id=\"line2d_25\">\r\n      <g>\r\n       <use style=\"stroke:#000000;stroke-width:0.8;\" x=\"638.830398\" xlink:href=\"#m5bcd4a0a9a\" y=\"252.659515\"/>\r\n      </g>\r\n     </g>\r\n     <g id=\"text_23\">\r\n      <!-- 0.5 -->\r\n      <g transform=\"translate(615.927273 256.458734)scale(0.1 -0.1)\">\r\n       <use xlink:href=\"#DejaVuSans-30\"/>\r\n       <use x=\"63.623047\" xlink:href=\"#DejaVuSans-2e\"/>\r\n       <use x=\"95.410156\" xlink:href=\"#DejaVuSans-35\"/>\r\n      </g>\r\n     </g>\r\n    </g>\r\n    <g id=\"ytick_8\">\r\n     <g id=\"line2d_26\">\r\n      <g>\r\n       <use style=\"stroke:#000000;stroke-width:0.8;\" x=\"638.830398\" xlink:href=\"#m5bcd4a0a9a\" y=\"206.515898\"/>\r\n      </g>\r\n     </g>\r\n     <g id=\"text_24\">\r\n      <!-- 0.6 -->\r\n      <g transform=\"translate(615.927273 210.315117)scale(0.1 -0.1)\">\r\n       <defs>\r\n        <path d=\"M 2113 2584 \r\nQ 1688 2584 1439 2293 \r\nQ 1191 2003 1191 1497 \r\nQ 1191 994 1439 701 \r\nQ 1688 409 2113 409 \r\nQ 2538 409 2786 701 \r\nQ 3034 994 3034 1497 \r\nQ 3034 2003 2786 2293 \r\nQ 2538 2584 2113 2584 \r\nz\r\nM 3366 4563 \r\nL 3366 3988 \r\nQ 3128 4100 2886 4159 \r\nQ 2644 4219 2406 4219 \r\nQ 1781 4219 1451 3797 \r\nQ 1122 3375 1075 2522 \r\nQ 1259 2794 1537 2939 \r\nQ 1816 3084 2150 3084 \r\nQ 2853 3084 3261 2657 \r\nQ 3669 2231 3669 1497 \r\nQ 3669 778 3244 343 \r\nQ 2819 -91 2113 -91 \r\nQ 1303 -91 875 529 \r\nQ 447 1150 447 2328 \r\nQ 447 3434 972 4092 \r\nQ 1497 4750 2381 4750 \r\nQ 2619 4750 2861 4703 \r\nQ 3103 4656 3366 4563 \r\nz\r\n\" id=\"DejaVuSans-36\" transform=\"scale(0.015625)\"/>\r\n       </defs>\r\n       <use xlink:href=\"#DejaVuSans-30\"/>\r\n       <use x=\"63.623047\" xlink:href=\"#DejaVuSans-2e\"/>\r\n       <use x=\"95.410156\" xlink:href=\"#DejaVuSans-36\"/>\r\n      </g>\r\n     </g>\r\n    </g>\r\n    <g id=\"ytick_9\">\r\n     <g id=\"line2d_27\">\r\n      <g>\r\n       <use style=\"stroke:#000000;stroke-width:0.8;\" x=\"638.830398\" xlink:href=\"#m5bcd4a0a9a\" y=\"160.372281\"/>\r\n      </g>\r\n     </g>\r\n     <g id=\"text_25\">\r\n      <!-- 0.7 -->\r\n      <g transform=\"translate(615.927273 164.1715)scale(0.1 -0.1)\">\r\n       <use xlink:href=\"#DejaVuSans-30\"/>\r\n       <use x=\"63.623047\" xlink:href=\"#DejaVuSans-2e\"/>\r\n       <use x=\"95.410156\" xlink:href=\"#DejaVuSans-37\"/>\r\n      </g>\r\n     </g>\r\n    </g>\r\n    <g id=\"ytick_10\">\r\n     <g id=\"line2d_28\">\r\n      <g>\r\n       <use style=\"stroke:#000000;stroke-width:0.8;\" x=\"638.830398\" xlink:href=\"#m5bcd4a0a9a\" y=\"114.228664\"/>\r\n      </g>\r\n     </g>\r\n     <g id=\"text_26\">\r\n      <!-- 0.8 -->\r\n      <g transform=\"translate(615.927273 118.027883)scale(0.1 -0.1)\">\r\n       <defs>\r\n        <path d=\"M 2034 2216 \r\nQ 1584 2216 1326 1975 \r\nQ 1069 1734 1069 1313 \r\nQ 1069 891 1326 650 \r\nQ 1584 409 2034 409 \r\nQ 2484 409 2743 651 \r\nQ 3003 894 3003 1313 \r\nQ 3003 1734 2745 1975 \r\nQ 2488 2216 2034 2216 \r\nz\r\nM 1403 2484 \r\nQ 997 2584 770 2862 \r\nQ 544 3141 544 3541 \r\nQ 544 4100 942 4425 \r\nQ 1341 4750 2034 4750 \r\nQ 2731 4750 3128 4425 \r\nQ 3525 4100 3525 3541 \r\nQ 3525 3141 3298 2862 \r\nQ 3072 2584 2669 2484 \r\nQ 3125 2378 3379 2068 \r\nQ 3634 1759 3634 1313 \r\nQ 3634 634 3220 271 \r\nQ 2806 -91 2034 -91 \r\nQ 1263 -91 848 271 \r\nQ 434 634 434 1313 \r\nQ 434 1759 690 2068 \r\nQ 947 2378 1403 2484 \r\nz\r\nM 1172 3481 \r\nQ 1172 3119 1398 2916 \r\nQ 1625 2713 2034 2713 \r\nQ 2441 2713 2670 2916 \r\nQ 2900 3119 2900 3481 \r\nQ 2900 3844 2670 4047 \r\nQ 2441 4250 2034 4250 \r\nQ 1625 4250 1398 4047 \r\nQ 1172 3844 1172 3481 \r\nz\r\n\" id=\"DejaVuSans-38\" transform=\"scale(0.015625)\"/>\r\n       </defs>\r\n       <use xlink:href=\"#DejaVuSans-30\"/>\r\n       <use x=\"63.623047\" xlink:href=\"#DejaVuSans-2e\"/>\r\n       <use x=\"95.410156\" xlink:href=\"#DejaVuSans-38\"/>\r\n      </g>\r\n     </g>\r\n    </g>\r\n    <g id=\"ytick_11\">\r\n     <g id=\"line2d_29\">\r\n      <g>\r\n       <use style=\"stroke:#000000;stroke-width:0.8;\" x=\"638.830398\" xlink:href=\"#m5bcd4a0a9a\" y=\"68.085048\"/>\r\n      </g>\r\n     </g>\r\n     <g id=\"text_27\">\r\n      <!-- 0.9 -->\r\n      <g transform=\"translate(615.927273 71.884266)scale(0.1 -0.1)\">\r\n       <defs>\r\n        <path d=\"M 703 97 \r\nL 703 672 \r\nQ 941 559 1184 500 \r\nQ 1428 441 1663 441 \r\nQ 2288 441 2617 861 \r\nQ 2947 1281 2994 2138 \r\nQ 2813 1869 2534 1725 \r\nQ 2256 1581 1919 1581 \r\nQ 1219 1581 811 2004 \r\nQ 403 2428 403 3163 \r\nQ 403 3881 828 4315 \r\nQ 1253 4750 1959 4750 \r\nQ 2769 4750 3195 4129 \r\nQ 3622 3509 3622 2328 \r\nQ 3622 1225 3098 567 \r\nQ 2575 -91 1691 -91 \r\nQ 1453 -91 1209 -44 \r\nQ 966 3 703 97 \r\nz\r\nM 1959 2075 \r\nQ 2384 2075 2632 2365 \r\nQ 2881 2656 2881 3163 \r\nQ 2881 3666 2632 3958 \r\nQ 2384 4250 1959 4250 \r\nQ 1534 4250 1286 3958 \r\nQ 1038 3666 1038 3163 \r\nQ 1038 2656 1286 2365 \r\nQ 1534 2075 1959 2075 \r\nz\r\n\" id=\"DejaVuSans-39\" transform=\"scale(0.015625)\"/>\r\n       </defs>\r\n       <use xlink:href=\"#DejaVuSans-30\"/>\r\n       <use x=\"63.623047\" xlink:href=\"#DejaVuSans-2e\"/>\r\n       <use x=\"95.410156\" xlink:href=\"#DejaVuSans-39\"/>\r\n      </g>\r\n     </g>\r\n    </g>\r\n    <g id=\"ytick_12\">\r\n     <g id=\"line2d_30\">\r\n      <g>\r\n       <use style=\"stroke:#000000;stroke-width:0.8;\" x=\"638.830398\" xlink:href=\"#m5bcd4a0a9a\" y=\"21.941431\"/>\r\n      </g>\r\n     </g>\r\n     <g id=\"text_28\">\r\n      <!-- 1.0 -->\r\n      <g transform=\"translate(615.927273 25.740649)scale(0.1 -0.1)\">\r\n       <use xlink:href=\"#DejaVuSans-31\"/>\r\n       <use x=\"63.623047\" xlink:href=\"#DejaVuSans-2e\"/>\r\n       <use x=\"95.410156\" xlink:href=\"#DejaVuSans-30\"/>\r\n      </g>\r\n     </g>\r\n    </g>\r\n   </g>\r\n   <g id=\"line2d_31\">\r\n    <path clip-path=\"url(#p16a8f3c751)\" d=\"M 661.888249 318.534545 \r\nL 686.159671 97.270404 \r\nL 710.431094 47.454449 \r\nL 734.702516 31.655889 \r\nL 758.973938 26.462523 \r\nL 783.245361 23.706153 \r\nL 807.516783 23.538105 \r\nL 831.788205 22.983465 \r\nL 856.059628 22.512876 \r\nL 880.33105 22.529681 \r\nL 904.602473 22.630509 \r\nL 928.873895 22.496071 \r\nL 953.145317 22.496071 \r\nL 977.41674 22.361605 \r\nL 1001.688162 22.5969 \r\nL 1025.959584 22.848999 \r\nL 1050.231007 22.546485 \r\nL 1074.502429 22.19353 \r\nL 1098.773851 22.19353 \r\nL 1123.045274 22.025455 \r\n\" style=\"fill:none;stroke:#1f77b4;stroke-linecap:square;stroke-width:1.5;\"/>\r\n   </g>\r\n   <g id=\"line2d_32\">\r\n    <path clip-path=\"url(#p16a8f3c751)\" d=\"M 661.888249 151.712322 \r\nL 686.159671 74.441695 \r\nL 710.431094 55.783516 \r\nL 734.702516 47.162139 \r\nL 758.973938 40.535278 \r\nL 783.245361 42.015062 \r\nL 807.516783 41.243005 \r\nL 831.788205 40.149236 \r\nL 856.059628 39.055495 \r\nL 880.33105 41.62902 \r\nL 904.602473 39.827552 \r\nL 928.873895 42.594098 \r\nL 953.145317 37.897395 \r\nL 977.41674 40.985652 \r\nL 1001.688162 40.277926 \r\nL 1025.959584 37.704373 \r\nL 1050.231007 41.178673 \r\nL 1074.502429 37.833063 \r\nL 1098.773851 35.709885 \r\nL 1123.045274 37.575711 \r\n\" style=\"fill:none;stroke:#ff7f0e;stroke-linecap:square;stroke-width:1.5;\"/>\r\n   </g>\r\n   <g id=\"patch_8\">\r\n    <path d=\"M 638.830398 333.36 \r\nL 638.830398 7.2 \r\n\" style=\"fill:none;stroke:#000000;stroke-linecap:square;stroke-linejoin:miter;stroke-width:0.8;\"/>\r\n   </g>\r\n   <g id=\"patch_9\">\r\n    <path d=\"M 1146.103125 333.36 \r\nL 1146.103125 7.2 \r\n\" style=\"fill:none;stroke:#000000;stroke-linecap:square;stroke-linejoin:miter;stroke-width:0.8;\"/>\r\n   </g>\r\n   <g id=\"patch_10\">\r\n    <path d=\"M 638.830398 333.36 \r\nL 1146.103125 333.36 \r\n\" style=\"fill:none;stroke:#000000;stroke-linecap:square;stroke-linejoin:miter;stroke-width:0.8;\"/>\r\n   </g>\r\n   <g id=\"patch_11\">\r\n    <path d=\"M 638.830398 7.2 \r\nL 1146.103125 7.2 \r\n\" style=\"fill:none;stroke:#000000;stroke-linecap:square;stroke-linejoin:miter;stroke-width:0.8;\"/>\r\n   </g>\r\n  </g>\r\n </g>\r\n <defs>\r\n  <clipPath id=\"p4d39bc06a6\">\r\n   <rect height=\"326.16\" width=\"507.272727\" x=\"30.103125\" y=\"7.2\"/>\r\n  </clipPath>\r\n  <clipPath id=\"p16a8f3c751\">\r\n   <rect height=\"326.16\" width=\"507.272727\" x=\"638.830398\" y=\"7.2\"/>\r\n  </clipPath>\r\n </defs>\r\n</svg>\r\n",
            "image/png": "[encoded data removed]"
          },
          "metadata": {
            "needs_background": "light"
          }
        }
      ]
    },
    {
      "cell_type": "markdown",
      "metadata": {
        "id": "TV4k0txHsYsW"
      },
      "source": [
        "# 이미지 증강 기법"
      ]
    },
    {
      "cell_type": "code",
      "metadata": {
        "id": "-d3A6z2d6tiz",
        "colab": {
          "base_uri": "https://localhost:8080/",
          "height": 281
        },
        "outputId": "f28a83b3-9ac3-4afb-e6e8-4ea40059f2b7"
      },
      "source": [
        "train_image_datagen = ImageDataGenerator(\n",
        "  rescale=1./255, # 일반화\n",
        "  rotation_range=10,  # 랜덤하게 이미지를 회전 (단위: 도, 0-180)\n",
        "  zoom_range=0.1, # 랜덤하게 이미지 확대 (%)\n",
        "  width_shift_range=0.1,  # 랜덤하게 이미지를 수평으로 이동 (%)\n",
        "  height_shift_range=0.1,  # 랜덤하게 이미지를 수직으로 이동 (%)\n",
        ")\n",
        "\n",
        "train_datagen = train_image_datagen.flow(\n",
        "    x=x_train,\n",
        "    y=y_train,\n",
        "    batch_size=256,\n",
        "    shuffle=True\n",
        ")\n",
        "\n",
        "test_image_datagen = ImageDataGenerator(\n",
        "  rescale=1./255\n",
        ")\n",
        "\n",
        "test_datagen = test_image_datagen.flow(\n",
        "    x=x_test,\n",
        "    y=y_test,\n",
        "    batch_size=256,\n",
        "    shuffle=False\n",
        ")\n",
        "\n",
        "index = 1\n",
        "\n",
        "preview_img = train_datagen.__getitem__(0)[0][index]\n",
        "preview_label = train_datagen.__getitem__(0)[1][index]\n",
        "\n",
        "plt.imshow(preview_img.reshape((28, 28)))\n",
        "plt.title(str(preview_label))\n",
        "plt.show()"
      ],
      "execution_count": 32,
      "outputs": [
        {
          "output_type": "display_data",
          "data": {
            "text/plain": "<Figure size 432x288 with 1 Axes>",
            "image/svg+xml": "<?xml version=\"1.0\" encoding=\"utf-8\" standalone=\"no\"?>\r\n<!DOCTYPE svg PUBLIC \"-//W3C//DTD SVG 1.1//EN\"\r\n  \"http://www.w3.org/Graphics/SVG/1.1/DTD/svg11.dtd\">\r\n<svg height=\"263.63625pt\" version=\"1.1\" viewBox=\"0 0 386.25 263.63625\" width=\"386.25pt\" xmlns=\"http://www.w3.org/2000/svg\" xmlns:xlink=\"http://www.w3.org/1999/xlink\">\r\n <metadata>\r\n  <rdf:RDF xmlns:cc=\"http://creativecommons.org/ns#\" xmlns:dc=\"http://purl.org/dc/elements/1.1/\" xmlns:rdf=\"http://www.w3.org/1999/02/22-rdf-syntax-ns#\">\r\n   <cc:Work>\r\n    <dc:type rdf:resource=\"http://purl.org/dc/dcmitype/StillImage\"/>\r\n    <dc:date>2021-07-30T11:26:35.197329</dc:date>\r\n    <dc:format>image/svg+xml</dc:format>\r\n    <dc:creator>\r\n     <cc:Agent>\r\n      <dc:title>Matplotlib v3.4.2, https://matplotlib.org/</dc:title>\r\n     </cc:Agent>\r\n    </dc:creator>\r\n   </cc:Work>\r\n  </rdf:RDF>\r\n </metadata>\r\n <defs>\r\n  <style type=\"text/css\">*{stroke-linecap:butt;stroke-linejoin:round;}</style>\r\n </defs>\r\n <g id=\"figure_1\">\r\n  <g id=\"patch_1\">\r\n   <path d=\"M 0 263.63625 \r\nL 386.25 263.63625 \r\nL 386.25 0 \r\nL 0 0 \r\nz\r\n\" style=\"fill:none;\"/>\r\n  </g>\r\n  <g id=\"axes_1\">\r\n   <g id=\"patch_2\">\r\n    <path d=\"M 84.405 239.758125 \r\nL 301.845 239.758125 \r\nL 301.845 22.318125 \r\nL 84.405 22.318125 \r\nz\r\n\" style=\"fill:#ffffff;\"/>\r\n   </g>\r\n   <g clip-path=\"url(#p9e0d43d28e)\">\r\n    <image height=\"218\" id=\"image4f70057fed\" transform=\"scale(1 -1)translate(0 -218)\" width=\"218\" x=\"84.405\" xlink:href=\"data:image/png;base64,\r\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\" y=\"-21.758125\"/>\r\n   </g>\r\n   <g id=\"matplotlib.axis_1\">\r\n    <g id=\"xtick_1\">\r\n     <g id=\"line2d_1\">\r\n      <defs>\r\n       <path d=\"M 0 0 \r\nL 0 3.5 \r\n\" id=\"md5b29f5599\" style=\"stroke:#000000;stroke-width:0.8;\"/>\r\n      </defs>\r\n      <g>\r\n       <use style=\"stroke:#000000;stroke-width:0.8;\" x=\"88.287857\" xlink:href=\"#md5b29f5599\" y=\"239.758125\"/>\r\n      </g>\r\n     </g>\r\n     <g id=\"text_1\">\r\n      <!-- 0 -->\r\n      <g transform=\"translate(85.106607 254.356563)scale(0.1 -0.1)\">\r\n       <defs>\r\n        <path d=\"M 2034 4250 \r\nQ 1547 4250 1301 3770 \r\nQ 1056 3291 1056 2328 \r\nQ 1056 1369 1301 889 \r\nQ 1547 409 2034 409 \r\nQ 2525 409 2770 889 \r\nQ 3016 1369 3016 2328 \r\nQ 3016 3291 2770 3770 \r\nQ 2525 4250 2034 4250 \r\nz\r\nM 2034 4750 \r\nQ 2819 4750 3233 4129 \r\nQ 3647 3509 3647 2328 \r\nQ 3647 1150 3233 529 \r\nQ 2819 -91 2034 -91 \r\nQ 1250 -91 836 529 \r\nQ 422 1150 422 2328 \r\nQ 422 3509 836 4129 \r\nQ 1250 4750 2034 4750 \r\nz\r\n\" id=\"DejaVuSans-30\" transform=\"scale(0.015625)\"/>\r\n       </defs>\r\n       <use xlink:href=\"#DejaVuSans-30\"/>\r\n      </g>\r\n     </g>\r\n    </g>\r\n    <g id=\"xtick_2\">\r\n     <g id=\"line2d_2\">\r\n      <g>\r\n       <use style=\"stroke:#000000;stroke-width:0.8;\" x=\"127.116429\" xlink:href=\"#md5b29f5599\" y=\"239.758125\"/>\r\n      </g>\r\n     </g>\r\n     <g id=\"text_2\">\r\n      <!-- 5 -->\r\n      <g transform=\"translate(123.935179 254.356563)scale(0.1 -0.1)\">\r\n       <defs>\r\n        <path d=\"M 691 4666 \r\nL 3169 4666 \r\nL 3169 4134 \r\nL 1269 4134 \r\nL 1269 2991 \r\nQ 1406 3038 1543 3061 \r\nQ 1681 3084 1819 3084 \r\nQ 2600 3084 3056 2656 \r\nQ 3513 2228 3513 1497 \r\nQ 3513 744 3044 326 \r\nQ 2575 -91 1722 -91 \r\nQ 1428 -91 1123 -41 \r\nQ 819 9 494 109 \r\nL 494 744 \r\nQ 775 591 1075 516 \r\nQ 1375 441 1709 441 \r\nQ 2250 441 2565 725 \r\nQ 2881 1009 2881 1497 \r\nQ 2881 1984 2565 2268 \r\nQ 2250 2553 1709 2553 \r\nQ 1456 2553 1204 2497 \r\nQ 953 2441 691 2322 \r\nL 691 4666 \r\nz\r\n\" id=\"DejaVuSans-35\" transform=\"scale(0.015625)\"/>\r\n       </defs>\r\n       <use xlink:href=\"#DejaVuSans-35\"/>\r\n      </g>\r\n     </g>\r\n    </g>\r\n    <g id=\"xtick_3\">\r\n     <g id=\"line2d_3\">\r\n      <g>\r\n       <use style=\"stroke:#000000;stroke-width:0.8;\" x=\"165.945\" xlink:href=\"#md5b29f5599\" y=\"239.758125\"/>\r\n      </g>\r\n     </g>\r\n     <g id=\"text_3\">\r\n      <!-- 10 -->\r\n      <g transform=\"translate(159.5825 254.356563)scale(0.1 -0.1)\">\r\n       <defs>\r\n        <path d=\"M 794 531 \r\nL 1825 531 \r\nL 1825 4091 \r\nL 703 3866 \r\nL 703 4441 \r\nL 1819 4666 \r\nL 2450 4666 \r\nL 2450 531 \r\nL 3481 531 \r\nL 3481 0 \r\nL 794 0 \r\nL 794 531 \r\nz\r\n\" id=\"DejaVuSans-31\" transform=\"scale(0.015625)\"/>\r\n       </defs>\r\n       <use xlink:href=\"#DejaVuSans-31\"/>\r\n       <use x=\"63.623047\" xlink:href=\"#DejaVuSans-30\"/>\r\n      </g>\r\n     </g>\r\n    </g>\r\n    <g id=\"xtick_4\">\r\n     <g id=\"line2d_4\">\r\n      <g>\r\n       <use style=\"stroke:#000000;stroke-width:0.8;\" x=\"204.773571\" xlink:href=\"#md5b29f5599\" y=\"239.758125\"/>\r\n      </g>\r\n     </g>\r\n     <g id=\"text_4\">\r\n      <!-- 15 -->\r\n      <g transform=\"translate(198.411071 254.356563)scale(0.1 -0.1)\">\r\n       <use xlink:href=\"#DejaVuSans-31\"/>\r\n       <use x=\"63.623047\" xlink:href=\"#DejaVuSans-35\"/>\r\n      </g>\r\n     </g>\r\n    </g>\r\n    <g id=\"xtick_5\">\r\n     <g id=\"line2d_5\">\r\n      <g>\r\n       <use style=\"stroke:#000000;stroke-width:0.8;\" x=\"243.602143\" xlink:href=\"#md5b29f5599\" y=\"239.758125\"/>\r\n      </g>\r\n     </g>\r\n     <g id=\"text_5\">\r\n      <!-- 20 -->\r\n      <g transform=\"translate(237.239643 254.356563)scale(0.1 -0.1)\">\r\n       <defs>\r\n        <path d=\"M 1228 531 \r\nL 3431 531 \r\nL 3431 0 \r\nL 469 0 \r\nL 469 531 \r\nQ 828 903 1448 1529 \r\nQ 2069 2156 2228 2338 \r\nQ 2531 2678 2651 2914 \r\nQ 2772 3150 2772 3378 \r\nQ 2772 3750 2511 3984 \r\nQ 2250 4219 1831 4219 \r\nQ 1534 4219 1204 4116 \r\nQ 875 4013 500 3803 \r\nL 500 4441 \r\nQ 881 4594 1212 4672 \r\nQ 1544 4750 1819 4750 \r\nQ 2544 4750 2975 4387 \r\nQ 3406 4025 3406 3419 \r\nQ 3406 3131 3298 2873 \r\nQ 3191 2616 2906 2266 \r\nQ 2828 2175 2409 1742 \r\nQ 1991 1309 1228 531 \r\nz\r\n\" id=\"DejaVuSans-32\" transform=\"scale(0.015625)\"/>\r\n       </defs>\r\n       <use xlink:href=\"#DejaVuSans-32\"/>\r\n       <use x=\"63.623047\" xlink:href=\"#DejaVuSans-30\"/>\r\n      </g>\r\n     </g>\r\n    </g>\r\n    <g id=\"xtick_6\">\r\n     <g id=\"line2d_6\">\r\n      <g>\r\n       <use style=\"stroke:#000000;stroke-width:0.8;\" x=\"282.430714\" xlink:href=\"#md5b29f5599\" y=\"239.758125\"/>\r\n      </g>\r\n     </g>\r\n     <g id=\"text_6\">\r\n      <!-- 25 -->\r\n      <g transform=\"translate(276.068214 254.356563)scale(0.1 -0.1)\">\r\n       <use xlink:href=\"#DejaVuSans-32\"/>\r\n       <use x=\"63.623047\" xlink:href=\"#DejaVuSans-35\"/>\r\n      </g>\r\n     </g>\r\n    </g>\r\n   </g>\r\n   <g id=\"matplotlib.axis_2\">\r\n    <g id=\"ytick_1\">\r\n     <g id=\"line2d_7\">\r\n      <defs>\r\n       <path d=\"M 0 0 \r\nL -3.5 0 \r\n\" id=\"m32395c26f4\" style=\"stroke:#000000;stroke-width:0.8;\"/>\r\n      </defs>\r\n      <g>\r\n       <use style=\"stroke:#000000;stroke-width:0.8;\" x=\"84.405\" xlink:href=\"#m32395c26f4\" y=\"26.200982\"/>\r\n      </g>\r\n     </g>\r\n     <g id=\"text_7\">\r\n      <!-- 0 -->\r\n      <g transform=\"translate(71.0425 30.000201)scale(0.1 -0.1)\">\r\n       <use xlink:href=\"#DejaVuSans-30\"/>\r\n      </g>\r\n     </g>\r\n    </g>\r\n    <g id=\"ytick_2\">\r\n     <g id=\"line2d_8\">\r\n      <g>\r\n       <use style=\"stroke:#000000;stroke-width:0.8;\" x=\"84.405\" xlink:href=\"#m32395c26f4\" y=\"65.029554\"/>\r\n      </g>\r\n     </g>\r\n     <g id=\"text_8\">\r\n      <!-- 5 -->\r\n      <g transform=\"translate(71.0425 68.828772)scale(0.1 -0.1)\">\r\n       <use xlink:href=\"#DejaVuSans-35\"/>\r\n      </g>\r\n     </g>\r\n    </g>\r\n    <g id=\"ytick_3\">\r\n     <g id=\"line2d_9\">\r\n      <g>\r\n       <use style=\"stroke:#000000;stroke-width:0.8;\" x=\"84.405\" xlink:href=\"#m32395c26f4\" y=\"103.858125\"/>\r\n      </g>\r\n     </g>\r\n     <g id=\"text_9\">\r\n      <!-- 10 -->\r\n      <g transform=\"translate(64.68 107.657344)scale(0.1 -0.1)\">\r\n       <use xlink:href=\"#DejaVuSans-31\"/>\r\n       <use x=\"63.623047\" xlink:href=\"#DejaVuSans-30\"/>\r\n      </g>\r\n     </g>\r\n    </g>\r\n    <g id=\"ytick_4\">\r\n     <g id=\"line2d_10\">\r\n      <g>\r\n       <use style=\"stroke:#000000;stroke-width:0.8;\" x=\"84.405\" xlink:href=\"#m32395c26f4\" y=\"142.686696\"/>\r\n      </g>\r\n     </g>\r\n     <g id=\"text_10\">\r\n      <!-- 15 -->\r\n      <g transform=\"translate(64.68 146.485915)scale(0.1 -0.1)\">\r\n       <use xlink:href=\"#DejaVuSans-31\"/>\r\n       <use x=\"63.623047\" xlink:href=\"#DejaVuSans-35\"/>\r\n      </g>\r\n     </g>\r\n    </g>\r\n    <g id=\"ytick_5\">\r\n     <g id=\"line2d_11\">\r\n      <g>\r\n       <use style=\"stroke:#000000;stroke-width:0.8;\" x=\"84.405\" xlink:href=\"#m32395c26f4\" y=\"181.515268\"/>\r\n      </g>\r\n     </g>\r\n     <g id=\"text_11\">\r\n      <!-- 20 -->\r\n      <g transform=\"translate(64.68 185.314487)scale(0.1 -0.1)\">\r\n       <use xlink:href=\"#DejaVuSans-32\"/>\r\n       <use x=\"63.623047\" xlink:href=\"#DejaVuSans-30\"/>\r\n      </g>\r\n     </g>\r\n    </g>\r\n    <g id=\"ytick_6\">\r\n     <g id=\"line2d_12\">\r\n      <g>\r\n       <use style=\"stroke:#000000;stroke-width:0.8;\" x=\"84.405\" xlink:href=\"#m32395c26f4\" y=\"220.343839\"/>\r\n      </g>\r\n     </g>\r\n     <g id=\"text_12\">\r\n      <!-- 25 -->\r\n      <g transform=\"translate(64.68 224.143058)scale(0.1 -0.1)\">\r\n       <use xlink:href=\"#DejaVuSans-32\"/>\r\n       <use x=\"63.623047\" xlink:href=\"#DejaVuSans-35\"/>\r\n      </g>\r\n     </g>\r\n    </g>\r\n   </g>\r\n   <g id=\"patch_3\">\r\n    <path d=\"M 84.405 239.758125 \r\nL 84.405 22.318125 \r\n\" style=\"fill:none;stroke:#000000;stroke-linecap:square;stroke-linejoin:miter;stroke-width:0.8;\"/>\r\n   </g>\r\n   <g id=\"patch_4\">\r\n    <path d=\"M 301.845 239.758125 \r\nL 301.845 22.318125 \r\n\" style=\"fill:none;stroke:#000000;stroke-linecap:square;stroke-linejoin:miter;stroke-width:0.8;\"/>\r\n   </g>\r\n   <g id=\"patch_5\">\r\n    <path d=\"M 84.405 239.758125 \r\nL 301.845 239.758125 \r\n\" style=\"fill:none;stroke:#000000;stroke-linecap:square;stroke-linejoin:miter;stroke-width:0.8;\"/>\r\n   </g>\r\n   <g id=\"patch_6\">\r\n    <path d=\"M 84.405 22.318125 \r\nL 301.845 22.318125 \r\n\" style=\"fill:none;stroke:#000000;stroke-linecap:square;stroke-linejoin:miter;stroke-width:0.8;\"/>\r\n   </g>\r\n   <g id=\"text_13\">\r\n    <!-- [0. 0. 0. 0. 0. 0. 1. 0. 0. 0. 0. 0. 0. 0. 0. 0. 0. 0. 0. 0. 0. 0. 0. 0.] -->\r\n    <g transform=\"translate(7.2 16.318125)scale(0.12 -0.12)\">\r\n     <defs>\r\n      <path d=\"M 550 4863 \r\nL 1875 4863 \r\nL 1875 4416 \r\nL 1125 4416 \r\nL 1125 -397 \r\nL 1875 -397 \r\nL 1875 -844 \r\nL 550 -844 \r\nL 550 4863 \r\nz\r\n\" id=\"DejaVuSans-5b\" transform=\"scale(0.015625)\"/>\r\n      <path d=\"M 684 794 \r\nL 1344 794 \r\nL 1344 0 \r\nL 684 0 \r\nL 684 794 \r\nz\r\n\" id=\"DejaVuSans-2e\" transform=\"scale(0.015625)\"/>\r\n      <path id=\"DejaVuSans-20\" transform=\"scale(0.015625)\"/>\r\n      <path d=\"M 1947 4863 \r\nL 1947 -844 \r\nL 622 -844 \r\nL 622 -397 \r\nL 1369 -397 \r\nL 1369 4416 \r\nL 622 4416 \r\nL 622 4863 \r\nL 1947 4863 \r\nz\r\n\" id=\"DejaVuSans-5d\" transform=\"scale(0.015625)\"/>\r\n     </defs>\r\n     <use xlink:href=\"#DejaVuSans-5b\"/>\r\n     <use x=\"39.013672\" xlink:href=\"#DejaVuSans-30\"/>\r\n     <use x=\"102.636719\" xlink:href=\"#DejaVuSans-2e\"/>\r\n     <use x=\"134.423828\" xlink:href=\"#DejaVuSans-20\"/>\r\n     <use x=\"166.210938\" xlink:href=\"#DejaVuSans-30\"/>\r\n     <use x=\"229.833984\" xlink:href=\"#DejaVuSans-2e\"/>\r\n     <use x=\"261.621094\" xlink:href=\"#DejaVuSans-20\"/>\r\n     <use x=\"293.408203\" xlink:href=\"#DejaVuSans-30\"/>\r\n     <use x=\"357.03125\" xlink:href=\"#DejaVuSans-2e\"/>\r\n     <use x=\"388.818359\" xlink:href=\"#DejaVuSans-20\"/>\r\n     <use x=\"420.605469\" xlink:href=\"#DejaVuSans-30\"/>\r\n     <use x=\"484.228516\" xlink:href=\"#DejaVuSans-2e\"/>\r\n     <use x=\"516.015625\" xlink:href=\"#DejaVuSans-20\"/>\r\n     <use x=\"547.802734\" xlink:href=\"#DejaVuSans-30\"/>\r\n     <use x=\"611.425781\" xlink:href=\"#DejaVuSans-2e\"/>\r\n     <use x=\"643.212891\" xlink:href=\"#DejaVuSans-20\"/>\r\n     <use x=\"675\" xlink:href=\"#DejaVuSans-30\"/>\r\n     <use x=\"738.623047\" xlink:href=\"#DejaVuSans-2e\"/>\r\n     <use x=\"770.410156\" xlink:href=\"#DejaVuSans-20\"/>\r\n     <use x=\"802.197266\" xlink:href=\"#DejaVuSans-31\"/>\r\n     <use x=\"865.820312\" xlink:href=\"#DejaVuSans-2e\"/>\r\n     <use x=\"897.607422\" xlink:href=\"#DejaVuSans-20\"/>\r\n     <use x=\"929.394531\" xlink:href=\"#DejaVuSans-30\"/>\r\n     <use x=\"993.017578\" xlink:href=\"#DejaVuSans-2e\"/>\r\n     <use x=\"1024.804688\" xlink:href=\"#DejaVuSans-20\"/>\r\n     <use x=\"1056.591797\" xlink:href=\"#DejaVuSans-30\"/>\r\n     <use x=\"1120.214844\" xlink:href=\"#DejaVuSans-2e\"/>\r\n     <use x=\"1152.001953\" xlink:href=\"#DejaVuSans-20\"/>\r\n     <use x=\"1183.789062\" xlink:href=\"#DejaVuSans-30\"/>\r\n     <use x=\"1247.412109\" xlink:href=\"#DejaVuSans-2e\"/>\r\n     <use x=\"1279.199219\" xlink:href=\"#DejaVuSans-20\"/>\r\n     <use x=\"1310.986328\" xlink:href=\"#DejaVuSans-30\"/>\r\n     <use x=\"1374.609375\" xlink:href=\"#DejaVuSans-2e\"/>\r\n     <use x=\"1406.396484\" xlink:href=\"#DejaVuSans-20\"/>\r\n     <use x=\"1438.183594\" xlink:href=\"#DejaVuSans-30\"/>\r\n     <use x=\"1501.806641\" xlink:href=\"#DejaVuSans-2e\"/>\r\n     <use x=\"1533.59375\" xlink:href=\"#DejaVuSans-20\"/>\r\n     <use x=\"1565.380859\" xlink:href=\"#DejaVuSans-30\"/>\r\n     <use x=\"1629.003906\" xlink:href=\"#DejaVuSans-2e\"/>\r\n     <use x=\"1660.791016\" xlink:href=\"#DejaVuSans-20\"/>\r\n     <use x=\"1692.578125\" xlink:href=\"#DejaVuSans-30\"/>\r\n     <use x=\"1756.201172\" xlink:href=\"#DejaVuSans-2e\"/>\r\n     <use x=\"1787.988281\" xlink:href=\"#DejaVuSans-20\"/>\r\n     <use x=\"1819.775391\" xlink:href=\"#DejaVuSans-30\"/>\r\n     <use x=\"1883.398438\" xlink:href=\"#DejaVuSans-2e\"/>\r\n     <use x=\"1915.185547\" xlink:href=\"#DejaVuSans-20\"/>\r\n     <use x=\"1946.972656\" xlink:href=\"#DejaVuSans-30\"/>\r\n     <use x=\"2010.595703\" xlink:href=\"#DejaVuSans-2e\"/>\r\n     <use x=\"2042.382812\" xlink:href=\"#DejaVuSans-20\"/>\r\n     <use x=\"2074.169922\" xlink:href=\"#DejaVuSans-30\"/>\r\n     <use x=\"2137.792969\" xlink:href=\"#DejaVuSans-2e\"/>\r\n     <use x=\"2169.580078\" xlink:href=\"#DejaVuSans-20\"/>\r\n     <use x=\"2201.367188\" xlink:href=\"#DejaVuSans-30\"/>\r\n     <use x=\"2264.990234\" xlink:href=\"#DejaVuSans-2e\"/>\r\n     <use x=\"2296.777344\" xlink:href=\"#DejaVuSans-20\"/>\r\n     <use x=\"2328.564453\" xlink:href=\"#DejaVuSans-30\"/>\r\n     <use x=\"2392.1875\" xlink:href=\"#DejaVuSans-2e\"/>\r\n     <use x=\"2423.974609\" xlink:href=\"#DejaVuSans-20\"/>\r\n     <use x=\"2455.761719\" xlink:href=\"#DejaVuSans-30\"/>\r\n     <use x=\"2519.384766\" xlink:href=\"#DejaVuSans-2e\"/>\r\n     <use x=\"2551.171875\" xlink:href=\"#DejaVuSans-20\"/>\r\n     <use x=\"2582.958984\" xlink:href=\"#DejaVuSans-30\"/>\r\n     <use x=\"2646.582031\" xlink:href=\"#DejaVuSans-2e\"/>\r\n     <use x=\"2678.369141\" xlink:href=\"#DejaVuSans-20\"/>\r\n     <use x=\"2710.15625\" xlink:href=\"#DejaVuSans-30\"/>\r\n     <use x=\"2773.779297\" xlink:href=\"#DejaVuSans-2e\"/>\r\n     <use x=\"2805.566406\" xlink:href=\"#DejaVuSans-20\"/>\r\n     <use x=\"2837.353516\" xlink:href=\"#DejaVuSans-30\"/>\r\n     <use x=\"2900.976562\" xlink:href=\"#DejaVuSans-2e\"/>\r\n     <use x=\"2932.763672\" xlink:href=\"#DejaVuSans-20\"/>\r\n     <use x=\"2964.550781\" xlink:href=\"#DejaVuSans-30\"/>\r\n     <use x=\"3028.173828\" xlink:href=\"#DejaVuSans-2e\"/>\r\n     <use x=\"3059.960938\" xlink:href=\"#DejaVuSans-5d\"/>\r\n    </g>\r\n   </g>\r\n  </g>\r\n </g>\r\n <defs>\r\n  <clipPath id=\"p9e0d43d28e\">\r\n   <rect height=\"217.44\" width=\"217.44\" x=\"84.405\" y=\"22.318125\"/>\r\n  </clipPath>\r\n </defs>\r\n</svg>\r\n",
            "image/png": "[encoded data removed]"
          },
          "metadata": {
            "needs_background": "light"
          }
        }
      ]
    },
    {
      "cell_type": "code",
      "metadata": {
        "colab": {
          "base_uri": "https://localhost:8080/"
        },
        "id": "4cNguVBPs8LZ",
        "outputId": "f9428b85-d58b-4703-c2d2-28cc28cb6a79"
      },
      "source": [
        "input = Input(shape=(28, 28, 1))\n",
        "\n",
        "hidden = Conv2D(filters=32, kernel_size=3, strides=1, padding='same', activation='relu')(input)\n",
        "hidden = MaxPooling2D(pool_size=2, strides=2)(hidden)\n",
        "\n",
        "hidden = Conv2D(filters=64, kernel_size=3, strides=1, padding='same', activation='relu')(hidden)\n",
        "hidden = MaxPooling2D(pool_size=2, strides=2)(hidden)\n",
        "\n",
        "hidden = Conv2D(filters=32, kernel_size=3, strides=1, padding='same', activation='relu')(hidden)\n",
        "hidden = MaxPooling2D(pool_size=2, strides=2)(hidden)\n",
        "\n",
        "hidden = Flatten()(hidden)\n",
        "\n",
        "hidden = Dense(512, activation='relu')(hidden)\n",
        "\n",
        "hidden = Dropout(rate=0.3)(hidden)\n",
        "\n",
        "output = Dense(24, activation='softmax')(hidden)\n",
        "\n",
        "model = Model(inputs=input, outputs=output)\n",
        "\n",
        "model.compile(loss='categorical_crossentropy', optimizer=Adam(lr=0.001), metrics=['acc'])\n",
        "\n",
        "model.summary()"
      ],
      "execution_count": 33,
      "outputs": [
        {
          "output_type": "stream",
          "name": "stdout",
          "text": [
            "Model: \"model_1\"\n_________________________________________________________________\nLayer (type)                 Output Shape              Param #   \n=================================================================\ninput_2 (InputLayer)         [(None, 28, 28, 1)]       0         \n_________________________________________________________________\nconv2d_3 (Conv2D)            (None, 28, 28, 32)        320       \n_________________________________________________________________\nmax_pooling2d_3 (MaxPooling2 (None, 14, 14, 32)        0         \n_________________________________________________________________\nconv2d_4 (Conv2D)            (None, 14, 14, 64)        18496     \n_________________________________________________________________\nmax_pooling2d_4 (MaxPooling2 (None, 7, 7, 64)          0         \n_________________________________________________________________\nconv2d_5 (Conv2D)            (None, 7, 7, 32)          18464     \n_________________________________________________________________\nmax_pooling2d_5 (MaxPooling2 (None, 3, 3, 32)          0         \n_________________________________________________________________\nflatten_1 (Flatten)          (None, 288)               0         \n_________________________________________________________________\ndense_2 (Dense)              (None, 512)               147968    \n_________________________________________________________________\ndropout_1 (Dropout)          (None, 512)               0         \n_________________________________________________________________\ndense_3 (Dense)              (None, 24)                12312     \n=================================================================\nTotal params: 197,560\nTrainable params: 197,560\nNon-trainable params: 0\n_________________________________________________________________\n"
          ]
        }
      ]
    },
    {
      "cell_type": "code",
      "metadata": {
        "colab": {
          "base_uri": "https://localhost:8080/"
        },
        "id": "9ZX4OlpHvfuO",
        "outputId": "2653c169-4d40-4502-b25e-d72913c37679"
      },
      "source": [
        "history = model.fit(\n",
        "    train_datagen,\n",
        "    validation_data=test_datagen, # 검증 데이터를 넣어주면 한 epoch이 끝날때마다 자동으로 검증\n",
        "    epochs=20 # epochs 복수형으로 쓰기!\n",
        ")"
      ],
      "execution_count": null,
      "outputs": []
    },
    {
      "cell_type": "code",
      "metadata": {
        "colab": {
          "base_uri": "https://localhost:8080/",
          "height": 301
        },
        "id": "kc6p25n1vhVC",
        "outputId": "2f78fff3-a0ec-4b29-b337-770808bd534b"
      },
      "source": [
        "fig, axes = plt.subplots(1, 2, figsize=(20, 6))\n",
        "axes[0].plot(history.history['loss'])\n",
        "axes[0].plot(history.history['val_loss'])\n",
        "axes[1].plot(history.history['acc'])\n",
        "axes[1].plot(history.history['val_acc'])"
      ],
      "execution_count": null,
      "outputs": [
        {
          "output_type": "execute_result",
          "data": {
            "text/plain": [
              "[<matplotlib.lines.Line2D at 0x7f3fb264f588>]"
            ]
          },
          "metadata": {
            "tags": []
          },
          "execution_count": 20
        },
        {
          "output_type": "display_data",
          "data": {
            "image/png": "[encoded data removed]",
            "text/plain": [
              "<Figure size 1440x432 with 2 Axes>"
            ]
          },
          "metadata": {
            "tags": [],
            "needs_background": "light"
          }
        }
      ]
    },
    {
      "cell_type": "code",
      "metadata": {
        "id": "eYr_e_ZTwDMG"
      },
      "source": [],
      "execution_count": null,
      "outputs": []
    }
  ]
}